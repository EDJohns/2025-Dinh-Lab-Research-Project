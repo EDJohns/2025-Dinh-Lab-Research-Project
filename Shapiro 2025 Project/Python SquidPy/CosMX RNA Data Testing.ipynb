{
 "cells": [
  {
   "cell_type": "markdown",
   "id": "042fe34a-44ae-4eff-9525-eb1d5160ac62",
   "metadata": {},
   "source": [
    "### CosMX RNA Annot Cluster Data Analysis\n",
    "\n",
    "This is an exploration of the CosMX RNA data\n",
    "\n",
    "Goals\n",
    "* Load and view the RNA data\n",
    "* Under the cellular notation"
   ]
  },
  {
   "cell_type": "code",
   "execution_count": 7,
   "id": "948b9f00-16f6-4c38-80ad-91c82b3daa05",
   "metadata": {},
   "outputs": [
    {
     "name": "stderr",
     "output_type": "stream",
     "text": [
      "C:\\Users\\evanj\\AppData\\Local\\Temp\\ipykernel_20096\\459457929.py:8: DtypeWarning: Columns (0,1,6,25,26,27,28,29,37,38,39,40,43,44,51,53) have mixed types. Specify dtype option on import or set low_memory=False.\n",
      "  metadata = pd.read_csv(r\"C:\\Users\\evanj\\OneDrive\\Documents\\Shapiro Data Files\\CutdownRNAData\\RNAmetadata-TMA-A Only.csv\", index_col=0)\n"
     ]
    },
    {
     "data": {
      "text/plain": [
       "Index(['ABL2', 'ACE', 'ACE2', 'ACKR1', 'ACKR3', 'ACKR4', 'ACTA2', 'ACTG2',\n",
       "       'ACVR1', 'ACVR1B',\n",
       "       ...\n",
       "       'NegPrb13', 'NegPrb14', 'NegPrb15', 'NegPrb16', 'NegPrb18', 'NegPrb19',\n",
       "       'NegPrb20', 'NegPrb21', 'NegPrb22', 'NegPrb23'],\n",
       "      dtype='object', length=977)"
      ]
     },
     "metadata": {},
     "output_type": "display_data"
    },
    {
     "data": {
      "text/plain": [
       "Index([              0.0,               0.0, 0.693147180559945,\n",
       "                     0.0,               0.0,               0.0,\n",
       "                     0.0,               0.0,               0.0,\n",
       "                     0.0,\n",
       "       ...\n",
       "                     0.0,               0.0,               0.0,\n",
       "                     0.0,               0.0,               0.0,\n",
       "                     0.0,               0.0,               0.0,\n",
       "                     0.0],\n",
       "      dtype='float64', name='ABL1', length=85390)"
      ]
     },
     "metadata": {},
     "output_type": "display_data"
    },
    {
     "ename": "ValueError",
     "evalue": "Length of passed value for obs_names is 248203, but this AnnData has shape: (85390, 977)",
     "output_type": "error",
     "traceback": [
      "\u001b[1;31m---------------------------------------------------------------------------\u001b[0m",
      "\u001b[1;31mValueError\u001b[0m                                Traceback (most recent call last)",
      "Cell \u001b[1;32mIn[7], line 22\u001b[0m\n\u001b[0;32m     19\u001b[0m adata \u001b[38;5;241m=\u001b[39m sc\u001b[38;5;241m.\u001b[39mAnnData(X\u001b[38;5;241m=\u001b[39mexpr\u001b[38;5;241m.\u001b[39mvalues)\n\u001b[0;32m     21\u001b[0m \u001b[38;5;66;03m# # Assign metadata\u001b[39;00m\n\u001b[1;32m---> 22\u001b[0m adata\u001b[38;5;241m.\u001b[39mobs \u001b[38;5;241m=\u001b[39m metadata\n\u001b[0;32m     23\u001b[0m adata\u001b[38;5;241m.\u001b[39mvar_names \u001b[38;5;241m=\u001b[39m expr\u001b[38;5;241m.\u001b[39mcolumns\n\u001b[0;32m     24\u001b[0m adata\u001b[38;5;241m.\u001b[39mobs_names \u001b[38;5;241m=\u001b[39m expr\u001b[38;5;241m.\u001b[39mindex\n",
      "File \u001b[1;32m~\\anaconda3\\Lib\\site-packages\\anndata\\_core\\anndata.py:799\u001b[0m, in \u001b[0;36mAnnData.obs\u001b[1;34m(self, value)\u001b[0m\n\u001b[0;32m    797\u001b[0m \u001b[38;5;129m@obs\u001b[39m\u001b[38;5;241m.\u001b[39msetter\n\u001b[0;32m    798\u001b[0m \u001b[38;5;28;01mdef\u001b[39;00m \u001b[38;5;21mobs\u001b[39m(\u001b[38;5;28mself\u001b[39m, value: pd\u001b[38;5;241m.\u001b[39mDataFrame):\n\u001b[1;32m--> 799\u001b[0m     \u001b[38;5;28mself\u001b[39m\u001b[38;5;241m.\u001b[39m_set_dim_df(value, \u001b[38;5;124m\"\u001b[39m\u001b[38;5;124mobs\u001b[39m\u001b[38;5;124m\"\u001b[39m)\n",
      "File \u001b[1;32m~\\anaconda3\\Lib\\site-packages\\anndata\\_core\\anndata.py:740\u001b[0m, in \u001b[0;36mAnnData._set_dim_df\u001b[1;34m(self, value, attr)\u001b[0m\n\u001b[0;32m    738\u001b[0m     \u001b[38;5;28;01mraise\u001b[39;00m \u001b[38;5;167;01mValueError\u001b[39;00m(msg)\n\u001b[0;32m    739\u001b[0m raise_value_error_if_multiindex_columns(value, attr)\n\u001b[1;32m--> 740\u001b[0m value_idx \u001b[38;5;241m=\u001b[39m \u001b[38;5;28mself\u001b[39m\u001b[38;5;241m.\u001b[39m_prep_dim_index(value\u001b[38;5;241m.\u001b[39mindex, attr)\n\u001b[0;32m    741\u001b[0m \u001b[38;5;28;01mif\u001b[39;00m \u001b[38;5;28mself\u001b[39m\u001b[38;5;241m.\u001b[39mis_view:\n\u001b[0;32m    742\u001b[0m     \u001b[38;5;28mself\u001b[39m\u001b[38;5;241m.\u001b[39m_init_as_actual(\u001b[38;5;28mself\u001b[39m\u001b[38;5;241m.\u001b[39mcopy())\n",
      "File \u001b[1;32m~\\anaconda3\\Lib\\site-packages\\anndata\\_core\\anndata.py:755\u001b[0m, in \u001b[0;36mAnnData._prep_dim_index\u001b[1;34m(self, value, attr)\u001b[0m\n\u001b[0;32m    753\u001b[0m \u001b[38;5;28;01mif\u001b[39;00m \u001b[38;5;28mself\u001b[39m\u001b[38;5;241m.\u001b[39mshape[attr \u001b[38;5;241m==\u001b[39m \u001b[38;5;124m\"\u001b[39m\u001b[38;5;124mvar\u001b[39m\u001b[38;5;124m\"\u001b[39m] \u001b[38;5;241m!=\u001b[39m \u001b[38;5;28mlen\u001b[39m(value):\n\u001b[0;32m    754\u001b[0m     msg \u001b[38;5;241m=\u001b[39m \u001b[38;5;124mf\u001b[39m\u001b[38;5;124m\"\u001b[39m\u001b[38;5;124mLength of passed value for \u001b[39m\u001b[38;5;132;01m{\u001b[39;00mattr\u001b[38;5;132;01m}\u001b[39;00m\u001b[38;5;124m_names is \u001b[39m\u001b[38;5;132;01m{\u001b[39;00m\u001b[38;5;28mlen\u001b[39m(value)\u001b[38;5;132;01m}\u001b[39;00m\u001b[38;5;124m, but this AnnData has shape: \u001b[39m\u001b[38;5;132;01m{\u001b[39;00m\u001b[38;5;28mself\u001b[39m\u001b[38;5;241m.\u001b[39mshape\u001b[38;5;132;01m}\u001b[39;00m\u001b[38;5;124m\"\u001b[39m\n\u001b[1;32m--> 755\u001b[0m     \u001b[38;5;28;01mraise\u001b[39;00m \u001b[38;5;167;01mValueError\u001b[39;00m(msg)\n\u001b[0;32m    756\u001b[0m \u001b[38;5;28;01mif\u001b[39;00m \u001b[38;5;28misinstance\u001b[39m(value, pd\u001b[38;5;241m.\u001b[39mIndex) \u001b[38;5;129;01mand\u001b[39;00m \u001b[38;5;129;01mnot\u001b[39;00m \u001b[38;5;28misinstance\u001b[39m(value\u001b[38;5;241m.\u001b[39mname, \u001b[38;5;28mstr\u001b[39m \u001b[38;5;241m|\u001b[39m \u001b[38;5;28mtype\u001b[39m(\u001b[38;5;28;01mNone\u001b[39;00m)):\n\u001b[0;32m    757\u001b[0m     msg \u001b[38;5;241m=\u001b[39m (\n\u001b[0;32m    758\u001b[0m         \u001b[38;5;124mf\u001b[39m\u001b[38;5;124m\"\u001b[39m\u001b[38;5;124mAnnData expects .\u001b[39m\u001b[38;5;132;01m{\u001b[39;00mattr\u001b[38;5;132;01m}\u001b[39;00m\u001b[38;5;124m.index.name to be a string or None, \u001b[39m\u001b[38;5;124m\"\u001b[39m\n\u001b[0;32m    759\u001b[0m         \u001b[38;5;124mf\u001b[39m\u001b[38;5;124m\"\u001b[39m\u001b[38;5;124mbut you passed a name of type \u001b[39m\u001b[38;5;132;01m{\u001b[39;00m\u001b[38;5;28mtype\u001b[39m(value\u001b[38;5;241m.\u001b[39mname)\u001b[38;5;241m.\u001b[39m\u001b[38;5;18m__name__\u001b[39m\u001b[38;5;132;01m!r}\u001b[39;00m\u001b[38;5;124m\"\u001b[39m\n\u001b[0;32m    760\u001b[0m     )\n",
      "\u001b[1;31mValueError\u001b[0m: Length of passed value for obs_names is 248203, but this AnnData has shape: (85390, 977)"
     ]
    }
   ],
   "source": [
    "import scanpy as sc\n",
    "import squidpy as sq\n",
    "import pandas as pd\n",
    "import numpy as np\n",
    "\n",
    "# Load files\n",
    "expr = pd.read_csv(r\"C:\\Users\\evanj\\OneDrive\\Documents\\Shapiro Data Files\\CutdownRNAData\\RNAexpression_Transpose-TMA-A Only.csv\", index_col=0)\n",
    "metadata = pd.read_csv(r\"C:\\Users\\evanj\\OneDrive\\Documents\\Shapiro Data Files\\CutdownRNAData\\RNAmetadata-TMA-A Only.csv\", index_col=0)\n",
    "umap = pd.read_csv(r\"C:\\Users\\evanj\\OneDrive\\Documents\\Shapiro Data Files\\CutdownRNAData\\RNAumap-TMA-A Only.csv\", index_col=0)\n",
    "\n",
    "# Display General Data on the imported data. Run the import first\n",
    "# display(expr.head(5))\n",
    "# display(metadata.head(5))\n",
    "# display(umap.head(5))\n",
    "display(expr.columns)\n",
    "display(expr.index)\n",
    "\n",
    "# # Create AnnData object\n",
    "adata = sc.AnnData(X=expr.values)\n",
    "\n",
    "# # Assign metadata\n",
    "adata.obs = metadata\n",
    "adata.var_names = expr.columns\n",
    "adata.obs_names = expr.index"
   ]
  },
  {
   "cell_type": "code",
   "execution_count": 1,
   "id": "46adb2b3-1194-4ac8-9f46-22cb16954348",
   "metadata": {},
   "outputs": [
    {
     "name": "stderr",
     "output_type": "stream",
     "text": [
      "C:\\Users\\evanj\\anaconda3\\Lib\\site-packages\\paramiko\\pkey.py:82: CryptographyDeprecationWarning: TripleDES has been moved to cryptography.hazmat.decrepit.ciphers.algorithms.TripleDES and will be removed from this module in 48.0.0.\n",
      "  \"cipher\": algorithms.TripleDES,\n",
      "C:\\Users\\evanj\\anaconda3\\Lib\\site-packages\\paramiko\\transport.py:219: CryptographyDeprecationWarning: Blowfish has been moved to cryptography.hazmat.decrepit.ciphers.algorithms.Blowfish and will be removed from this module in 45.0.0.\n",
      "  \"class\": algorithms.Blowfish,\n",
      "C:\\Users\\evanj\\anaconda3\\Lib\\site-packages\\paramiko\\transport.py:243: CryptographyDeprecationWarning: TripleDES has been moved to cryptography.hazmat.decrepit.ciphers.algorithms.TripleDES and will be removed from this module in 48.0.0.\n",
      "  \"class\": algorithms.TripleDES,\n",
      "C:\\Users\\evanj\\anaconda3\\Lib\\site-packages\\anndata\\utils.py:434: FutureWarning: Importing read_text from `anndata` is deprecated. Import anndata.io.read_text instead.\n",
      "  warnings.warn(msg, FutureWarning)\n"
     ]
    }
   ],
   "source": [
    "# Cell to transpose the CSV exrp data into a new files\n",
    "\n",
    "import scanpy as sc\n",
    "import squidpy as sq\n",
    "import pandas as pd\n",
    "import numpy as np\n",
    "\n",
    "# Load files\n",
    "expr_orig = pd.read_csv(r\"C:\\Users\\evanj\\OneDrive\\Documents\\RNAexpression.csv\", index_col=0)\n",
    "expr=expr_orig.transpose()\n",
    "expr.to_csv(\"RNAexpression_Transpose.csv\", index=False)"
   ]
  },
  {
   "cell_type": "code",
   "execution_count": 2,
   "id": "5fe02283-6526-44fa-942e-fc04a79e0a81",
   "metadata": {},
   "outputs": [
    {
     "name": "stdout",
     "output_type": "stream",
     "text": [
      "C:\\Users\\evanj\\Documents\\2025-Dinh-Lab-Research-Project\\Shapiro 2025 Project\\Python SquidPy\n"
     ]
    }
   ],
   "source": [
    "import os\n",
    "print(os.getcwd())"
   ]
  }
 ],
 "metadata": {
  "kernelspec": {
   "display_name": "Python 3 (ipykernel)",
   "language": "python",
   "name": "python3"
  },
  "language_info": {
   "codemirror_mode": {
    "name": "ipython",
    "version": 3
   },
   "file_extension": ".py",
   "mimetype": "text/x-python",
   "name": "python",
   "nbconvert_exporter": "python",
   "pygments_lexer": "ipython3",
   "version": "3.11.5"
  }
 },
 "nbformat": 4,
 "nbformat_minor": 5
}
