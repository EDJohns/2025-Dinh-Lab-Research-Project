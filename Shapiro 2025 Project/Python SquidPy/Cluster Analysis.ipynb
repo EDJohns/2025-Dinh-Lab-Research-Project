{
 "cells": [
  {
   "cell_type": "markdown",
   "id": "741bae2a-f15f-4ded-a668-6b8e2c87f7e2",
   "metadata": {},
   "source": [
    "## Cluster Analysis\n",
    "\n",
    "The COSMX protein data was previously run through a co-localization analysis which cells PMNs are physically near. This is used as a proxy for cell-cell interaction. The next step is to take that Z-score data results and run it through a clustering algorithum to determine if responders or nonresponders have different interaction profiles. Primarly use the python **sklearn** library.\n",
    "\n",
    "#### Types of clustering methods\n",
    "1. K-means: The kmeans algorithium clusters data by sperating the data into groups with equal variance. This is perhaps the most common method but can run into the issue of local mininum. Since it uses a least squared method of finding these centers of least variance it can find a local mininum even if there is a better location elsewhere. Works by essentially assigning centroids and then iterating by least squares to find location of minimum local variance.\n",
    "2. Mean Shift:\n",
    "3. Affinity Propagation:"
   ]
  },
  {
   "cell_type": "markdown",
   "id": "9a86b164-48e0-4664-aa88-db5d96761138",
   "metadata": {
    "jp-MarkdownHeadingCollapsed": true
   },
   "source": [
    "### K Means Tutorial Long\n",
    "\n",
    "We select a subset of 4 topics only accounting for around 3,400 documents. See the example Classification of text documents using sparse features to gain intuition on the overlap of such topics."
   ]
  },
  {
   "cell_type": "code",
   "execution_count": 1,
   "id": "5d41062c-fd9c-4015-930b-09677bba6598",
   "metadata": {},
   "outputs": [
    {
     "name": "stdout",
     "output_type": "stream",
     "text": [
      "3387 documents - 4 categories\n"
     ]
    }
   ],
   "source": [
    "import numpy as np\n",
    "\n",
    "from sklearn.datasets import fetch_20newsgroups\n",
    "\n",
    "categories = [\n",
    "    \"alt.atheism\",\n",
    "    \"talk.religion.misc\",\n",
    "    \"comp.graphics\",\n",
    "    \"sci.space\",\n",
    "]\n",
    "\n",
    "dataset = fetch_20newsgroups(\n",
    "    remove=(\"headers\", \"footers\", \"quotes\"),\n",
    "    subset=\"all\",\n",
    "    categories=categories,\n",
    "    shuffle=True,\n",
    "    random_state=42,\n",
    ")\n",
    "\n",
    "labels = dataset.target\n",
    "unique_labels, category_sizes = np.unique(labels, return_counts=True)\n",
    "true_k = unique_labels.shape[0]\n",
    "\n",
    "print(f\"{len(dataset.data)} documents - {true_k} categories\")"
   ]
  },
  {
   "cell_type": "markdown",
   "id": "99a502c0-98b1-4d97-bd86-fa65cb39e813",
   "metadata": {},
   "source": [
    "#### Quantifying the quality of clustering results\n",
    "\n"
   ]
  },
  {
   "cell_type": "code",
   "execution_count": 4,
   "id": "e1bce1c9-ac5e-45ef-a519-12d13f629af0",
   "metadata": {},
   "outputs": [],
   "source": [
    "from collections import defaultdict\n",
    "from time import time\n",
    "\n",
    "from sklearn import metrics\n",
    "\n",
    "evaluations = []\n",
    "evaluations_std = []\n",
    "\n",
    "\n",
    "def fit_and_evaluate(km, X, name=None, n_runs=5):\n",
    "    name = km.__class__.__name__ if name is None else name\n",
    "\n",
    "    train_times = []\n",
    "    scores = defaultdict(list)\n",
    "    for seed in range(n_runs):\n",
    "        km.set_params(random_state=seed)\n",
    "        t0 = time()\n",
    "        km.fit(X)\n",
    "        train_times.append(time() - t0)\n",
    "        scores[\"Homogeneity\"].append(metrics.homogeneity_score(labels, km.labels_))\n",
    "        scores[\"Completeness\"].append(metrics.completeness_score(labels, km.labels_))\n",
    "        scores[\"V-measure\"].append(metrics.v_measure_score(labels, km.labels_))\n",
    "        scores[\"Adjusted Rand-Index\"].append(\n",
    "            metrics.adjusted_rand_score(labels, km.labels_)\n",
    "        )\n",
    "        scores[\"Silhouette Coefficient\"].append(\n",
    "            metrics.silhouette_score(X, km.labels_, sample_size=2000)\n",
    "        )\n",
    "    train_times = np.asarray(train_times)\n",
    "\n",
    "    print(f\"clustering done in {train_times.mean():.2f} ± {train_times.std():.2f} s \")\n",
    "    evaluation = {\n",
    "        \"estimator\": name,\n",
    "        \"train_time\": train_times.mean(),\n",
    "    }\n",
    "    evaluation_std = {\n",
    "        \"estimator\": name,\n",
    "        \"train_time\": train_times.std(),\n",
    "    }\n",
    "    for score_name, score_values in scores.items():\n",
    "        mean_score, std_score = np.mean(score_values), np.std(score_values)\n",
    "        print(f\"{score_name}: {mean_score:.3f} ± {std_score:.3f}\")\n",
    "        evaluation[score_name] = mean_score\n",
    "        evaluation_std[score_name] = std_score\n",
    "    evaluations.append(evaluation)\n",
    "    evaluations_std.append(evaluation_std)"
   ]
  },
  {
   "cell_type": "code",
   "execution_count": 6,
   "id": "a8f4b727-e228-4167-8807-ae021ae543e4",
   "metadata": {},
   "outputs": [
    {
     "name": "stdout",
     "output_type": "stream",
     "text": [
      "vectorization done in 0.222 s\n",
      "n_samples: 3387, n_features: 7929\n",
      "0.007\n"
     ]
    }
   ],
   "source": [
    "from sklearn.feature_extraction.text import TfidfVectorizer\n",
    "\n",
    "vectorizer = TfidfVectorizer(\n",
    "    max_df=0.5,\n",
    "    min_df=5,\n",
    "    stop_words=\"english\",\n",
    ")\n",
    "t0 = time()\n",
    "X_tfidf = vectorizer.fit_transform(dataset.data)\n",
    "\n",
    "print(f\"vectorization done in {time() - t0:.3f} s\")\n",
    "print(f\"n_samples: {X_tfidf.shape[0]}, n_features: {X_tfidf.shape[1]}\")\n",
    "print(f\"{X_tfidf.nnz / np.prod(X_tfidf.shape):.3f}\")"
   ]
  },
  {
   "cell_type": "code",
   "execution_count": 27,
   "id": "ac55f486-5939-4a7e-97f8-b26b00b9301a",
   "metadata": {},
   "outputs": [
    {
     "name": "stdout",
     "output_type": "stream",
     "text": [
      "Number of elements assigned to each cluster: [   1    7 3377    2]\n",
      "Number of elements assigned to each cluster: [ 699 1833  252  603]\n",
      "Number of elements assigned to each cluster: [3379    1    6    1]\n",
      "Number of elements assigned to each cluster: [ 527  752 1863  245]\n",
      "Number of elements assigned to each cluster: [  87  702  667 1931]\n",
      "\n",
      "True number of documents in each category according to the class labels: [799 973 987 628]\n"
     ]
    }
   ],
   "source": [
    "from sklearn.cluster import KMeans\n",
    "\n",
    "for seed in range(6,11):\n",
    "    kmeans = KMeans(\n",
    "        n_clusters=true_k,\n",
    "        max_iter=100,\n",
    "        n_init=1,\n",
    "        random_state=seed,\n",
    "    ).fit(X_tfidf)\n",
    "    cluster_ids, cluster_sizes = np.unique(kmeans.labels_, return_counts=True)\n",
    "    print(f\"Number of elements assigned to each cluster: {cluster_sizes}\")\n",
    "print()\n",
    "print(\n",
    "    \"True number of documents in each category according to the class labels: \"\n",
    "    f\"{category_sizes}\"\n",
    ")"
   ]
  },
  {
   "cell_type": "code",
   "execution_count": 9,
   "id": "426d7e2e-c20b-4559-9b25-3d43644b37c1",
   "metadata": {},
   "outputs": [
    {
     "name": "stdout",
     "output_type": "stream",
     "text": [
      "clustering done in 0.11 ± 0.02 s \n",
      "Homogeneity: 0.349 ± 0.010\n",
      "Completeness: 0.398 ± 0.009\n",
      "V-measure: 0.372 ± 0.009\n",
      "Adjusted Rand-Index: 0.203 ± 0.017\n",
      "Silhouette Coefficient: 0.007 ± 0.000\n"
     ]
    }
   ],
   "source": [
    "kmeans = KMeans(\n",
    "    n_clusters=true_k,\n",
    "    max_iter=100,\n",
    "    n_init=5,\n",
    ")\n",
    "\n",
    "fit_and_evaluate(kmeans, X_tfidf, name=\"KMeans\\non tf-idf vectors\")"
   ]
  },
  {
   "cell_type": "code",
   "execution_count": 10,
   "id": "ae394f93-2580-4fe9-b5fa-c7313866449f",
   "metadata": {},
   "outputs": [
    {
     "name": "stdout",
     "output_type": "stream",
     "text": [
      "LSA done in 0.186 s\n",
      "Explained variance of the SVD step: 18.4%\n"
     ]
    }
   ],
   "source": [
    "from sklearn.decomposition import TruncatedSVD\n",
    "from sklearn.pipeline import make_pipeline\n",
    "from sklearn.preprocessing import Normalizer\n",
    "\n",
    "lsa = make_pipeline(TruncatedSVD(n_components=100), Normalizer(copy=False))\n",
    "t0 = time()\n",
    "X_lsa = lsa.fit_transform(X_tfidf)\n",
    "explained_variance = lsa[0].explained_variance_ratio_.sum()\n",
    "\n",
    "print(f\"LSA done in {time() - t0:.3f} s\")\n",
    "print(f\"Explained variance of the SVD step: {explained_variance * 100:.1f}%\")"
   ]
  },
  {
   "cell_type": "code",
   "execution_count": 16,
   "id": "8c56e307-496f-4c67-8ee2-65e4b95413c7",
   "metadata": {},
   "outputs": [
    {
     "name": "stderr",
     "output_type": "stream",
     "text": [
      "C:\\Users\\ejohns\\AppData\\Local\\anaconda3\\Lib\\site-packages\\sklearn\\cluster\\_kmeans.py:1429: UserWarning: KMeans is known to have a memory leak on Windows with MKL, when there are less chunks than available threads. You can avoid it by setting the environment variable OMP_NUM_THREADS=14.\n",
      "  warnings.warn(\n",
      "C:\\Users\\ejohns\\AppData\\Local\\anaconda3\\Lib\\site-packages\\sklearn\\cluster\\_kmeans.py:1429: UserWarning: KMeans is known to have a memory leak on Windows with MKL, when there are less chunks than available threads. You can avoid it by setting the environment variable OMP_NUM_THREADS=14.\n",
      "  warnings.warn(\n",
      "C:\\Users\\ejohns\\AppData\\Local\\anaconda3\\Lib\\site-packages\\sklearn\\cluster\\_kmeans.py:1429: UserWarning: KMeans is known to have a memory leak on Windows with MKL, when there are less chunks than available threads. You can avoid it by setting the environment variable OMP_NUM_THREADS=14.\n",
      "  warnings.warn(\n",
      "C:\\Users\\ejohns\\AppData\\Local\\anaconda3\\Lib\\site-packages\\sklearn\\cluster\\_kmeans.py:1429: UserWarning: KMeans is known to have a memory leak on Windows with MKL, when there are less chunks than available threads. You can avoid it by setting the environment variable OMP_NUM_THREADS=14.\n",
      "  warnings.warn(\n"
     ]
    },
    {
     "name": "stdout",
     "output_type": "stream",
     "text": [
      "clustering done in 0.02 ± 0.00 s \n",
      "Homogeneity: 0.399 ± 0.015\n",
      "Completeness: 0.435 ± 0.021\n",
      "V-measure: 0.416 ± 0.017\n",
      "Adjusted Rand-Index: 0.312 ± 0.026\n",
      "Silhouette Coefficient: 0.030 ± 0.002\n"
     ]
    },
    {
     "name": "stderr",
     "output_type": "stream",
     "text": [
      "C:\\Users\\ejohns\\AppData\\Local\\anaconda3\\Lib\\site-packages\\sklearn\\cluster\\_kmeans.py:1429: UserWarning: KMeans is known to have a memory leak on Windows with MKL, when there are less chunks than available threads. You can avoid it by setting the environment variable OMP_NUM_THREADS=14.\n",
      "  warnings.warn(\n"
     ]
    }
   ],
   "source": [
    "kmeans = KMeans(\n",
    "    n_clusters=true_k,\n",
    "    max_iter=100,\n",
    "    n_init=1,\n",
    ")\n",
    "\n",
    "fit_and_evaluate(kmeans, X_lsa, name=\"KMeans\\nwith LSA on tf-idf vectors\")"
   ]
  },
  {
   "cell_type": "code",
   "execution_count": 17,
   "id": "8d5119b4-24d5-40a3-8470-d7f5772cb952",
   "metadata": {},
   "outputs": [
    {
     "name": "stderr",
     "output_type": "stream",
     "text": [
      "C:\\Users\\ejohns\\AppData\\Local\\anaconda3\\Lib\\site-packages\\sklearn\\cluster\\_kmeans.py:1955: UserWarning: MiniBatchKMeans is known to have a memory leak on Windows with MKL, when there are less chunks than available threads. You can prevent it by setting batch_size >= 4096 or by setting the environment variable OMP_NUM_THREADS=14\n",
      "  warnings.warn(\n",
      "C:\\Users\\ejohns\\AppData\\Local\\anaconda3\\Lib\\site-packages\\sklearn\\cluster\\_kmeans.py:1955: UserWarning: MiniBatchKMeans is known to have a memory leak on Windows with MKL, when there are less chunks than available threads. You can prevent it by setting batch_size >= 4096 or by setting the environment variable OMP_NUM_THREADS=14\n",
      "  warnings.warn(\n",
      "C:\\Users\\ejohns\\AppData\\Local\\anaconda3\\Lib\\site-packages\\sklearn\\cluster\\_kmeans.py:1955: UserWarning: MiniBatchKMeans is known to have a memory leak on Windows with MKL, when there are less chunks than available threads. You can prevent it by setting batch_size >= 4096 or by setting the environment variable OMP_NUM_THREADS=14\n",
      "  warnings.warn(\n",
      "C:\\Users\\ejohns\\AppData\\Local\\anaconda3\\Lib\\site-packages\\sklearn\\cluster\\_kmeans.py:1955: UserWarning: MiniBatchKMeans is known to have a memory leak on Windows with MKL, when there are less chunks than available threads. You can prevent it by setting batch_size >= 4096 or by setting the environment variable OMP_NUM_THREADS=14\n",
      "  warnings.warn(\n",
      "C:\\Users\\ejohns\\AppData\\Local\\anaconda3\\Lib\\site-packages\\sklearn\\cluster\\_kmeans.py:1955: UserWarning: MiniBatchKMeans is known to have a memory leak on Windows with MKL, when there are less chunks than available threads. You can prevent it by setting batch_size >= 4096 or by setting the environment variable OMP_NUM_THREADS=14\n",
      "  warnings.warn(\n"
     ]
    },
    {
     "name": "stdout",
     "output_type": "stream",
     "text": [
      "clustering done in 0.12 ± 0.03 s \n",
      "Homogeneity: 0.322 ± 0.090\n",
      "Completeness: 0.362 ± 0.068\n",
      "V-measure: 0.337 ± 0.078\n",
      "Adjusted Rand-Index: 0.258 ± 0.114\n",
      "Silhouette Coefficient: 0.021 ± 0.008\n"
     ]
    }
   ],
   "source": [
    "from sklearn.cluster import MiniBatchKMeans\n",
    "\n",
    "minibatch_kmeans = MiniBatchKMeans(\n",
    "    n_clusters=true_k,\n",
    "    n_init=1,\n",
    "    init_size=1000,\n",
    "    batch_size=4097 ,\n",
    ")\n",
    "\n",
    "fit_and_evaluate(\n",
    "    minibatch_kmeans,\n",
    "    X_lsa,\n",
    "    name=\"MiniBatchKMeans\\nwith LSA on tf-idf vectors\",\n",
    ")"
   ]
  },
  {
   "cell_type": "code",
   "execution_count": 18,
   "id": "19b868c3-eedc-44c1-a81e-3e5ae033f128",
   "metadata": {},
   "outputs": [
    {
     "name": "stdout",
     "output_type": "stream",
     "text": [
      "Cluster 0: space nasa shuttle launch station program sci think like just \n",
      "Cluster 1: thanks graphics image file program files know looking help format \n",
      "Cluster 2: just like think don time know sure does good ve \n",
      "Cluster 3: god people don think jesus religion bible say believe christian \n"
     ]
    }
   ],
   "source": [
    "original_space_centroids = lsa[0].inverse_transform(kmeans.cluster_centers_)\n",
    "order_centroids = original_space_centroids.argsort()[:, ::-1]\n",
    "terms = vectorizer.get_feature_names_out()\n",
    "\n",
    "for i in range(true_k):\n",
    "    print(f\"Cluster {i}: \", end=\"\")\n",
    "    for ind in order_centroids[i, :10]:\n",
    "        print(f\"{terms[ind]} \", end=\"\")\n",
    "    print()"
   ]
  },
  {
   "cell_type": "code",
   "execution_count": 19,
   "id": "9cbbddd1-c216-400f-964c-abe790136241",
   "metadata": {},
   "outputs": [
    {
     "name": "stdout",
     "output_type": "stream",
     "text": [
      "vectorization done in 0.757 s\n"
     ]
    }
   ],
   "source": [
    "from sklearn.feature_extraction.text import HashingVectorizer, TfidfTransformer\n",
    "\n",
    "lsa_vectorizer = make_pipeline(\n",
    "    HashingVectorizer(stop_words=\"english\", n_features=50_000),\n",
    "    TfidfTransformer(),\n",
    "    TruncatedSVD(n_components=100, random_state=0),\n",
    "    Normalizer(copy=False),\n",
    ")\n",
    "\n",
    "t0 = time()\n",
    "X_hashed_lsa = lsa_vectorizer.fit_transform(dataset.data)\n",
    "print(f\"vectorization done in {time() - t0:.3f} s\")"
   ]
  },
  {
   "cell_type": "code",
   "execution_count": 21,
   "id": "bee946e8-7220-4cf3-abf2-c3ba80041b0d",
   "metadata": {},
   "outputs": [
    {
     "name": "stderr",
     "output_type": "stream",
     "text": [
      "C:\\Users\\ejohns\\AppData\\Local\\anaconda3\\Lib\\site-packages\\sklearn\\cluster\\_kmeans.py:1429: UserWarning: KMeans is known to have a memory leak on Windows with MKL, when there are less chunks than available threads. You can avoid it by setting the environment variable OMP_NUM_THREADS=14.\n",
      "  warnings.warn(\n",
      "C:\\Users\\ejohns\\AppData\\Local\\anaconda3\\Lib\\site-packages\\sklearn\\cluster\\_kmeans.py:1429: UserWarning: KMeans is known to have a memory leak on Windows with MKL, when there are less chunks than available threads. You can avoid it by setting the environment variable OMP_NUM_THREADS=14.\n",
      "  warnings.warn(\n",
      "C:\\Users\\ejohns\\AppData\\Local\\anaconda3\\Lib\\site-packages\\sklearn\\cluster\\_kmeans.py:1429: UserWarning: KMeans is known to have a memory leak on Windows with MKL, when there are less chunks than available threads. You can avoid it by setting the environment variable OMP_NUM_THREADS=14.\n",
      "  warnings.warn(\n"
     ]
    },
    {
     "name": "stdout",
     "output_type": "stream",
     "text": [
      "clustering done in 0.02 ± 0.00 s \n",
      "Homogeneity: 0.393 ± 0.010\n",
      "Completeness: 0.438 ± 0.018\n",
      "V-measure: 0.414 ± 0.014\n",
      "Adjusted Rand-Index: 0.311 ± 0.007\n",
      "Silhouette Coefficient: 0.029 ± 0.000\n"
     ]
    },
    {
     "name": "stderr",
     "output_type": "stream",
     "text": [
      "C:\\Users\\ejohns\\AppData\\Local\\anaconda3\\Lib\\site-packages\\sklearn\\cluster\\_kmeans.py:1429: UserWarning: KMeans is known to have a memory leak on Windows with MKL, when there are less chunks than available threads. You can avoid it by setting the environment variable OMP_NUM_THREADS=14.\n",
      "  warnings.warn(\n",
      "C:\\Users\\ejohns\\AppData\\Local\\anaconda3\\Lib\\site-packages\\sklearn\\cluster\\_kmeans.py:1429: UserWarning: KMeans is known to have a memory leak on Windows with MKL, when there are less chunks than available threads. You can avoid it by setting the environment variable OMP_NUM_THREADS=14.\n",
      "  warnings.warn(\n"
     ]
    }
   ],
   "source": [
    "fit_and_evaluate(kmeans, X_hashed_lsa, name=\"KMeans\\nwith LSA on hashed vectors\")"
   ]
  },
  {
   "cell_type": "code",
   "execution_count": 22,
   "id": "b6ceba09-bdee-45c3-b1f5-216cfa06b003",
   "metadata": {},
   "outputs": [
    {
     "name": "stderr",
     "output_type": "stream",
     "text": [
      "C:\\Users\\ejohns\\AppData\\Local\\anaconda3\\Lib\\site-packages\\sklearn\\cluster\\_kmeans.py:1955: UserWarning: MiniBatchKMeans is known to have a memory leak on Windows with MKL, when there are less chunks than available threads. You can prevent it by setting batch_size >= 4096 or by setting the environment variable OMP_NUM_THREADS=14\n",
      "  warnings.warn(\n",
      "C:\\Users\\ejohns\\AppData\\Local\\anaconda3\\Lib\\site-packages\\sklearn\\cluster\\_kmeans.py:1955: UserWarning: MiniBatchKMeans is known to have a memory leak on Windows with MKL, when there are less chunks than available threads. You can prevent it by setting batch_size >= 4096 or by setting the environment variable OMP_NUM_THREADS=14\n",
      "  warnings.warn(\n",
      "C:\\Users\\ejohns\\AppData\\Local\\anaconda3\\Lib\\site-packages\\sklearn\\cluster\\_kmeans.py:1955: UserWarning: MiniBatchKMeans is known to have a memory leak on Windows with MKL, when there are less chunks than available threads. You can prevent it by setting batch_size >= 4096 or by setting the environment variable OMP_NUM_THREADS=14\n",
      "  warnings.warn(\n",
      "C:\\Users\\ejohns\\AppData\\Local\\anaconda3\\Lib\\site-packages\\sklearn\\cluster\\_kmeans.py:1955: UserWarning: MiniBatchKMeans is known to have a memory leak on Windows with MKL, when there are less chunks than available threads. You can prevent it by setting batch_size >= 4096 or by setting the environment variable OMP_NUM_THREADS=14\n",
      "  warnings.warn(\n",
      "C:\\Users\\ejohns\\AppData\\Local\\anaconda3\\Lib\\site-packages\\sklearn\\cluster\\_kmeans.py:1955: UserWarning: MiniBatchKMeans is known to have a memory leak on Windows with MKL, when there are less chunks than available threads. You can prevent it by setting batch_size >= 4096 or by setting the environment variable OMP_NUM_THREADS=14\n",
      "  warnings.warn(\n"
     ]
    },
    {
     "name": "stdout",
     "output_type": "stream",
     "text": [
      "clustering done in 0.13 ± 0.03 s \n",
      "Homogeneity: 0.359 ± 0.036\n",
      "Completeness: 0.378 ± 0.029\n",
      "V-measure: 0.368 ± 0.032\n",
      "Adjusted Rand-Index: 0.332 ± 0.030\n",
      "Silhouette Coefficient: 0.026 ± 0.004\n"
     ]
    }
   ],
   "source": [
    "fit_and_evaluate(\n",
    "    minibatch_kmeans,\n",
    "    X_hashed_lsa,\n",
    "    name=\"MiniBatchKMeans\\nwith LSA on hashed vectors\",\n",
    ")"
   ]
  },
  {
   "cell_type": "code",
   "execution_count": 23,
   "id": "337b24f8-2ec3-47a7-bb78-a67ea192e879",
   "metadata": {},
   "outputs": [
    {
     "data": {
      "image/png": "[encoded data removed]",
      "text/plain": [
       "<Figure size 1600x600 with 2 Axes>"
      ]
     },
     "metadata": {},
     "output_type": "display_data"
    }
   ],
   "source": [
    "import matplotlib.pyplot as plt\n",
    "import pandas as pd\n",
    "\n",
    "fig, (ax0, ax1) = plt.subplots(ncols=2, figsize=(16, 6), sharey=True)\n",
    "\n",
    "df = pd.DataFrame(evaluations[::-1]).set_index(\"estimator\")\n",
    "df_std = pd.DataFrame(evaluations_std[::-1]).set_index(\"estimator\")\n",
    "\n",
    "df.drop(\n",
    "    [\"train_time\"],\n",
    "    axis=\"columns\",\n",
    ").plot.barh(ax=ax0, xerr=df_std)\n",
    "ax0.set_xlabel(\"Clustering scores\")\n",
    "ax0.set_ylabel(\"\")\n",
    "\n",
    "df[\"train_time\"].plot.barh(ax=ax1, xerr=df_std[\"train_time\"])\n",
    "ax1.set_xlabel(\"Clustering time (s)\")\n",
    "plt.tight_layout()"
   ]
  },
  {
   "cell_type": "code",
   "execution_count": 29,
   "id": "a1efaf6e-fc20-4773-be24-8b4fdabfaf80",
   "metadata": {},
   "outputs": [
    {
     "name": "stdout",
     "output_type": "stream",
     "text": [
      "Automatically created module for IPython interactive environment\n"
     ]
    },
    {
     "data": {
      "image/png": "[encoded data removed]",
      "text/plain": [
       "<Figure size 1200x500 with 6 Axes>"
      ]
     },
     "metadata": {},
     "output_type": "display_data"
    }
   ],
   "source": [
    "# Authors: The scikit-learn developers\n",
    "# SPDX-License-Identifier: BSD-3-Clause\n",
    "\n",
    "import matplotlib.pyplot as plt\n",
    "\n",
    "from sklearn.cluster import BisectingKMeans, KMeans\n",
    "from sklearn.datasets import make_blobs\n",
    "\n",
    "print(__doc__)\n",
    "\n",
    "# Generate sample data\n",
    "n_samples = 10000\n",
    "random_state = 0\n",
    "\n",
    "X, _ = make_blobs(n_samples=n_samples, centers=2, random_state=random_state)\n",
    "\n",
    "# Number of cluster centers for KMeans and BisectingKMeans\n",
    "n_clusters_list = [4, 8, 16]\n",
    "\n",
    "# Algorithms to compare\n",
    "clustering_algorithms = {\n",
    "    \"Bisecting K-Means\": BisectingKMeans,\n",
    "    \"K-Means\": KMeans,\n",
    "}\n",
    "\n",
    "# Make subplots for each variant\n",
    "fig, axs = plt.subplots(\n",
    "    len(clustering_algorithms), len(n_clusters_list), figsize=(12, 5)\n",
    ")\n",
    "axs = axs.T\n",
    "for i, (algorithm_name, Algorithm) in enumerate(clustering_algorithms.items()):\n",
    "    for j, n_clusters in enumerate(n_clusters_list):\n",
    "        algo = Algorithm(n_clusters=n_clusters, random_state=random_state, n_init=3)\n",
    "        algo.fit(X)\n",
    "        centers = algo.cluster_centers_\n",
    "\n",
    "        axs[j, i].scatter(X[:, 0], X[:, 1], s=10, c=algo.labels_)\n",
    "        axs[j, i].scatter(centers[:, 0], centers[:, 1], c=\"r\", s=20)\n",
    "\n",
    "        axs[j, i].set_title(f\"{algorithm_name} : {n_clusters} clusters\")\n",
    "\n",
    "# Hide x labels and tick labels for top plots and y ticks for right plots.\n",
    "for ax in axs.flat:\n",
    "    ax.label_outer()\n",
    "    ax.set_xticks([])\n",
    "    ax.set_yticks([])\n",
    "\n",
    "plt.show()"
   ]
  },
  {
   "cell_type": "markdown",
   "id": "a6809ac5-a2e4-4287-97d5-f91b06e20e34",
   "metadata": {},
   "source": [
    "### Basic K Means Tutorial\n",
    "\n"
   ]
  },
  {
   "cell_type": "code",
   "execution_count": 44,
   "id": "ec9f0366-0d83-4434-a50e-3475f4f1c1ba",
   "metadata": {
    "jupyter": {
     "source_hidden": true
    }
   },
   "outputs": [
    {
     "name": "stderr",
     "output_type": "stream",
     "text": [
      "C:\\Users\\ejohns\\AppData\\Local\\anaconda3\\Lib\\site-packages\\sklearn\\cluster\\_kmeans.py:1429: UserWarning: KMeans is known to have a memory leak on Windows with MKL, when there are less chunks than available threads. You can avoid it by setting the environment variable OMP_NUM_THREADS=1.\n",
      "  warnings.warn(\n"
     ]
    },
    {
     "data": {
      "image/png": "[encoded data removed]",
      "text/plain": [
       "<Figure size 640x480 with 1 Axes>"
      ]
     },
     "metadata": {},
     "output_type": "display_data"
    }
   ],
   "source": [
    "import numpy as np\n",
    "import matplotlib.pyplot as plt\n",
    "from sklearn.cluster import KMeans\n",
    "from sklearn.datasets import make_blobs\n",
    "\n",
    "# Step 1: Generate sample data (100 points, 3 centers)\n",
    "X, y_true = make_blobs(n_samples=75, centers=6, cluster_std=3, random_state=16)\n",
    "\n",
    "# Step 2: Apply KMeans clustering\n",
    "kmeans = KMeans(n_clusters=5, random_state=0)\n",
    "kmeans.fit(X)\n",
    "y_kmeans = kmeans.predict(X)\n",
    "\n",
    "# Step 3: Plot the clustered data\n",
    "plt.scatter(X[:, 0], X[:, 1], c=y_kmeans, s=50, cmap='viridis')\n",
    "\n",
    "# Step 4: Plot the centroids\n",
    "centers = kmeans.cluster_centers_\n",
    "plt.scatter(centers[:, 0], centers[:, 1], c='black', s=200, alpha=0.75, marker='X')\n",
    "plt.title(\"K-Means Clustering Example\")\n",
    "plt.xlabel(\"Feature 1\")\n",
    "plt.ylabel(\"Feature 2\")\n",
    "plt.grid(True)\n",
    "plt.show()"
   ]
  },
  {
   "cell_type": "markdown",
   "id": "9924689f-37f7-443d-8af4-8a192964a428",
   "metadata": {},
   "source": [
    "### Load in Protein Data"
   ]
  },
  {
   "cell_type": "code",
   "execution_count": 3,
   "id": "1c8e9131-116f-4820-9858-b915e3d83874",
   "metadata": {},
   "outputs": [
    {
     "name": "stdout",
     "output_type": "stream",
     "text": [
      "Current working directory: C:\\Users\\ejohns\\Documents\\GitHub\\2025-Dinh-Lab-Research-Project\\Shapiro 2025 Project\\Python SquidPy\n",
      "Files: ['.ipynb_checkpoints', 'Cluster Analysis.ipynb', 'CosMX Protein Data Testing.ipynb', 'CosMX RNA Data Testing Full.ipynb', 'CosMX RNA Data Testing.ipynb', 'CosMX RNA Testing.ipynb', 'my_functions.ipynb', 'SquidPy Nature Paper.pdf', 'SquidPySpatialColocalizationPractice.ipynb', 'TutorialandPractice']\n"
     ]
    }
   ],
   "source": [
    "#!pip install ipynb"
   ]
  },
  {
   "cell_type": "code",
   "execution_count": 1,
   "id": "6cd5cac7-ce3a-4b36-9551-0b46524b758a",
   "metadata": {},
   "outputs": [
    {
     "name": "stderr",
     "output_type": "stream",
     "text": [
      "C:\\Users\\ejohns\\AppData\\Local\\anaconda3\\Lib\\site-packages\\paramiko\\pkey.py:82: CryptographyDeprecationWarning: TripleDES has been moved to cryptography.hazmat.decrepit.ciphers.algorithms.TripleDES and will be removed from this module in 48.0.0.\n",
      "  \"cipher\": algorithms.TripleDES,\n",
      "C:\\Users\\ejohns\\AppData\\Local\\anaconda3\\Lib\\site-packages\\paramiko\\transport.py:219: CryptographyDeprecationWarning: Blowfish has been moved to cryptography.hazmat.decrepit.ciphers.algorithms.Blowfish and will be removed from this module in 45.0.0.\n",
      "  \"class\": algorithms.Blowfish,\n",
      "C:\\Users\\ejohns\\AppData\\Local\\anaconda3\\Lib\\site-packages\\paramiko\\transport.py:243: CryptographyDeprecationWarning: TripleDES has been moved to cryptography.hazmat.decrepit.ciphers.algorithms.TripleDES and will be removed from this module in 48.0.0.\n",
      "  \"class\": algorithms.TripleDES,\n",
      "C:\\Users\\ejohns\\AppData\\Local\\anaconda3\\Lib\\site-packages\\anndata\\utils.py:434: FutureWarning: Importing read_text from `anndata` is deprecated. Import anndata.io.read_text instead.\n",
      "  warnings.warn(msg, FutureWarning)\n"
     ]
    }
   ],
   "source": [
    "import scanpy as sc\n",
    "import squidpy as sq\n",
    "import pandas as pd\n",
    "import numpy as np\n",
    "\n",
    "# Load files on Evan's Laptop\n",
    "# expr_orig = pd.read_csv(r\"C:\\Users\\evanj\\OneDrive\\Documents\\expression.csv\", index_col=0)\n",
    "# expr=expr_orig.transpose()\n",
    "# metadata = pd.read_csv(r\"C:\\Users\\evanj\\OneDrive\\Documents\\metadata.csv\", index_col=0)\n",
    "# umap = pd.read_csv(r\"C:\\Users\\evanj\\OneDrive\\Documents\\umap.csv\", index_col=0)\n",
    "\n",
    "#Load files on Lab computer\n",
    "expr_orig = pd.read_csv(r\"C:\\Users\\ejohns\\Documents\\Shapiro Data Files\\expression.csv\", index_col=0)\n",
    "expr=expr_orig.transpose()\n",
    "metadata = pd.read_csv(r\"C:\\Users\\ejohns\\Documents\\Shapiro Data Files\\metadata.csv\", index_col=0)\n",
    "umap = pd.read_csv(r\"C:\\Users\\ejohns\\Documents\\Shapiro Data Files\\umap.csv\", index_col=0)\n",
    "\n",
    "# Create AnnData object\n",
    "adata = sc.AnnData(X=expr.values)\n",
    "\n",
    "# Assign metadata\n",
    "adata.obs = metadata\n",
    "adata.var_names = expr.columns\n",
    "adata.obs_names = expr.index\n",
    "\n",
    "# Add spatial coordinates and UMAP to .obsm\n",
    "# adata.obsm[\"spatial\"] = metadata[['x_FOV_px', 'y_FOV_px']].values  # adjust if needed\n",
    "adata.obsm[\"spatial\"] = metadata[['x_FOV_px']].assign(y_FOV_px = -metadata['y_FOV_px']).values\n",
    "adata.obsm[\"X_umap\"] = umap.values"
   ]
  },
  {
   "cell_type": "code",
   "execution_count": 31,
   "id": "d9f5db8e-dc46-4a06-9bf1-fe314c3f1f13",
   "metadata": {
    "scrolled": true
   },
   "outputs": [
    {
     "name": "stdout",
     "output_type": "stream",
     "text": [
      "Outer loop: y=1\n",
      "  Inner loop: x=1\n"
     ]
    },
    {
     "data": {
      "application/vnd.jupyter.widget-view+json": {
       "model_id": "d3f8f3e9a98e43d582971493e032fb13",
       "version_major": 2,
       "version_minor": 0
      },
      "text/plain": [
       "  0%|          | 0/1000 [00:00<?, ?/s]"
      ]
     },
     "metadata": {},
     "output_type": "display_data"
    },
    {
     "name": "stdout",
     "output_type": "stream",
     "text": [
      "  Inner loop: x=2\n",
      "  Inner loop: x=3\n"
     ]
    },
    {
     "data": {
      "application/vnd.jupyter.widget-view+json": {
       "model_id": "17524e350a7842df8547a8a157570be2",
       "version_major": 2,
       "version_minor": 0
      },
      "text/plain": [
       "  0%|          | 0/1000 [00:00<?, ?/s]"
      ]
     },
     "metadata": {},
     "output_type": "display_data"
    },
    {
     "name": "stdout",
     "output_type": "stream",
     "text": [
      "  Inner loop: x=4\n"
     ]
    },
    {
     "data": {
      "application/vnd.jupyter.widget-view+json": {
       "model_id": "8b6bb88ae04548ae86627ba8f9809505",
       "version_major": 2,
       "version_minor": 0
      },
      "text/plain": [
       "  0%|          | 0/1000 [00:00<?, ?/s]"
      ]
     },
     "metadata": {},
     "output_type": "display_data"
    },
    {
     "name": "stdout",
     "output_type": "stream",
     "text": [
      "  Inner loop: x=5\n"
     ]
    },
    {
     "data": {
      "application/vnd.jupyter.widget-view+json": {
       "model_id": "8bf5e9a42e9b4326b869a2ba5934dfd0",
       "version_major": 2,
       "version_minor": 0
      },
      "text/plain": [
       "  0%|          | 0/1000 [00:00<?, ?/s]"
      ]
     },
     "metadata": {},
     "output_type": "display_data"
    },
    {
     "name": "stdout",
     "output_type": "stream",
     "text": [
      "  Inner loop: x=6\n"
     ]
    },
    {
     "data": {
      "application/vnd.jupyter.widget-view+json": {
       "model_id": "88b31ebcb41a45e19e86969b425512e9",
       "version_major": 2,
       "version_minor": 0
      },
      "text/plain": [
       "  0%|          | 0/1000 [00:00<?, ?/s]"
      ]
     },
     "metadata": {},
     "output_type": "display_data"
    },
    {
     "name": "stdout",
     "output_type": "stream",
     "text": [
      "  Inner loop: x=7\n"
     ]
    },
    {
     "data": {
      "application/vnd.jupyter.widget-view+json": {
       "model_id": "43347d20e5bc45fdb36618fa98fce13b",
       "version_major": 2,
       "version_minor": 0
      },
      "text/plain": [
       "  0%|          | 0/1000 [00:00<?, ?/s]"
      ]
     },
     "metadata": {},
     "output_type": "display_data"
    },
    {
     "name": "stdout",
     "output_type": "stream",
     "text": [
      "  Inner loop: x=8\n"
     ]
    },
    {
     "data": {
      "application/vnd.jupyter.widget-view+json": {
       "model_id": "92f2c9ca44304a95a78db33114e91e4f",
       "version_major": 2,
       "version_minor": 0
      },
      "text/plain": [
       "  0%|          | 0/1000 [00:00<?, ?/s]"
      ]
     },
     "metadata": {},
     "output_type": "display_data"
    },
    {
     "name": "stdout",
     "output_type": "stream",
     "text": [
      "  Inner loop: x=9\n"
     ]
    },
    {
     "data": {
      "application/vnd.jupyter.widget-view+json": {
       "model_id": "cd18686d3dd543b69ac3d2f16860b5c5",
       "version_major": 2,
       "version_minor": 0
      },
      "text/plain": [
       "  0%|          | 0/1000 [00:00<?, ?/s]"
      ]
     },
     "metadata": {},
     "output_type": "display_data"
    },
    {
     "name": "stdout",
     "output_type": "stream",
     "text": [
      "  Inner loop: x=10\n"
     ]
    },
    {
     "data": {
      "application/vnd.jupyter.widget-view+json": {
       "model_id": "19992950f2684dc8870fdb9514d086ce",
       "version_major": 2,
       "version_minor": 0
      },
      "text/plain": [
       "  0%|          | 0/1000 [00:00<?, ?/s]"
      ]
     },
     "metadata": {},
     "output_type": "display_data"
    },
    {
     "name": "stdout",
     "output_type": "stream",
     "text": [
      "  Inner loop: x=11\n"
     ]
    },
    {
     "data": {
      "application/vnd.jupyter.widget-view+json": {
       "model_id": "23e8c9c0814b4f4c9f8252ebe1dc850f",
       "version_major": 2,
       "version_minor": 0
      },
      "text/plain": [
       "  0%|          | 0/1000 [00:00<?, ?/s]"
      ]
     },
     "metadata": {},
     "output_type": "display_data"
    },
    {
     "name": "stdout",
     "output_type": "stream",
     "text": [
      "  Inner loop: x=12\n"
     ]
    },
    {
     "data": {
      "application/vnd.jupyter.widget-view+json": {
       "model_id": "73bbfed954c4432a9da41f0dd1fdc87f",
       "version_major": 2,
       "version_minor": 0
      },
      "text/plain": [
       "  0%|          | 0/1000 [00:00<?, ?/s]"
      ]
     },
     "metadata": {},
     "output_type": "display_data"
    },
    {
     "name": "stdout",
     "output_type": "stream",
     "text": [
      "  Inner loop: x=13\n"
     ]
    },
    {
     "data": {
      "application/vnd.jupyter.widget-view+json": {
       "model_id": "4be1880e713546cd91ba24dd323f8312",
       "version_major": 2,
       "version_minor": 0
      },
      "text/plain": [
       "  0%|          | 0/1000 [00:00<?, ?/s]"
      ]
     },
     "metadata": {},
     "output_type": "display_data"
    },
    {
     "name": "stdout",
     "output_type": "stream",
     "text": [
      "  Inner loop: x=14\n"
     ]
    },
    {
     "data": {
      "application/vnd.jupyter.widget-view+json": {
       "model_id": "d35e44235712495e971fdd7e5fd3345d",
       "version_major": 2,
       "version_minor": 0
      },
      "text/plain": [
       "  0%|          | 0/1000 [00:00<?, ?/s]"
      ]
     },
     "metadata": {},
     "output_type": "display_data"
    },
    {
     "name": "stdout",
     "output_type": "stream",
     "text": [
      "  Inner loop: x=15\n"
     ]
    },
    {
     "data": {
      "application/vnd.jupyter.widget-view+json": {
       "model_id": "112c090b060d483faea9379a7b32e60b",
       "version_major": 2,
       "version_minor": 0
      },
      "text/plain": [
       "  0%|          | 0/1000 [00:00<?, ?/s]"
      ]
     },
     "metadata": {},
     "output_type": "display_data"
    },
    {
     "name": "stdout",
     "output_type": "stream",
     "text": [
      "  Inner loop: x=16\n"
     ]
    },
    {
     "data": {
      "application/vnd.jupyter.widget-view+json": {
       "model_id": "92c27f74e9444777ae0e39bfe9b28580",
       "version_major": 2,
       "version_minor": 0
      },
      "text/plain": [
       "  0%|          | 0/1000 [00:00<?, ?/s]"
      ]
     },
     "metadata": {},
     "output_type": "display_data"
    },
    {
     "name": "stdout",
     "output_type": "stream",
     "text": [
      "  Inner loop: x=17\n"
     ]
    },
    {
     "data": {
      "application/vnd.jupyter.widget-view+json": {
       "model_id": "849f0d33bd804a72899cc983171bd05e",
       "version_major": 2,
       "version_minor": 0
      },
      "text/plain": [
       "  0%|          | 0/1000 [00:00<?, ?/s]"
      ]
     },
     "metadata": {},
     "output_type": "display_data"
    },
    {
     "name": "stdout",
     "output_type": "stream",
     "text": [
      "  Inner loop: x=18\n"
     ]
    },
    {
     "data": {
      "application/vnd.jupyter.widget-view+json": {
       "model_id": "3d7ff7dbacb6494695bbf6ce1c1ef5b9",
       "version_major": 2,
       "version_minor": 0
      },
      "text/plain": [
       "  0%|          | 0/1000 [00:00<?, ?/s]"
      ]
     },
     "metadata": {},
     "output_type": "display_data"
    },
    {
     "name": "stdout",
     "output_type": "stream",
     "text": [
      "  Inner loop: x=19\n"
     ]
    },
    {
     "data": {
      "application/vnd.jupyter.widget-view+json": {
       "model_id": "1d984a2be9ec40d09c7ca0d28bd0ff90",
       "version_major": 2,
       "version_minor": 0
      },
      "text/plain": [
       "  0%|          | 0/1000 [00:00<?, ?/s]"
      ]
     },
     "metadata": {},
     "output_type": "display_data"
    },
    {
     "name": "stdout",
     "output_type": "stream",
     "text": [
      "  Inner loop: x=20\n"
     ]
    },
    {
     "data": {
      "application/vnd.jupyter.widget-view+json": {
       "model_id": "9be5bfe142434d589d4f5417735f27ac",
       "version_major": 2,
       "version_minor": 0
      },
      "text/plain": [
       "  0%|          | 0/1000 [00:00<?, ?/s]"
      ]
     },
     "metadata": {},
     "output_type": "display_data"
    },
    {
     "name": "stdout",
     "output_type": "stream",
     "text": [
      "  Inner loop: x=21\n"
     ]
    },
    {
     "data": {
      "application/vnd.jupyter.widget-view+json": {
       "model_id": "213d47943385445ca8f6edb2671111a4",
       "version_major": 2,
       "version_minor": 0
      },
      "text/plain": [
       "  0%|          | 0/1000 [00:00<?, ?/s]"
      ]
     },
     "metadata": {},
     "output_type": "display_data"
    },
    {
     "name": "stdout",
     "output_type": "stream",
     "text": [
      "  Inner loop: x=22\n"
     ]
    },
    {
     "data": {
      "application/vnd.jupyter.widget-view+json": {
       "model_id": "f149aac8d8da49de9cce169dc1f89580",
       "version_major": 2,
       "version_minor": 0
      },
      "text/plain": [
       "  0%|          | 0/1000 [00:00<?, ?/s]"
      ]
     },
     "metadata": {},
     "output_type": "display_data"
    },
    {
     "name": "stdout",
     "output_type": "stream",
     "text": [
      "  Inner loop: x=23\n"
     ]
    },
    {
     "data": {
      "application/vnd.jupyter.widget-view+json": {
       "model_id": "876d33d9c804445db66ce8d186f81883",
       "version_major": 2,
       "version_minor": 0
      },
      "text/plain": [
       "  0%|          | 0/1000 [00:00<?, ?/s]"
      ]
     },
     "metadata": {},
     "output_type": "display_data"
    },
    {
     "name": "stdout",
     "output_type": "stream",
     "text": [
      "  Inner loop: x=24\n"
     ]
    },
    {
     "data": {
      "application/vnd.jupyter.widget-view+json": {
       "model_id": "d12e50aad4d841acb3e45119bf865686",
       "version_major": 2,
       "version_minor": 0
      },
      "text/plain": [
       "  0%|          | 0/1000 [00:00<?, ?/s]"
      ]
     },
     "metadata": {},
     "output_type": "display_data"
    },
    {
     "name": "stdout",
     "output_type": "stream",
     "text": [
      "  Inner loop: x=25\n"
     ]
    },
    {
     "data": {
      "application/vnd.jupyter.widget-view+json": {
       "model_id": "c4dbd7f66beb4cd9b67f0bf8f1cd4e22",
       "version_major": 2,
       "version_minor": 0
      },
      "text/plain": [
       "  0%|          | 0/1000 [00:00<?, ?/s]"
      ]
     },
     "metadata": {},
     "output_type": "display_data"
    },
    {
     "name": "stdout",
     "output_type": "stream",
     "text": [
      "Outer loop: y=2\n",
      "  Inner loop: x=1\n"
     ]
    },
    {
     "data": {
      "application/vnd.jupyter.widget-view+json": {
       "model_id": "0481ffe4ca844089b29341f4b70a6480",
       "version_major": 2,
       "version_minor": 0
      },
      "text/plain": [
       "  0%|          | 0/1000 [00:00<?, ?/s]"
      ]
     },
     "metadata": {},
     "output_type": "display_data"
    },
    {
     "name": "stdout",
     "output_type": "stream",
     "text": [
      "  Inner loop: x=2\n"
     ]
    },
    {
     "data": {
      "application/vnd.jupyter.widget-view+json": {
       "model_id": "8f1855f46cef4c319cb58bd8a998863c",
       "version_major": 2,
       "version_minor": 0
      },
      "text/plain": [
       "  0%|          | 0/1000 [00:00<?, ?/s]"
      ]
     },
     "metadata": {},
     "output_type": "display_data"
    },
    {
     "name": "stdout",
     "output_type": "stream",
     "text": [
      "  Inner loop: x=3\n"
     ]
    },
    {
     "data": {
      "application/vnd.jupyter.widget-view+json": {
       "model_id": "cdae1dcb5e8c4ad192ec22ae2a8bea0d",
       "version_major": 2,
       "version_minor": 0
      },
      "text/plain": [
       "  0%|          | 0/1000 [00:00<?, ?/s]"
      ]
     },
     "metadata": {},
     "output_type": "display_data"
    },
    {
     "name": "stdout",
     "output_type": "stream",
     "text": [
      "  Inner loop: x=4\n"
     ]
    },
    {
     "data": {
      "application/vnd.jupyter.widget-view+json": {
       "model_id": "8298f5a86d1a4809a910d897edb28da0",
       "version_major": 2,
       "version_minor": 0
      },
      "text/plain": [
       "  0%|          | 0/1000 [00:00<?, ?/s]"
      ]
     },
     "metadata": {},
     "output_type": "display_data"
    },
    {
     "name": "stdout",
     "output_type": "stream",
     "text": [
      "  Inner loop: x=5\n"
     ]
    },
    {
     "data": {
      "application/vnd.jupyter.widget-view+json": {
       "model_id": "7eaea8db2617454eacb33da7cfd40df0",
       "version_major": 2,
       "version_minor": 0
      },
      "text/plain": [
       "  0%|          | 0/1000 [00:00<?, ?/s]"
      ]
     },
     "metadata": {},
     "output_type": "display_data"
    },
    {
     "name": "stdout",
     "output_type": "stream",
     "text": [
      "  Inner loop: x=6\n"
     ]
    },
    {
     "data": {
      "application/vnd.jupyter.widget-view+json": {
       "model_id": "55cda4d41f1841619d3589bbbc89c7f1",
       "version_major": 2,
       "version_minor": 0
      },
      "text/plain": [
       "  0%|          | 0/1000 [00:00<?, ?/s]"
      ]
     },
     "metadata": {},
     "output_type": "display_data"
    },
    {
     "name": "stdout",
     "output_type": "stream",
     "text": [
      "  Inner loop: x=7\n"
     ]
    },
    {
     "data": {
      "application/vnd.jupyter.widget-view+json": {
       "model_id": "54d9a105bc614f7598e02956fac898b8",
       "version_major": 2,
       "version_minor": 0
      },
      "text/plain": [
       "  0%|          | 0/1000 [00:00<?, ?/s]"
      ]
     },
     "metadata": {},
     "output_type": "display_data"
    },
    {
     "name": "stdout",
     "output_type": "stream",
     "text": [
      "  Inner loop: x=8\n"
     ]
    },
    {
     "data": {
      "application/vnd.jupyter.widget-view+json": {
       "model_id": "b29f5f65867a42409f428134f1471fcf",
       "version_major": 2,
       "version_minor": 0
      },
      "text/plain": [
       "  0%|          | 0/1000 [00:00<?, ?/s]"
      ]
     },
     "metadata": {},
     "output_type": "display_data"
    },
    {
     "name": "stdout",
     "output_type": "stream",
     "text": [
      "  Inner loop: x=9\n"
     ]
    },
    {
     "data": {
      "application/vnd.jupyter.widget-view+json": {
       "model_id": "0064a95348b24588a248b1857bcd2f0c",
       "version_major": 2,
       "version_minor": 0
      },
      "text/plain": [
       "  0%|          | 0/1000 [00:00<?, ?/s]"
      ]
     },
     "metadata": {},
     "output_type": "display_data"
    },
    {
     "name": "stdout",
     "output_type": "stream",
     "text": [
      "  Inner loop: x=10\n"
     ]
    },
    {
     "data": {
      "application/vnd.jupyter.widget-view+json": {
       "model_id": "b7a44aaf92ac4d2a82b539769db315d9",
       "version_major": 2,
       "version_minor": 0
      },
      "text/plain": [
       "  0%|          | 0/1000 [00:00<?, ?/s]"
      ]
     },
     "metadata": {},
     "output_type": "display_data"
    },
    {
     "name": "stdout",
     "output_type": "stream",
     "text": [
      "  Inner loop: x=11\n"
     ]
    },
    {
     "data": {
      "application/vnd.jupyter.widget-view+json": {
       "model_id": "bb36cc840e2d4949be2e8f30ae7d0b4a",
       "version_major": 2,
       "version_minor": 0
      },
      "text/plain": [
       "  0%|          | 0/1000 [00:00<?, ?/s]"
      ]
     },
     "metadata": {},
     "output_type": "display_data"
    },
    {
     "name": "stdout",
     "output_type": "stream",
     "text": [
      "  Inner loop: x=12\n"
     ]
    },
    {
     "data": {
      "application/vnd.jupyter.widget-view+json": {
       "model_id": "93c5051107e84f688b981743045bb9f7",
       "version_major": 2,
       "version_minor": 0
      },
      "text/plain": [
       "  0%|          | 0/1000 [00:00<?, ?/s]"
      ]
     },
     "metadata": {},
     "output_type": "display_data"
    },
    {
     "name": "stdout",
     "output_type": "stream",
     "text": [
      "  Inner loop: x=13\n"
     ]
    },
    {
     "data": {
      "application/vnd.jupyter.widget-view+json": {
       "model_id": "6cd3a2d03b8149fe842d8966eb50336f",
       "version_major": 2,
       "version_minor": 0
      },
      "text/plain": [
       "  0%|          | 0/1000 [00:00<?, ?/s]"
      ]
     },
     "metadata": {},
     "output_type": "display_data"
    },
    {
     "name": "stdout",
     "output_type": "stream",
     "text": [
      "  Inner loop: x=14\n"
     ]
    },
    {
     "data": {
      "application/vnd.jupyter.widget-view+json": {
       "model_id": "ad1d0f0114be42998f70f20db34dcc16",
       "version_major": 2,
       "version_minor": 0
      },
      "text/plain": [
       "  0%|          | 0/1000 [00:00<?, ?/s]"
      ]
     },
     "metadata": {},
     "output_type": "display_data"
    },
    {
     "name": "stdout",
     "output_type": "stream",
     "text": [
      "  Inner loop: x=15\n"
     ]
    },
    {
     "data": {
      "application/vnd.jupyter.widget-view+json": {
       "model_id": "56cf52c6e3e44d9db020dab4e580871f",
       "version_major": 2,
       "version_minor": 0
      },
      "text/plain": [
       "  0%|          | 0/1000 [00:00<?, ?/s]"
      ]
     },
     "metadata": {},
     "output_type": "display_data"
    },
    {
     "name": "stdout",
     "output_type": "stream",
     "text": [
      "  Inner loop: x=16\n"
     ]
    },
    {
     "data": {
      "application/vnd.jupyter.widget-view+json": {
       "model_id": "ce0b2a34af3f4b78adba5086222be4c8",
       "version_major": 2,
       "version_minor": 0
      },
      "text/plain": [
       "  0%|          | 0/1000 [00:00<?, ?/s]"
      ]
     },
     "metadata": {},
     "output_type": "display_data"
    },
    {
     "name": "stdout",
     "output_type": "stream",
     "text": [
      "  Inner loop: x=17\n"
     ]
    },
    {
     "data": {
      "application/vnd.jupyter.widget-view+json": {
       "model_id": "f2d92c1450d14aa39e639e007ac9d303",
       "version_major": 2,
       "version_minor": 0
      },
      "text/plain": [
       "  0%|          | 0/1000 [00:00<?, ?/s]"
      ]
     },
     "metadata": {},
     "output_type": "display_data"
    },
    {
     "name": "stdout",
     "output_type": "stream",
     "text": [
      "  Inner loop: x=18\n"
     ]
    },
    {
     "data": {
      "application/vnd.jupyter.widget-view+json": {
       "model_id": "12c02f43c125406b9fee6c6904aa8972",
       "version_major": 2,
       "version_minor": 0
      },
      "text/plain": [
       "  0%|          | 0/1000 [00:00<?, ?/s]"
      ]
     },
     "metadata": {},
     "output_type": "display_data"
    },
    {
     "name": "stdout",
     "output_type": "stream",
     "text": [
      "  Inner loop: x=19\n"
     ]
    },
    {
     "data": {
      "application/vnd.jupyter.widget-view+json": {
       "model_id": "3bfa6c9088f24548962938bf3f67319d",
       "version_major": 2,
       "version_minor": 0
      },
      "text/plain": [
       "  0%|          | 0/1000 [00:00<?, ?/s]"
      ]
     },
     "metadata": {},
     "output_type": "display_data"
    },
    {
     "name": "stdout",
     "output_type": "stream",
     "text": [
      "  Inner loop: x=20\n"
     ]
    },
    {
     "data": {
      "application/vnd.jupyter.widget-view+json": {
       "model_id": "c19c3ee8228147708866c036144d1a2e",
       "version_major": 2,
       "version_minor": 0
      },
      "text/plain": [
       "  0%|          | 0/1000 [00:00<?, ?/s]"
      ]
     },
     "metadata": {},
     "output_type": "display_data"
    },
    {
     "name": "stdout",
     "output_type": "stream",
     "text": [
      "  Inner loop: x=21\n"
     ]
    },
    {
     "data": {
      "application/vnd.jupyter.widget-view+json": {
       "model_id": "6ec3b285953b4d7a9a007f4ced4b8d49",
       "version_major": 2,
       "version_minor": 0
      },
      "text/plain": [
       "  0%|          | 0/1000 [00:00<?, ?/s]"
      ]
     },
     "metadata": {},
     "output_type": "display_data"
    },
    {
     "name": "stdout",
     "output_type": "stream",
     "text": [
      "  Inner loop: x=22\n"
     ]
    },
    {
     "data": {
      "application/vnd.jupyter.widget-view+json": {
       "model_id": "a0d2b76880f8492aa102534ad6bffc47",
       "version_major": 2,
       "version_minor": 0
      },
      "text/plain": [
       "  0%|          | 0/1000 [00:00<?, ?/s]"
      ]
     },
     "metadata": {},
     "output_type": "display_data"
    },
    {
     "name": "stdout",
     "output_type": "stream",
     "text": [
      "  Inner loop: x=23\n"
     ]
    },
    {
     "data": {
      "application/vnd.jupyter.widget-view+json": {
       "model_id": "d9dc83439c1b4e7992dcaef540988ace",
       "version_major": 2,
       "version_minor": 0
      },
      "text/plain": [
       "  0%|          | 0/1000 [00:00<?, ?/s]"
      ]
     },
     "metadata": {},
     "output_type": "display_data"
    },
    {
     "name": "stdout",
     "output_type": "stream",
     "text": [
      "  Inner loop: x=24\n"
     ]
    },
    {
     "data": {
      "application/vnd.jupyter.widget-view+json": {
       "model_id": "49bb1dc5b4ca401cac6e5a9fae4b006e",
       "version_major": 2,
       "version_minor": 0
      },
      "text/plain": [
       "  0%|          | 0/1000 [00:00<?, ?/s]"
      ]
     },
     "metadata": {},
     "output_type": "display_data"
    },
    {
     "name": "stdout",
     "output_type": "stream",
     "text": [
      "  Inner loop: x=25\n"
     ]
    },
    {
     "data": {
      "application/vnd.jupyter.widget-view+json": {
       "model_id": "feea711bf8444a5485e016232ef84348",
       "version_major": 2,
       "version_minor": 0
      },
      "text/plain": [
       "  0%|          | 0/1000 [00:00<?, ?/s]"
      ]
     },
     "metadata": {},
     "output_type": "display_data"
    },
    {
     "name": "stdout",
     "output_type": "stream",
     "text": [
      "Outer loop: y=3\n",
      "  Inner loop: x=1\n",
      "  Inner loop: x=2\n",
      "  Inner loop: x=3\n"
     ]
    },
    {
     "data": {
      "application/vnd.jupyter.widget-view+json": {
       "model_id": "bdfe80cc51c24e1c9983e96fbb9a7442",
       "version_major": 2,
       "version_minor": 0
      },
      "text/plain": [
       "  0%|          | 0/1000 [00:00<?, ?/s]"
      ]
     },
     "metadata": {},
     "output_type": "display_data"
    },
    {
     "name": "stdout",
     "output_type": "stream",
     "text": [
      "  Inner loop: x=4\n"
     ]
    },
    {
     "data": {
      "application/vnd.jupyter.widget-view+json": {
       "model_id": "b9c5b6c7ac094cabb9f7cb1820bd895d",
       "version_major": 2,
       "version_minor": 0
      },
      "text/plain": [
       "  0%|          | 0/1000 [00:00<?, ?/s]"
      ]
     },
     "metadata": {},
     "output_type": "display_data"
    },
    {
     "name": "stdout",
     "output_type": "stream",
     "text": [
      "  Inner loop: x=5\n"
     ]
    },
    {
     "data": {
      "application/vnd.jupyter.widget-view+json": {
       "model_id": "7e1de9e345ab463b81d3df25833daf73",
       "version_major": 2,
       "version_minor": 0
      },
      "text/plain": [
       "  0%|          | 0/1000 [00:00<?, ?/s]"
      ]
     },
     "metadata": {},
     "output_type": "display_data"
    },
    {
     "name": "stdout",
     "output_type": "stream",
     "text": [
      "  Inner loop: x=6\n"
     ]
    },
    {
     "data": {
      "application/vnd.jupyter.widget-view+json": {
       "model_id": "9bf2f1ece4624c2b96df0e350bf2dd9b",
       "version_major": 2,
       "version_minor": 0
      },
      "text/plain": [
       "  0%|          | 0/1000 [00:00<?, ?/s]"
      ]
     },
     "metadata": {},
     "output_type": "display_data"
    },
    {
     "name": "stdout",
     "output_type": "stream",
     "text": [
      "  Inner loop: x=7\n"
     ]
    },
    {
     "data": {
      "application/vnd.jupyter.widget-view+json": {
       "model_id": "4b9fd0cab8c8497b85cf6c056ee0c67c",
       "version_major": 2,
       "version_minor": 0
      },
      "text/plain": [
       "  0%|          | 0/1000 [00:00<?, ?/s]"
      ]
     },
     "metadata": {},
     "output_type": "display_data"
    },
    {
     "name": "stdout",
     "output_type": "stream",
     "text": [
      "  Inner loop: x=8\n"
     ]
    },
    {
     "data": {
      "application/vnd.jupyter.widget-view+json": {
       "model_id": "52cf91a626ff4dd685a12466eb67ff9c",
       "version_major": 2,
       "version_minor": 0
      },
      "text/plain": [
       "  0%|          | 0/1000 [00:00<?, ?/s]"
      ]
     },
     "metadata": {},
     "output_type": "display_data"
    },
    {
     "name": "stdout",
     "output_type": "stream",
     "text": [
      "  Inner loop: x=9\n"
     ]
    },
    {
     "data": {
      "application/vnd.jupyter.widget-view+json": {
       "model_id": "6be8344837e64ddabb3254a37d1071b7",
       "version_major": 2,
       "version_minor": 0
      },
      "text/plain": [
       "  0%|          | 0/1000 [00:00<?, ?/s]"
      ]
     },
     "metadata": {},
     "output_type": "display_data"
    },
    {
     "name": "stdout",
     "output_type": "stream",
     "text": [
      "  Inner loop: x=10\n"
     ]
    },
    {
     "data": {
      "application/vnd.jupyter.widget-view+json": {
       "model_id": "4d94f79f5dc442e4b707b4cc04fccd7a",
       "version_major": 2,
       "version_minor": 0
      },
      "text/plain": [
       "  0%|          | 0/1000 [00:00<?, ?/s]"
      ]
     },
     "metadata": {},
     "output_type": "display_data"
    },
    {
     "name": "stdout",
     "output_type": "stream",
     "text": [
      "  Inner loop: x=11\n"
     ]
    },
    {
     "data": {
      "application/vnd.jupyter.widget-view+json": {
       "model_id": "6a13c9c3729b42c8826d5ac97e3c89c8",
       "version_major": 2,
       "version_minor": 0
      },
      "text/plain": [
       "  0%|          | 0/1000 [00:00<?, ?/s]"
      ]
     },
     "metadata": {},
     "output_type": "display_data"
    },
    {
     "name": "stdout",
     "output_type": "stream",
     "text": [
      "  Inner loop: x=12\n",
      "  Inner loop: x=13\n"
     ]
    },
    {
     "data": {
      "application/vnd.jupyter.widget-view+json": {
       "model_id": "fe331e0f27b94642b0ac564b1b9a0e80",
       "version_major": 2,
       "version_minor": 0
      },
      "text/plain": [
       "  0%|          | 0/1000 [00:00<?, ?/s]"
      ]
     },
     "metadata": {},
     "output_type": "display_data"
    },
    {
     "name": "stdout",
     "output_type": "stream",
     "text": [
      "  Inner loop: x=14\n"
     ]
    },
    {
     "data": {
      "application/vnd.jupyter.widget-view+json": {
       "model_id": "d952e2e55a984a8ba55867796d7851ff",
       "version_major": 2,
       "version_minor": 0
      },
      "text/plain": [
       "  0%|          | 0/1000 [00:00<?, ?/s]"
      ]
     },
     "metadata": {},
     "output_type": "display_data"
    },
    {
     "name": "stdout",
     "output_type": "stream",
     "text": [
      "  Inner loop: x=15\n"
     ]
    },
    {
     "data": {
      "application/vnd.jupyter.widget-view+json": {
       "model_id": "6d5f58a9c86b4f539874331ab9f93e0f",
       "version_major": 2,
       "version_minor": 0
      },
      "text/plain": [
       "  0%|          | 0/1000 [00:00<?, ?/s]"
      ]
     },
     "metadata": {},
     "output_type": "display_data"
    },
    {
     "name": "stdout",
     "output_type": "stream",
     "text": [
      "  Inner loop: x=16\n"
     ]
    },
    {
     "data": {
      "application/vnd.jupyter.widget-view+json": {
       "model_id": "d2eef101ca8748c0b3c933208fe6270b",
       "version_major": 2,
       "version_minor": 0
      },
      "text/plain": [
       "  0%|          | 0/1000 [00:00<?, ?/s]"
      ]
     },
     "metadata": {},
     "output_type": "display_data"
    },
    {
     "name": "stdout",
     "output_type": "stream",
     "text": [
      "  Inner loop: x=17\n"
     ]
    },
    {
     "data": {
      "application/vnd.jupyter.widget-view+json": {
       "model_id": "bd8f8117c673411ebd1e2c34730353e6",
       "version_major": 2,
       "version_minor": 0
      },
      "text/plain": [
       "  0%|          | 0/1000 [00:00<?, ?/s]"
      ]
     },
     "metadata": {},
     "output_type": "display_data"
    },
    {
     "name": "stdout",
     "output_type": "stream",
     "text": [
      "  Inner loop: x=18\n"
     ]
    },
    {
     "data": {
      "application/vnd.jupyter.widget-view+json": {
       "model_id": "62a70ea84d5a47b3a34d67fdf3cbdce5",
       "version_major": 2,
       "version_minor": 0
      },
      "text/plain": [
       "  0%|          | 0/1000 [00:00<?, ?/s]"
      ]
     },
     "metadata": {},
     "output_type": "display_data"
    },
    {
     "name": "stdout",
     "output_type": "stream",
     "text": [
      "  Inner loop: x=19\n"
     ]
    },
    {
     "data": {
      "application/vnd.jupyter.widget-view+json": {
       "model_id": "1855e0de46284eaba9b2fb2edf1e99e5",
       "version_major": 2,
       "version_minor": 0
      },
      "text/plain": [
       "  0%|          | 0/1000 [00:00<?, ?/s]"
      ]
     },
     "metadata": {},
     "output_type": "display_data"
    },
    {
     "name": "stdout",
     "output_type": "stream",
     "text": [
      "  Inner loop: x=20\n"
     ]
    },
    {
     "data": {
      "application/vnd.jupyter.widget-view+json": {
       "model_id": "24ce21e277e948c49bb74911b0f6f123",
       "version_major": 2,
       "version_minor": 0
      },
      "text/plain": [
       "  0%|          | 0/1000 [00:00<?, ?/s]"
      ]
     },
     "metadata": {},
     "output_type": "display_data"
    },
    {
     "name": "stdout",
     "output_type": "stream",
     "text": [
      "  Inner loop: x=21\n",
      "  Inner loop: x=22\n",
      "  Inner loop: x=23\n",
      "  Inner loop: x=24\n",
      "  Inner loop: x=25\n"
     ]
    },
    {
     "data": {
      "text/html": [
       "<div>\n",
       "<style scoped>\n",
       "    .dataframe tbody tr th:only-of-type {\n",
       "        vertical-align: middle;\n",
       "    }\n",
       "\n",
       "    .dataframe tbody tr th {\n",
       "        vertical-align: top;\n",
       "    }\n",
       "\n",
       "    .dataframe thead th {\n",
       "        text-align: right;\n",
       "    }\n",
       "</style>\n",
       "<table border=\"1\" class=\"dataframe\">\n",
       "  <thead>\n",
       "    <tr style=\"text-align: right;\">\n",
       "      <th></th>\n",
       "      <th>B_cells</th>\n",
       "      <th>CD4+T_cells</th>\n",
       "      <th>CD8+T_cells</th>\n",
       "      <th>Endothelial_cells</th>\n",
       "      <th>Fibroblasts/SMCs</th>\n",
       "      <th>Macrophages</th>\n",
       "      <th>Monocytes</th>\n",
       "      <th>Neutrophils</th>\n",
       "      <th>Plasma_cells</th>\n",
       "      <th>Tregs</th>\n",
       "      <th>Tumor_cells</th>\n",
       "      <th>Patient ID</th>\n",
       "      <th>Response Status</th>\n",
       "      <th>PMN #</th>\n",
       "      <th>DCs</th>\n",
       "      <th>NK_cells</th>\n",
       "    </tr>\n",
       "    <tr>\n",
       "      <th>Run</th>\n",
       "      <th></th>\n",
       "      <th></th>\n",
       "      <th></th>\n",
       "      <th></th>\n",
       "      <th></th>\n",
       "      <th></th>\n",
       "      <th></th>\n",
       "      <th></th>\n",
       "      <th></th>\n",
       "      <th></th>\n",
       "      <th></th>\n",
       "      <th></th>\n",
       "      <th></th>\n",
       "      <th></th>\n",
       "      <th></th>\n",
       "      <th></th>\n",
       "    </tr>\n",
       "  </thead>\n",
       "  <tbody>\n",
       "    <tr>\n",
       "      <th>TMA:1_Run1</th>\n",
       "      <td>1.127257</td>\n",
       "      <td>1.018788</td>\n",
       "      <td>-0.786117</td>\n",
       "      <td>-6.015880</td>\n",
       "      <td>-4.139462</td>\n",
       "      <td>1.824205</td>\n",
       "      <td>15.309880</td>\n",
       "      <td>48.438268</td>\n",
       "      <td>15.214803</td>\n",
       "      <td>-0.308691</td>\n",
       "      <td>-7.776077</td>\n",
       "      <td>A</td>\n",
       "      <td>R</td>\n",
       "      <td>55</td>\n",
       "      <td>NaN</td>\n",
       "      <td>NaN</td>\n",
       "    </tr>\n",
       "    <tr>\n",
       "      <th>TMA:1_Run3</th>\n",
       "      <td>-0.229416</td>\n",
       "      <td>2.710784</td>\n",
       "      <td>-0.276877</td>\n",
       "      <td>-1.312520</td>\n",
       "      <td>-0.457187</td>\n",
       "      <td>2.721435</td>\n",
       "      <td>3.761980</td>\n",
       "      <td>7.386173</td>\n",
       "      <td>3.895480</td>\n",
       "      <td>-0.173190</td>\n",
       "      <td>1.107797</td>\n",
       "      <td>B</td>\n",
       "      <td>R</td>\n",
       "      <td>6</td>\n",
       "      <td>-0.294230</td>\n",
       "      <td>-0.123404</td>\n",
       "    </tr>\n",
       "    <tr>\n",
       "      <th>TMA:1_Run4</th>\n",
       "      <td>6.256938</td>\n",
       "      <td>7.168010</td>\n",
       "      <td>-0.966194</td>\n",
       "      <td>-2.379146</td>\n",
       "      <td>1.498804</td>\n",
       "      <td>1.419280</td>\n",
       "      <td>3.929986</td>\n",
       "      <td>6.469672</td>\n",
       "      <td>0.748647</td>\n",
       "      <td>3.754352</td>\n",
       "      <td>-1.213681</td>\n",
       "      <td>X</td>\n",
       "      <td>R</td>\n",
       "      <td>12</td>\n",
       "      <td>2.434371</td>\n",
       "      <td>-0.160581</td>\n",
       "    </tr>\n",
       "    <tr>\n",
       "      <th>TMA:1_Run5</th>\n",
       "      <td>-0.163383</td>\n",
       "      <td>-0.950238</td>\n",
       "      <td>1.028649</td>\n",
       "      <td>-0.511730</td>\n",
       "      <td>1.739395</td>\n",
       "      <td>0.725236</td>\n",
       "      <td>0.999165</td>\n",
       "      <td>19.476479</td>\n",
       "      <td>1.061827</td>\n",
       "      <td>-0.892008</td>\n",
       "      <td>-4.867589</td>\n",
       "      <td>X</td>\n",
       "      <td>R</td>\n",
       "      <td>15</td>\n",
       "      <td>2.852867</td>\n",
       "      <td>-0.377819</td>\n",
       "    </tr>\n",
       "    <tr>\n",
       "      <th>TMA:1_Run6</th>\n",
       "      <td>8.152251</td>\n",
       "      <td>28.315376</td>\n",
       "      <td>-0.253764</td>\n",
       "      <td>-5.202193</td>\n",
       "      <td>4.198596</td>\n",
       "      <td>NaN</td>\n",
       "      <td>NaN</td>\n",
       "      <td>42.854555</td>\n",
       "      <td>18.068765</td>\n",
       "      <td>6.120583</td>\n",
       "      <td>-12.328170</td>\n",
       "      <td>X</td>\n",
       "      <td>R</td>\n",
       "      <td>23</td>\n",
       "      <td>NaN</td>\n",
       "      <td>NaN</td>\n",
       "    </tr>\n",
       "    <tr>\n",
       "      <th>...</th>\n",
       "      <td>...</td>\n",
       "      <td>...</td>\n",
       "      <td>...</td>\n",
       "      <td>...</td>\n",
       "      <td>...</td>\n",
       "      <td>...</td>\n",
       "      <td>...</td>\n",
       "      <td>...</td>\n",
       "      <td>...</td>\n",
       "      <td>...</td>\n",
       "      <td>...</td>\n",
       "      <td>...</td>\n",
       "      <td>...</td>\n",
       "      <td>...</td>\n",
       "      <td>...</td>\n",
       "      <td>...</td>\n",
       "    </tr>\n",
       "    <tr>\n",
       "      <th>TMA:3_Run16</th>\n",
       "      <td>2.970857</td>\n",
       "      <td>3.649190</td>\n",
       "      <td>3.220644</td>\n",
       "      <td>NaN</td>\n",
       "      <td>11.675161</td>\n",
       "      <td>0.939901</td>\n",
       "      <td>1.487345</td>\n",
       "      <td>14.006605</td>\n",
       "      <td>8.489554</td>\n",
       "      <td>3.021207</td>\n",
       "      <td>-13.487380</td>\n",
       "      <td>L</td>\n",
       "      <td>NR</td>\n",
       "      <td>18</td>\n",
       "      <td>-0.491769</td>\n",
       "      <td>NaN</td>\n",
       "    </tr>\n",
       "    <tr>\n",
       "      <th>TMA:3_Run17</th>\n",
       "      <td>2.345631</td>\n",
       "      <td>2.703559</td>\n",
       "      <td>6.306095</td>\n",
       "      <td>NaN</td>\n",
       "      <td>3.190808</td>\n",
       "      <td>3.880621</td>\n",
       "      <td>0.002074</td>\n",
       "      <td>5.431243</td>\n",
       "      <td>9.217430</td>\n",
       "      <td>4.907017</td>\n",
       "      <td>-10.600478</td>\n",
       "      <td>L</td>\n",
       "      <td>NR</td>\n",
       "      <td>22</td>\n",
       "      <td>-1.023811</td>\n",
       "      <td>7.502835</td>\n",
       "    </tr>\n",
       "    <tr>\n",
       "      <th>TMA:3_Run18</th>\n",
       "      <td>-1.008425</td>\n",
       "      <td>-1.105249</td>\n",
       "      <td>0.433600</td>\n",
       "      <td>NaN</td>\n",
       "      <td>2.548274</td>\n",
       "      <td>1.938077</td>\n",
       "      <td>0.317956</td>\n",
       "      <td>5.269414</td>\n",
       "      <td>0.110246</td>\n",
       "      <td>-0.207827</td>\n",
       "      <td>-5.973117</td>\n",
       "      <td>H</td>\n",
       "      <td>NR</td>\n",
       "      <td>36</td>\n",
       "      <td>-0.394871</td>\n",
       "      <td>-0.473633</td>\n",
       "    </tr>\n",
       "    <tr>\n",
       "      <th>TMA:3_Run19</th>\n",
       "      <td>8.303267</td>\n",
       "      <td>1.013809</td>\n",
       "      <td>-0.569551</td>\n",
       "      <td>NaN</td>\n",
       "      <td>19.136628</td>\n",
       "      <td>0.818029</td>\n",
       "      <td>2.745419</td>\n",
       "      <td>17.694176</td>\n",
       "      <td>22.597859</td>\n",
       "      <td>0.458007</td>\n",
       "      <td>-19.527715</td>\n",
       "      <td>H</td>\n",
       "      <td>NR</td>\n",
       "      <td>36</td>\n",
       "      <td>0.262564</td>\n",
       "      <td>NaN</td>\n",
       "    </tr>\n",
       "    <tr>\n",
       "      <th>TMA:3_Run20</th>\n",
       "      <td>2.508585</td>\n",
       "      <td>2.502523</td>\n",
       "      <td>-0.508130</td>\n",
       "      <td>NaN</td>\n",
       "      <td>1.756208</td>\n",
       "      <td>4.992236</td>\n",
       "      <td>2.357386</td>\n",
       "      <td>15.546069</td>\n",
       "      <td>7.071217</td>\n",
       "      <td>-0.705379</td>\n",
       "      <td>-6.910649</td>\n",
       "      <td>D</td>\n",
       "      <td>NR</td>\n",
       "      <td>11</td>\n",
       "      <td>3.317734</td>\n",
       "      <td>-0.153937</td>\n",
       "    </tr>\n",
       "  </tbody>\n",
       "</table>\n",
       "<p>66 rows × 16 columns</p>\n",
       "</div>"
      ],
      "text/plain": [
       "              B_cells  CD4+T_cells  CD8+T_cells  Endothelial_cells  \\\n",
       "Run                                                                  \n",
       "TMA:1_Run1   1.127257     1.018788    -0.786117          -6.015880   \n",
       "TMA:1_Run3  -0.229416     2.710784    -0.276877          -1.312520   \n",
       "TMA:1_Run4   6.256938     7.168010    -0.966194          -2.379146   \n",
       "TMA:1_Run5  -0.163383    -0.950238     1.028649          -0.511730   \n",
       "TMA:1_Run6   8.152251    28.315376    -0.253764          -5.202193   \n",
       "...               ...          ...          ...                ...   \n",
       "TMA:3_Run16  2.970857     3.649190     3.220644                NaN   \n",
       "TMA:3_Run17  2.345631     2.703559     6.306095                NaN   \n",
       "TMA:3_Run18 -1.008425    -1.105249     0.433600                NaN   \n",
       "TMA:3_Run19  8.303267     1.013809    -0.569551                NaN   \n",
       "TMA:3_Run20  2.508585     2.502523    -0.508130                NaN   \n",
       "\n",
       "             Fibroblasts/SMCs  Macrophages  Monocytes  Neutrophils  \\\n",
       "Run                                                                  \n",
       "TMA:1_Run1          -4.139462     1.824205  15.309880    48.438268   \n",
       "TMA:1_Run3          -0.457187     2.721435   3.761980     7.386173   \n",
       "TMA:1_Run4           1.498804     1.419280   3.929986     6.469672   \n",
       "TMA:1_Run5           1.739395     0.725236   0.999165    19.476479   \n",
       "TMA:1_Run6           4.198596          NaN        NaN    42.854555   \n",
       "...                       ...          ...        ...          ...   \n",
       "TMA:3_Run16         11.675161     0.939901   1.487345    14.006605   \n",
       "TMA:3_Run17          3.190808     3.880621   0.002074     5.431243   \n",
       "TMA:3_Run18          2.548274     1.938077   0.317956     5.269414   \n",
       "TMA:3_Run19         19.136628     0.818029   2.745419    17.694176   \n",
       "TMA:3_Run20          1.756208     4.992236   2.357386    15.546069   \n",
       "\n",
       "             Plasma_cells     Tregs  Tumor_cells Patient ID Response Status  \\\n",
       "Run                                                                           \n",
       "TMA:1_Run1      15.214803 -0.308691    -7.776077          A               R   \n",
       "TMA:1_Run3       3.895480 -0.173190     1.107797          B               R   \n",
       "TMA:1_Run4       0.748647  3.754352    -1.213681          X               R   \n",
       "TMA:1_Run5       1.061827 -0.892008    -4.867589          X               R   \n",
       "TMA:1_Run6      18.068765  6.120583   -12.328170          X               R   \n",
       "...                   ...       ...          ...        ...             ...   \n",
       "TMA:3_Run16      8.489554  3.021207   -13.487380          L              NR   \n",
       "TMA:3_Run17      9.217430  4.907017   -10.600478          L              NR   \n",
       "TMA:3_Run18      0.110246 -0.207827    -5.973117          H              NR   \n",
       "TMA:3_Run19     22.597859  0.458007   -19.527715          H              NR   \n",
       "TMA:3_Run20      7.071217 -0.705379    -6.910649          D              NR   \n",
       "\n",
       "             PMN #       DCs  NK_cells  \n",
       "Run                                     \n",
       "TMA:1_Run1      55       NaN       NaN  \n",
       "TMA:1_Run3       6 -0.294230 -0.123404  \n",
       "TMA:1_Run4      12  2.434371 -0.160581  \n",
       "TMA:1_Run5      15  2.852867 -0.377819  \n",
       "TMA:1_Run6      23       NaN       NaN  \n",
       "...            ...       ...       ...  \n",
       "TMA:3_Run16     18 -0.491769       NaN  \n",
       "TMA:3_Run17     22 -1.023811  7.502835  \n",
       "TMA:3_Run18     36 -0.394871 -0.473633  \n",
       "TMA:3_Run19     36  0.262564       NaN  \n",
       "TMA:3_Run20     11  3.317734 -0.153937  \n",
       "\n",
       "[66 rows x 16 columns]"
      ]
     },
     "metadata": {},
     "output_type": "display_data"
    }
   ],
   "source": [
    "### Loop to get colocalization numbers for the Protein Data Sets\n",
    "import pandas as pd\n",
    "import importlib\n",
    "import squidpy as sq\n",
    "import my_functions\n",
    "\n",
    "pmn_results = []\n",
    "patient_ID=\"\"\n",
    "response_status=\"\"\n",
    "pmn_count=0\n",
    "\n",
    "for y in range(1, 4):\n",
    "    for x in range(1, 26):\n",
    "        pmn_count=my_functions.pmn_counter(adata, f\"c_{y}_{x}_\")[\"PMN Count\"]\n",
    "        # Only run if there are PMNs present\n",
    "        if pmn_count>1:\n",
    "            results = my_functions.create_z_map(adata, y, x, 0)\n",
    "            patient_ID=results[\"Patient ID\"]\n",
    "            response_status=results[\"Response Status\"]\n",
    "            pmn_count=results[\"PMN Count\"]\n",
    "\n",
    "            #Add Patient Meta Data to chart\n",
    "            neutrophil_row = results[\"Z-Score Interaction Matrix\"][\"Neutrophils\"]\n",
    "            neutrophil_row[\"Run\"] = f\"TMA:{y}_Run{x}\"\n",
    "            neutrophil_row[\"Patient ID\"] = patient_ID\n",
    "            neutrophil_row[\"Response Status\"] = response_status\n",
    "            neutrophil_row[\"PMN #\"]=pmn_count\n",
    "            pmn_results.append(neutrophil_row)\n",
    "  \n",
    "\n",
    "# Convert to DataFrame\n",
    "pmn_df = pd.DataFrame(pmn_results)\n",
    "\n",
    "# Set index by run name (if added)\n",
    "pmn_df = pmn_df.set_index(\"Run\")\n",
    "\n",
    "# Show result\n",
    "display(pmn_df)\n"
   ]
  },
  {
   "cell_type": "markdown",
   "id": "c26b8088-e212-4523-bd0e-e6dd0316dcd8",
   "metadata": {},
   "source": [
    "### Basic K-means Zscore Analysis\n",
    "\n",
    "This is one of the most basic methods of doing cluster analysis. Form 2 groups with cluster analysis."
   ]
  },
  {
   "cell_type": "code",
   "execution_count": null,
   "id": "8c52fc90-4a00-4af8-93c8-9c6bc5aa46bd",
   "metadata": {},
   "outputs": [],
   "source": [
    "# Removes unplottable alpha columns\n",
    "pmn_numeric = pmn_df.drop(columns=['Patient ID', 'Response Status', 'PMN #']).copy()\n",
    "\n",
    "# # Show result\n",
    "# display(pmn_numeric)"
   ]
  },
  {
   "cell_type": "markdown",
   "id": "fc9446c1-59f4-4590-944d-5f6feb4b38c8",
   "metadata": {},
   "source": [
    "##### Elbow Plot \n",
    "\n",
    "This forms an Elbow plot which may be useful in forming different groups"
   ]
  },
  {
   "cell_type": "code",
   "execution_count": 32,
   "id": "31f9a1ef-ae7d-481f-887f-0d7caccd5d5c",
   "metadata": {},
   "outputs": [
    {
     "data": {
      "image/png": "[encoded data removed]",
      "text/plain": [
       "<Figure size 600x400 with 1 Axes>"
      ]
     },
     "metadata": {},
     "output_type": "display_data"
    }
   ],
   "source": [
    "import pandas as pd\n",
    "from sklearn.cluster import KMeans\n",
    "import matplotlib.pyplot as plt\n",
    "import seaborn as sns\n",
    "import os\n",
    "os.environ[\"OMP_NUM_THREADS\"] = \"1\"\n",
    "import warnings\n",
    "warnings.filterwarnings(\"ignore\")\n",
    "\n",
    "# Fill NaNs with mean\n",
    "pmn_df_filled = pmn_numeric.fillna(0)\n",
    "\n",
    "# Now run KMeans\n",
    "kmeans = KMeans(n_clusters=k, n_init=20, max_iter=300, random_state=42)\n",
    "pmn_df_filled['Cluster'] = kmeans.fit_predict(pmn_df_filled)\n",
    "\n",
    "# print(pmn_df_filled['Cluster'].value_counts())\n",
    "\n",
    "inertia = []\n",
    "k_range = range(1, 10)\n",
    "for k in k_range:\n",
    "    km = KMeans(n_clusters=k, random_state=42)\n",
    "    km.fit(pmn_df_filled)\n",
    "    inertia.append(km.inertia_)\n",
    "\n",
    "# Plot the elbow curve\n",
    "plt.figure(figsize=(6, 4))\n",
    "plt.plot(k_range, inertia, marker='o')\n",
    "plt.title('Elbow Method For Optimal k')\n",
    "plt.xlabel('Number of clusters (k)')\n",
    "plt.ylabel('Inertia (Within-cluster sum of squares)')\n",
    "plt.grid(True)\n",
    "plt.show()"
   ]
  },
  {
   "cell_type": "code",
   "execution_count": 34,
   "id": "38d2febc-fcf0-4a7e-b086-af076cd0ab91",
   "metadata": {},
   "outputs": [
    {
     "name": "stdout",
     "output_type": "stream",
     "text": [
      "Cluster\n",
      "2    21\n",
      "0    17\n",
      "3    11\n",
      "1    10\n",
      "4     7\n",
      "Name: count, dtype: int64\n"
     ]
    },
    {
     "data": {
      "application/vnd.plotly.v1+json": {
       "config": {
        "plotlyServerURL": "https://plot.ly"
       },
       "data": [
        {
         "customdata": [
          [
           1.1799859428958779,
           1.1621102293904024,
           -0.8137621746489034,
           -6.041745464980361,
           -3.8920731472524164,
           1.841734596948803,
           15.256556176183057,
           49.7440220652069,
           14.644800467593988,
           -0.285709555514998,
           -7.824002306900198,
           0,
           0,
           1,
           "A",
           "R",
           55
          ],
          [
           8.077914033165323,
           29.775099394186633,
           -0.3224033090324151,
           -5.146703001971184,
           4.138746795753668,
           0,
           0,
           42.170970756986286,
           17.63075625093375,
           6.827814263660636,
           -11.841353177609406,
           0,
           0,
           1,
           "X",
           "R",
           23
          ],
          [
           -2.047821289081595,
           0.04467990977705093,
           2.461888270956334,
           0,
           2.0661883873957,
           -4.777158247298076,
           6.203558597534536,
           40.43289835848339,
           3.4785245242731215,
           0.0698363321897967,
           -34.895291514081975,
           3.943932397583908,
           0,
           1,
           "E",
           "NR",
           458
          ],
          [
           -1.0474573553054503,
           -2.552024215054882,
           -2.039849465435155,
           0,
           -3.8686979103361083,
           1.8546765727416603,
           10.447735651774131,
           29.782408646961226,
           -2.6572045070442534,
           -3.1919505870349254,
           -27.518947673956966,
           13.94649599335186,
           -0.8715395414195275,
           1,
           "F",
           "NR",
           416
          ],
          [
           -1.315389322532664,
           -4.819833626907976,
           -1.3016693290895864,
           0,
           -1.3260217803072616,
           -11.315707678498228,
           -0.02222656119100545,
           29.36013405004288,
           -2.2334532963587446,
           -4.4634365552790465,
           -16.642877041423578,
           3.1175386894496877,
           -0.38267982182497917,
           1,
           "W",
           "R",
           495
          ],
          [
           -1.8175023324032278,
           -3.5492880754324654,
           -1.916326502915974,
           0,
           -5.911525822002044,
           -4.753056006952424,
           -2.604889474664207,
           35.60504893332909,
           -2.3262284691666064,
           -4.621467571769283,
           -16.822041537808218,
           5.747391118139646,
           -0.9003470200216596,
           1,
           "M",
           "R",
           147
          ],
          [
           -1.285170081910814,
           -2.779825709216919,
           -2.548811803857985,
           -2.2055546291423704,
           -8.865958743238785,
           -2.7169368588528524,
           -1.8183403806547176,
           45.16135463078675,
           -1.554914052790439,
           -1.8526430169405161,
           1.6246429645680829,
           -0.21487150662989943,
           -0.6055718590460352,
           1,
           "D",
           "NR",
           22
          ],
          [
           -1.317311990501813,
           -0.8877791026505845,
           0,
           0,
           -6.193332584541722,
           2.605930956148469,
           5.88105788878434,
           36.53346767597229,
           9.277807850146278,
           -0.7652645019313484,
           -24.030821692531738,
           10.977302779447829,
           0,
           1,
           "L",
           "NR",
           174
          ],
          [
           -3.1336853351094103,
           -0.2392957328496163,
           1.3671729358233609,
           0,
           -1.2444152345594095,
           4.5035192856949475,
           7.867598940293305,
           31.91565327366058,
           1.3968745005997107,
           -1.1498504249127066,
           -10.209819327389013,
           2.0388554414209406,
           -0.3441236008058453,
           1,
           "Y",
           "R",
           60
          ],
          [
           2.3623778433651723,
           5.632885407396276,
           -0.8188801199516272,
           0,
           7.303189123735838,
           -0.6046472641538323,
           -0.809848498067355,
           30.391232397025302,
           3.1004386992931288,
           -0.5276448530110893,
           -7.977589185048739,
           0.7749457906587143,
           -0.1005037815259217,
           1,
           "D",
           "NR",
           15
          ]
         ],
         "hovertemplate": "Cluster=%{customdata[13]}<br>PC1=%{x}<br>PC2=%{y}<br>B_cells=%{customdata[0]}<br>CD4+T_cells=%{customdata[1]}<br>CD8+T_cells=%{customdata[2]}<br>Endothelial_cells=%{customdata[3]}<br>Fibroblasts/SMCs=%{customdata[4]}<br>Macrophages=%{customdata[5]}<br>Monocytes=%{customdata[6]}<br>Neutrophils=%{customdata[7]}<br>Plasma_cells=%{customdata[8]}<br>Tregs=%{customdata[9]}<br>Tumor_cells=%{customdata[10]}<br>DCs=%{customdata[11]}<br>NK_cells=%{customdata[12]}<br>Patient ID=%{customdata[14]}<br>Response Status=%{customdata[15]}<br>PMN #=%{customdata[16]}<extra></extra>",
         "legendgroup": "1",
         "marker": {
          "color": "#636efa",
          "opacity": 0.8,
          "size": 8,
          "symbol": "circle"
         },
         "mode": "markers",
         "name": "1",
         "orientation": "v",
         "showlegend": true,
         "type": "scatter",
         "x": [
          48.69909297285572,
          39.348982551816505,
          45.31062596253041,
          29.62229846327321,
          22.439098341772173,
          31.29317438737036,
          35.75145584330276,
          38.01479800054036,
          23.11208174968183,
          18.7886623309924
         ],
         "xaxis": "x",
         "y": [
          6.384404334284077,
          -10.425481572419733,
          -20.56197782480542,
          -11.546652354560367,
          4.9418051882236895,
          8.523061490374987,
          31.43074728525231,
          -9.047595507499725,
          3.159326432705454,
          0.7142276217146412
         ],
         "yaxis": "y"
        },
        {
         "customdata": [
          [
           -0.21219098448475193,
           2.709438416688507,
           -0.27895966619814727,
           -1.4094294927542896,
           -0.4780155742666879,
           2.74929487625174,
           4.030680753384668,
           8.713384929123592,
           3.764253779023191,
           -0.16012815380508807,
           1.0631498078390524,
           -0.3112053712434003,
           -0.11915864618843254,
           2,
           "B",
           "R",
           6
          ],
          [
           5.8271831332895,
           7.510707403523523,
           -0.9018239541673974,
           -2.484115466281487,
           1.5965963002067358,
           1.3019180036656892,
           4.114023895213601,
           7.832889038396916,
           0.7552853235274783,
           4.045199174779466,
           -1.3115783415206719,
           2.342285708528069,
           -0.1818181818181804,
           2,
           "X",
           "R",
           12
          ],
          [
           0,
           -0.3807766371065294,
           0,
           1.4364237134786977,
           -2.0431762834523135,
           -0.4328143108358041,
           9.07377172587733,
           -0.15681251204679597,
           3.141668892906761,
           -0.17586311452816347,
           -1.169679577925325,
           -0.1534322437718477,
           -0.16058063792223576,
           2,
           "P",
           "NR",
           5
          ],
          [
           -0.34634648975842763,
           0.8249080995971987,
           3.0180500186194754,
           -3.272435870323242,
           -1.4238837630435086,
           0.6840705910086152,
           -0.4525642526217546,
           4.965631159525009,
           1.7619049853502184,
           -0.22207643579819678,
           -0.8176106004962496,
           0.2718145719273114,
           -0.8146458239959898,
           2,
           "P",
           "NR",
           29
          ],
          [
           -0.22941573387056222,
           1.898759539902612,
           -0.3562906189915042,
           0,
           7.410786030745802,
           1.2926298610094373,
           -0.33487441105138993,
           -0.20236470527982706,
           5.02636903659776,
           0,
           -7.3270147314130005,
           -0.14285714285714193,
           0,
           2,
           "W",
           "R",
           9
          ],
          [
           -0.4144253831451532,
           3.7387217428870825,
           -0.36529375777506234,
           0,
           3.4227837916797945,
           1.1389866403033493,
           5.813132882878943,
           -0.29062515767428293,
           -0.039406425501370496,
           -0.539968763041197,
           -4.807702332507926,
           1.270797527750181,
           0,
           2,
           "M",
           "R",
           7
          ],
          [
           -1.430393495466513,
           0.4717152589682346,
           -0.2689164479708787,
           0,
           2.8373558648942376,
           -0.5170022764835245,
           1.2387269202169437,
           8.459944230434042,
           0.7461949408154488,
           -1.1783333224440748,
           -4.186694554971962,
           0.5029631339663517,
           0,
           2,
           "M",
           "R",
           19
          ],
          [
           -1.099394222669483,
           1.10396985890864,
           0.49866693155428987,
           -0.5007717186804493,
           0.5564224517924777,
           3.214402172167685,
           1.7884506315909963,
           7.688428987674056,
           -0.22008249879596128,
           -0.017872844233689626,
           -6.698445800631793,
           3.2914872017606402,
           0,
           2,
           "M",
           "R",
           33
          ],
          [
           -0.9113087884502359,
           0.9626961777837709,
           0.9033229172731668,
           1.597641023293229,
           -1.5080398304630833,
           -0.9141901689831157,
           0.09488929550831349,
           1.5729626370436278,
           0.3783375253933451,
           0.3495538365569335,
           -1.9948932754375905,
           1.5864857434487234,
           0.8615727464629285,
           2,
           "Z",
           "R",
           44
          ],
          [
           -0.7763176961212059,
           0.5832561598909959,
           0.12186980859622275,
           -2.0524214308145847,
           1.6317033849991338,
           -4.034893627431136,
           1.7461353846501864,
           10.392718377142282,
           0.49432988948569817,
           0.7547162927628517,
           -4.9342173673751075,
           -0.5310064223760647,
           -1.1961769136755005,
           2,
           "T",
           "NR",
           71
          ],
          [
           3.517835776116211,
           2.101125595624715,
           -0.585059236597084,
           -0.3661281309560936,
           0.8958893035904958,
           -0.6114972751469102,
           2.20626876193911,
           -0.5683126130480068,
           0.1199364497166913,
           -0.5212031370033123,
           -3.9349188479781145,
           2.2735339272098694,
           1.2153870224749659,
           2,
           "U",
           "NR",
           20
          ],
          [
           2.062544732252232,
           -0.9323546998466389,
           1.6746143830041988,
           -0.19787416631281965,
           9.17122444343446,
           -1.2211475895131099,
           0.9758606955435039,
           6.805259568080046,
           3.460918806754162,
           -0.48964763253778926,
           -7.852338667816372,
           1.860956420579896,
           0,
           2,
           "R",
           "NR",
           12
          ],
          [
           1.845673958592587,
           1.7607615889248576,
           1.2615240941933954,
           4.661252270288798,
           5.0026002786158195,
           4.302163966779609,
           3.1666731805584676,
           3.453544901360208,
           0.7848372963545068,
           0.7656043230830669,
           -9.326715946911355,
           2.2152628814469986,
           -0.31812167610451975,
           2,
           "O",
           "R",
           25
          ],
          [
           4.30490198025959,
           6.521198221019894,
           3.571514592917766,
           0,
           3.4482534266095084,
           1.259850673410874,
           0.018012317431734502,
           5.786186432078413,
           -2.192162070555755,
           4.115875767252731,
           -8.079160542954241,
           1.695515071492424,
           -0.13916893275819697,
           2,
           "H",
           "NR",
           27
          ],
          [
           3.1058267064885636,
           -0.613722732377768,
           0,
           0,
           3.480336595785628,
           1.1404398768842603,
           -0.42486567199044206,
           8.237676215147168,
           -0.28606255226338906,
           2.0853086066774487,
           -3.193944490363169,
           -0.19699021102503309,
           0,
           2,
           "D",
           "NR",
           9
          ],
          [
           -1.1375349949571438,
           3.215052468821384,
           4.7486827434493835,
           0,
           1.3180829205530298,
           1.4012088843866988,
           -0.9200388064492767,
           5.963849527280022,
           1.9531997667859087,
           2.632447469850032,
           -5.105801895637602,
           0.9428979256612544,
           -0.2435611502237285,
           2,
           "V",
           "R",
           18
          ],
          [
           -0.515687617393447,
           1.2211649085395404,
           -0.1949140806274674,
           0,
           -1.8005396841223569,
           1.118042442884454,
           1.719497564456237,
           6.585008850390019,
           1.6907467761062305,
           -0.5865896441633014,
           -4.474268564453868,
           3.457613282552155,
           -1.4679242219599886,
           2,
           "V",
           "R",
           80
          ],
          [
           2.016330612184032,
           0.01669931392538131,
           1.0713940240372797,
           0,
           1.610337650287002,
           -0.37564496047505386,
           4.887874222442046,
           2.5465607555369574,
           -1.3192636984057822,
           -1.4478682555340483,
           -1.4319051193350671,
           -0.710102743566455,
           -0.39373132457092547,
           2,
           "N",
           "NR",
           23
          ],
          [
           -0.3879454500839052,
           -0.5433215073915804,
           -0.21021447651902292,
           0,
           5.484323310455372,
           -0.39946777010769363,
           -0.8186289861807539,
           6.741610173145851,
           4.806279959505248,
           2.7064687256093043,
           -7.163237768890409,
           2.1677822259854285,
           0,
           2,
           "K",
           "NR",
           10
          ],
          [
           2.2477892277643785,
           2.9732566875701942,
           6.597230965681507,
           0,
           3.1210737459768847,
           4.052257998291467,
           -0.006551879186767859,
           5.28935555015636,
           8.974803356931334,
           4.997828196826691,
           -10.489172718839292,
           -1.1190867411466086,
           7.159196767840412,
           2,
           "L",
           "NR",
           22
          ],
          [
           -1.0690345950637665,
           -1.1167703426474254,
           0.4717863202670109,
           0,
           2.5964956478912167,
           1.9450068868182901,
           0.34875496550263485,
           5.192590931543516,
           0.13341524792160364,
           -0.20482668320090422,
           -5.976817284850625,
           -0.3846977924406236,
           -0.46064919717159836,
           2,
           "H",
           "NR",
           36
          ]
         ],
         "hovertemplate": "Cluster=%{customdata[13]}<br>PC1=%{x}<br>PC2=%{y}<br>B_cells=%{customdata[0]}<br>CD4+T_cells=%{customdata[1]}<br>CD8+T_cells=%{customdata[2]}<br>Endothelial_cells=%{customdata[3]}<br>Fibroblasts/SMCs=%{customdata[4]}<br>Macrophages=%{customdata[5]}<br>Monocytes=%{customdata[6]}<br>Neutrophils=%{customdata[7]}<br>Plasma_cells=%{customdata[8]}<br>Tregs=%{customdata[9]}<br>Tumor_cells=%{customdata[10]}<br>DCs=%{customdata[11]}<br>NK_cells=%{customdata[12]}<br>Patient ID=%{customdata[14]}<br>Response Status=%{customdata[15]}<br>PMN #=%{customdata[16]}<extra></extra>",
         "legendgroup": "2",
         "marker": {
          "color": "#EF553B",
          "opacity": 0.8,
          "size": 8,
          "symbol": "circle"
         },
         "mode": "markers",
         "name": "2",
         "orientation": "v",
         "showlegend": true,
         "type": "scatter",
         "x": [
          -12.430391743992663,
          -12.7482292899198,
          -22.709294146717326,
          -17.014228040685992,
          -21.946246970791226,
          -22.434708841627224,
          -11.482726399033545,
          -11.036951654919523,
          -21.05418318822991,
          -8.320402621542486,
          -22.934148349293164,
          -12.693895791692512,
          -16.43708541734399,
          -14.017594845762881,
          -12.952427053343493,
          -14.512117323610184,
          -12.67600406999634,
          -20.50506441621217,
          -12.496363928257233,
          -13.020417869384653,
          -15.505515667927666
         ],
         "xaxis": "x",
         "y": [
          7.056467698561315,
          2.248104132599359,
          3.313775772686949,
          6.837445117603051,
          -8.452770426579205,
          -3.191788858335476,
          2.725235528666685,
          0.053000323451466116,
          5.4560848166416465,
          3.975442598958732,
          0.5039070076686066,
          -7.230628261217561,
          -8.713394467577205,
          -4.9644960066424675,
          3.059362538757085,
          -0.6500917709417501,
          3.4813297562047056,
          4.068732014285347,
          -4.307340836878827,
          -12.300706858301774,
          0.0540897888374498
         ],
         "yaxis": "y"
        },
        {
         "customdata": [
          [
           -0.17281816283231635,
           -1.0011380829235932,
           1.0604473105074066,
           -0.4838049110507428,
           1.7740515773323378,
           0.6277141568595039,
           1.085461697961424,
           19.346557757823412,
           0.9254158552090329,
           -0.8617927590841983,
           -4.529345599114219,
           2.8816877038924478,
           -0.3583087432179095,
           0,
           "X",
           "R",
           15
          ],
          [
           0.8731731356434858,
           -2.2324305920124594,
           -1.8264936565534478,
           -0.40376421066292967,
           2.4716389462195556,
           -1.6612219836156061,
           2.616123037906982,
           13.826422479177577,
           1.2582973662125676,
           -1.9546750924338094,
           -6.469421591593884,
           3.070568319885793,
           0,
           0,
           "R",
           "NR",
           54
          ],
          [
           0,
           -0.6816888468192535,
           -0.49153915231142326,
           0,
           2.3829117577024506,
           7.909039586313399,
           0.14576119157873957,
           18.80112905604895,
           -0.7420251267456928,
           0,
           -9.221878358018781,
           -0.4611848713996502,
           0,
           0,
           "R",
           "NR",
           43
          ],
          [
           1.0337571803655887,
           1.4253501087100162,
           1.5678114383544515,
           -0.3852839362528621,
           -2.02772954168146,
           1.9724861144158565,
           4.956837910768005,
           11.6572785329168,
           -0.5992318548427344,
           -1.9569321797932564,
           -8.104473675546728,
           2.7868825579633056,
           0.39364123777182114,
           0,
           "J",
           "NR",
           78
          ],
          [
           1.580505741861165,
           -0.4967352073869071,
           0.003835417223509607,
           -2.539833556244036,
           8.914413633371808,
           -1.162709375096751,
           6.325479272179079,
           14.691582734703859,
           6.92733635762334,
           -0.8710961389937699,
           -6.0440475320235185,
           0.2130285610310082,
           -0.6162710464497508,
           0,
           "G",
           "NR",
           38
          ],
          [
           -0.40208440502745124,
           0.6091216364351824,
           -0.6264835117554065,
           -1.282640253229246,
           -0.8948117254936054,
           12.12144631643332,
           11.56274099389947,
           16.24859663580375,
           7.103878654790959,
           -0.37393331042148503,
           -10.294689468124128,
           8.799437280309863,
           -0.18790823039834662,
           0,
           "D",
           "NR",
           14
          ],
          [
           -1.6187745605597803,
           3.5152048603631374,
           1.0515275445098875,
           -3.1016898492774714,
           9.18539098273557,
           0.7833272197882001,
           5.28361627769494,
           9.161330342197427,
           4.2553415191000585,
           -1.2803929953774957,
           -9.034566908236336,
           2.1015527222468156,
           -1.0856527691533426,
           0,
           "Z",
           "R",
           48
          ],
          [
           -7.3167057433879314,
           -1.6815894480781577,
           2.401923318597806,
           0.8854357865894358,
           7.972132230421127,
           1.3807284849703663,
           4.148569916971965,
           9.443831297540614,
           2.443465265339308,
           -3.1887865026661975,
           -8.737825394846894,
           1.919968671838305,
           -0.25597328939195113,
           0,
           "Y",
           "R",
           77
          ],
          [
           -0.5293632409625472,
           3.034572213520854,
           2.1459822526341807,
           0,
           6.594849336112437,
           1.0725904402172797,
           0.7975097372860741,
           24.715483480500847,
           0.9057377524556716,
           1.615779739186588,
           -12.079655302172652,
           -0.3459134197354041,
           0,
           0,
           "S",
           "R",
           21
          ],
          [
           -2.260891454840813,
           -1.1068235027574125,
           0.4547825713731666,
           -1.2117402147018375,
           -2.91757233514452,
           0.8202870688039079,
           1.3477192228695731,
           9.879932945677606,
           4.006973859407956,
           -2.3910386089088638,
           -12.672599448121987,
           2.929903482878657,
           -0.5895459802015939,
           0,
           "S",
           "R",
           335
          ],
          [
           -0.026845228193598643,
           1.4904380271906617,
           1.64822254418081,
           0,
           1.90039070873789,
           -0.4309838386027965,
           2.172662708245596,
           13.396600110003968,
           3.2712725526144353,
           -0.7745859156591015,
           -8.527668882409948,
           9.29196334329365,
           0,
           0,
           "K",
           "NR",
           40
          ],
          [
           1.7119055554859863,
           -0.7487489373625648,
           -0.14645975437882894,
           0,
           0.5951632734669144,
           3.5315214474675445,
           -0.7064304877010401,
           24.679209559407383,
           1.1769783948629413,
           -0.5787274014364132,
           -6.370818750125504,
           6.826964492646124,
           0,
           0,
           "V",
           "R",
           12
          ],
          [
           1.9368490135056304,
           3.344083249052074,
           3.5632009649199605,
           0,
           0.5278492361316001,
           3.5999931031920385,
           5.030953640606082,
           18.843648332655057,
           3.885566307767005,
           -1.1968781209496808,
           -11.616987978849895,
           0.8642549259597276,
           2.6244096770789618,
           0,
           "U",
           "NR",
           37
          ],
          [
           0.46588004315502324,
           0.21871017002779564,
           -0.8040072750811234,
           0,
           2.886586843307557,
           5.409153022952614,
           3.2333787453986176,
           9.814905789233284,
           1.1369026662340838,
           -1.4430049533491354,
           -9.344935024684505,
           5.842111771384643,
           0,
           0,
           "S",
           "R",
           49
          ],
          [
           0.12596039168424297,
           -0.8545536495454416,
           -0.6250681993376547,
           0,
           1.8612833857992155,
           2.13701344031245,
           5.584865683424664,
           9.634943481375986,
           -0.6514203386051307,
           -1.093133050251825,
           -9.105758710103608,
           2.4651958810425505,
           -0.957305787923233,
           0,
           "P",
           "NR",
           86
          ],
          [
           -1.6098264543473397,
           0.5494363181471797,
           0,
           0,
           -1.0562206170462871,
           2.4149749275221484,
           -0.5550272989603933,
           15.299782133525113,
           1.2993683034230952,
           -0.4619482932468995,
           -9.251282223099539,
           11.730657886608993,
           0,
           0,
           "K",
           "NR",
           23
          ],
          [
           2.6273102333932843,
           2.5686451962717243,
           -0.4967194393875515,
           0,
           1.755757435436103,
           4.885695870675405,
           2.395006131774978,
           15.627322868924075,
           7.40004796027574,
           -0.7113630847316369,
           -7.093228157816965,
           3.1255967728648333,
           -0.17586311452816258,
           0,
           "D",
           "NR",
           11
          ]
         ],
         "hovertemplate": "Cluster=%{customdata[13]}<br>PC1=%{x}<br>PC2=%{y}<br>B_cells=%{customdata[0]}<br>CD4+T_cells=%{customdata[1]}<br>CD8+T_cells=%{customdata[2]}<br>Endothelial_cells=%{customdata[3]}<br>Fibroblasts/SMCs=%{customdata[4]}<br>Macrophages=%{customdata[5]}<br>Monocytes=%{customdata[6]}<br>Neutrophils=%{customdata[7]}<br>Plasma_cells=%{customdata[8]}<br>Tregs=%{customdata[9]}<br>Tumor_cells=%{customdata[10]}<br>DCs=%{customdata[11]}<br>NK_cells=%{customdata[12]}<br>Patient ID=%{customdata[14]}<br>Response Status=%{customdata[15]}<br>PMN #=%{customdata[16]}<extra></extra>",
         "legendgroup": "0",
         "marker": {
          "color": "#00cc96",
          "opacity": 0.8,
          "size": 8,
          "symbol": "circle"
         },
         "mode": "markers",
         "name": "0",
         "orientation": "v",
         "showlegend": true,
         "type": "scatter",
         "x": [
          3.2867993458899405,
          -2.803866503560338,
          3.478283685652511,
          -4.579826376934326,
          -2.0772275894401147,
          4.093528945112861,
          -8.236943363630278,
          -8.640369344609166,
          12.47339522996115,
          -4.37549960941367,
          -1.578749432567898,
          11.52625343955252,
          6.20686551882225,
          -6.895900771885888,
          -7.413048061786071,
          1.3954414060510056,
          0.46653535607904467
         ],
         "xaxis": "x",
         "y": [
          5.812746501549322,
          2.6266320180499605,
          -0.011631757255446542,
          1.002159253545645,
          -4.913659203960213,
          -7.72197782365681,
          -9.889681500418945,
          -6.358082590644406,
          -4.673163333145264,
          -3.0398046253956257,
          -2.4708851266500105,
          5.599184956037624,
          -5.259358973658707,
          -4.714612986054827,
          -2.4009229411695894,
          0.5778139873678327,
          -2.6800771558119516
         ],
         "yaxis": "y"
        },
        {
         "customdata": [
          [
           -2.0672393958277615,
           -3.43262968489213,
           -2.119145390287856,
           0,
           1.049758089360755,
           -4.1788724992162445,
           3.48478589700611,
           9.509290574848277,
           -2.2814547032972032,
           -2.8937195551470984,
           2.152602746124379,
           0.6171847550030803,
           -0.507441242344564,
           3,
           "W",
           "R",
           118
          ],
          [
           0.6397331272553455,
           2.011885555204433,
           1.3437666088399502,
           0,
           -6.412482154131046,
           0.4442626842569816,
           -0.04797185630865985,
           8.92094627778131,
           -0.8475320396863529,
           -1.1510666249277788,
           3.6852353854372057,
           1.5260565725925026,
           -0.2932459453369572,
           3,
           "S",
           "R",
           38
          ],
          [
           -1.1536320087680392,
           0.462750034721681,
           -0.931880975213917,
           0,
           -4.284735259215946,
           -2.8227394121481977,
           -0.3237454718498336,
           24.736018859938923,
           -0.9646569484203099,
           -1.0882143751650193,
           -4.568386818975392,
           2.487736266080698,
           -0.33487441105138965,
           3,
           "S",
           "R",
           37
          ],
          [
           -1.6920155489223603,
           0.2080882302997338,
           -0.44161534383900003,
           -0.4703778470893519,
           -4.15628875610086,
           -0.24892966819254367,
           -0.09350002681905763,
           18.96238490994754,
           -2.199169545878423,
           -0.8009496936008597,
           -5.922288645070664,
           15.449833597110182,
           0,
           3,
           "N",
           "NR",
           42
          ],
          [
           -1.4058839837173485,
           -2.4945821546699545,
           -1.5996662001590807,
           -1.8777332914941394,
           -16.06253189731379,
           1.3076900931410975,
           0.6933921769423084,
           23.940454177783167,
           -2.5169832360496684,
           -2.2293305389668587,
           10.972812897721308,
           -2.008534107244106,
           -0.19862103574410933,
           3,
           "W",
           "R",
           80
          ],
          [
           0.030707100282026705,
           -1.2553281384906538,
           1.6492947086279333,
           0,
           -10.767158861274385,
           -0.9498243149598162,
           1.8509147406744193,
           16.46891455121903,
           2.143268506264006,
           -1.3649957209989607,
           4.097703391208537,
           5.07105161373428,
           -0.4391338175684356,
           3,
           "R",
           "NR",
           96
          ],
          [
           -3.6640138062635894,
           1.294060910787695,
           -4.035722298849266,
           -3.142564804886865,
           -3.7015031573157904,
           -2.4040681043648977,
           -0.17147582756851212,
           13.927292606235802,
           1.8907343629436841,
           -1.0011903780249074,
           3.8710616628533896,
           2.5180817136153704,
           -1.0876867812003719,
           3,
           "Z",
           "R",
           100
          ],
          [
           -1.5643896791130818,
           -4.460463452090854,
           -3.628509954758899,
           0,
           1.713899696349291,
           -0.034439023101241716,
           0.20484961728418555,
           13.576679057356495,
           1.6654208366577445,
           -2.88745935250503,
           2.0857257473851907,
           -1.9517500283072498,
           -0.35209112510450546,
           3,
           "U",
           "NR",
           69
          ],
          [
           2.1447427423064007,
           -7.011723255305842,
           -6.450666178234852,
           0,
           5.740223047954142,
           4.912109182567803,
           2.6637945909787826,
           21.447723562180734,
           1.4568843744955244,
           -6.035806522693066,
           -0.709270056182574,
           -0.09445637587792328,
           2.076782420721494,
           3,
           "S",
           "R",
           86
          ],
          [
           -1.4917533240039225,
           -1.263864892646877,
           -3.157050988568277,
           0,
           -3.394854149342341,
           -4.09612427651285,
           -3.8322957607204695,
           13.07858753570585,
           1.2464441697453803,
           -1.8295858630701454,
           -2.108557615638549,
           11.624709355241606,
           -0.6681672127246912,
           3,
           "G",
           "NR",
           73
          ],
          [
           -0.14863934041488466,
           -0.4589246918041439,
           -8.500663190446177,
           0,
           -3.4397441397535538,
           -2.240571773973484,
           -0.1711440233914553,
           28.094741019026394,
           -4.684663861816057,
           -4.980524603592671,
           1.2684022460619413,
           2.8121872251624493,
           -0.4223549797001032,
           3,
           "C",
           "R",
           134
          ]
         ],
         "hovertemplate": "Cluster=%{customdata[13]}<br>PC1=%{x}<br>PC2=%{y}<br>B_cells=%{customdata[0]}<br>CD4+T_cells=%{customdata[1]}<br>CD8+T_cells=%{customdata[2]}<br>Endothelial_cells=%{customdata[3]}<br>Fibroblasts/SMCs=%{customdata[4]}<br>Macrophages=%{customdata[5]}<br>Monocytes=%{customdata[6]}<br>Neutrophils=%{customdata[7]}<br>Plasma_cells=%{customdata[8]}<br>Tregs=%{customdata[9]}<br>Tumor_cells=%{customdata[10]}<br>DCs=%{customdata[11]}<br>NK_cells=%{customdata[12]}<br>Patient ID=%{customdata[14]}<br>Response Status=%{customdata[15]}<br>PMN #=%{customdata[16]}<extra></extra>",
         "legendgroup": "3",
         "marker": {
          "color": "#ab63fa",
          "opacity": 0.8,
          "size": 8,
          "symbol": "circle"
         },
         "mode": "markers",
         "name": "3",
         "orientation": "v",
         "showlegend": true,
         "type": "scatter",
         "x": [
          -12.58866961406038,
          -13.170573580179097,
          11.250532828333851,
          5.453239857616187,
          4.416942577780945,
          -1.8447635830492026,
          -5.975748648335159,
          -7.53650396012901,
          3.7046939740368057,
          -4.080438536973156,
          13.068879983748998
         ],
         "xaxis": "x",
         "y": [
          13.818613168684937,
          16.82946367185586,
          13.6504312698423,
          9.00139296369586,
          37.96226638782509,
          21.55595880499562,
          18.147335863339748,
          13.541746441391673,
          9.69823361535935,
          12.479544156149107,
          23.648985647773895
         ],
         "yaxis": "y"
        },
        {
         "customdata": [
          [
           0.027298755281913837,
           3.5361293127495603,
           4.85584730198359,
           0,
           2.325003811497472,
           4.5355998375036775,
           9.028188197458944,
           14.200507631831206,
           5.510447907343364,
           1.383284773195995,
           -16.64147281121722,
           10.672260874716189,
           0.26924364157487324,
           4,
           "S",
           "R",
           75
          ],
          [
           -2.486256325606787,
           4.564702010887469,
           6.614390775560078,
           0,
           8.180958846779854,
           9.117074850865759,
           11.476142422242187,
           7.297839339009251,
           4.794763434796527,
           -0.4759095521260375,
           -24.80528133150859,
           1.5229417556841203,
           1.4907724834469593,
           4,
           "K",
           "NR",
           111
          ],
          [
           0.0009392160037089435,
           2.5754209812642657,
           -0.6286622665916188,
           1.052199965828911,
           8.389909263822087,
           2.2629132585908067,
           4.340588019842663,
           12.19144194217301,
           5.439931215386755,
           0.25652028375982033,
           -13.907646092735343,
           2.8415679754314698,
           -0.44029520078016526,
           4,
           "C",
           "R",
           62
          ],
          [
           -1.7184374917761374,
           1.6001144651606767,
           0.1386265621255781,
           0,
           5.133515140919226,
           9.442904275071886,
           5.523647371519237,
           12.074456942176228,
           5.913053485235223,
           0.11974218859231633,
           -18.85076678140008,
           7.290018478877467,
           -0.6772703395802941,
           4,
           "S",
           "R",
           127
          ],
          [
           -0.5953303335385902,
           -0.21778720582157837,
           2.937934335815399,
           0,
           6.243546000871158,
           6.770291742783818,
           7.9198504572164925,
           15.85724804786374,
           0.855646146694976,
           -1.056963743180644,
           -20.265270592778812,
           7.649805442587314,
           -0.7505729591136259,
           4,
           "S",
           "R",
           124
          ],
          [
           3.1696088310106396,
           3.521514701109325,
           3.052324555081074,
           0,
           12.37089746686815,
           1.0198207500128842,
           1.488400737455066,
           13.14991980300399,
           8.454029400320199,
           2.8243825051588893,
           -13.531526361757038,
           -0.5040211450590006,
           0,
           4,
           "L",
           "NR",
           18
          ],
          [
           8.428095057690657,
           1.0400711674429164,
           -0.5585006173282736,
           0,
           19.942719842532455,
           0.8707248194148121,
           2.4942305828023446,
           16.859966547253542,
           21.930704090435427,
           0.4600286816946441,
           -18.92429547975068,
           0.26644484784527794,
           0,
           4,
           "H",
           "NR",
           36
          ]
         ],
         "hovertemplate": "Cluster=%{customdata[13]}<br>PC1=%{x}<br>PC2=%{y}<br>B_cells=%{customdata[0]}<br>CD4+T_cells=%{customdata[1]}<br>CD8+T_cells=%{customdata[2]}<br>Endothelial_cells=%{customdata[3]}<br>Fibroblasts/SMCs=%{customdata[4]}<br>Macrophages=%{customdata[5]}<br>Monocytes=%{customdata[6]}<br>Neutrophils=%{customdata[7]}<br>Plasma_cells=%{customdata[8]}<br>Tregs=%{customdata[9]}<br>Tumor_cells=%{customdata[10]}<br>DCs=%{customdata[11]}<br>NK_cells=%{customdata[12]}<br>Patient ID=%{customdata[14]}<br>Response Status=%{customdata[15]}<br>PMN #=%{customdata[16]}<extra></extra>",
         "legendgroup": "4",
         "marker": {
          "color": "#FFA15A",
          "opacity": 0.8,
          "size": 8,
          "symbol": "circle"
         },
         "mode": "markers",
         "name": "4",
         "orientation": "v",
         "showlegend": true,
         "type": "scatter",
         "x": [
          3.537838798700682,
          -4.1023672718076885,
          -2.174025050028877,
          0.6221024474628697,
          5.573428884469253,
          -2.0689192062546318,
          6.136405251522387
         ],
         "xaxis": "x",
         "y": [
          -16.22260774942446,
          -31.352286786530286,
          -14.062622121672472,
          -19.334579469186714,
          -18.461885759037134,
          -17.530844090977485,
          -31.447449414531466
         ],
         "yaxis": "y"
        }
       ],
       "layout": {
        "height": 600,
        "legend": {
         "title": {
          "text": "Cluster"
         },
         "tracegroupgap": 0
        },
        "template": {
         "data": {
          "bar": [
           {
            "error_x": {
             "color": "#2a3f5f"
            },
            "error_y": {
             "color": "#2a3f5f"
            },
            "marker": {
             "line": {
              "color": "#E5ECF6",
              "width": 0.5
             },
             "pattern": {
              "fillmode": "overlay",
              "size": 10,
              "solidity": 0.2
             }
            },
            "type": "bar"
           }
          ],
          "barpolar": [
           {
            "marker": {
             "line": {
              "color": "#E5ECF6",
              "width": 0.5
             },
             "pattern": {
              "fillmode": "overlay",
              "size": 10,
              "solidity": 0.2
             }
            },
            "type": "barpolar"
           }
          ],
          "carpet": [
           {
            "aaxis": {
             "endlinecolor": "#2a3f5f",
             "gridcolor": "white",
             "linecolor": "white",
             "minorgridcolor": "white",
             "startlinecolor": "#2a3f5f"
            },
            "baxis": {
             "endlinecolor": "#2a3f5f",
             "gridcolor": "white",
             "linecolor": "white",
             "minorgridcolor": "white",
             "startlinecolor": "#2a3f5f"
            },
            "type": "carpet"
           }
          ],
          "choropleth": [
           {
            "colorbar": {
             "outlinewidth": 0,
             "ticks": ""
            },
            "type": "choropleth"
           }
          ],
          "contour": [
           {
            "colorbar": {
             "outlinewidth": 0,
             "ticks": ""
            },
            "colorscale": [
             [
              0,
              "#0d0887"
             ],
             [
              0.1111111111111111,
              "#46039f"
             ],
             [
              0.2222222222222222,
              "#7201a8"
             ],
             [
              0.3333333333333333,
              "#9c179e"
             ],
             [
              0.4444444444444444,
              "#bd3786"
             ],
             [
              0.5555555555555556,
              "#d8576b"
             ],
             [
              0.6666666666666666,
              "#ed7953"
             ],
             [
              0.7777777777777778,
              "#fb9f3a"
             ],
             [
              0.8888888888888888,
              "#fdca26"
             ],
             [
              1,
              "#f0f921"
             ]
            ],
            "type": "contour"
           }
          ],
          "contourcarpet": [
           {
            "colorbar": {
             "outlinewidth": 0,
             "ticks": ""
            },
            "type": "contourcarpet"
           }
          ],
          "heatmap": [
           {
            "colorbar": {
             "outlinewidth": 0,
             "ticks": ""
            },
            "colorscale": [
             [
              0,
              "#0d0887"
             ],
             [
              0.1111111111111111,
              "#46039f"
             ],
             [
              0.2222222222222222,
              "#7201a8"
             ],
             [
              0.3333333333333333,
              "#9c179e"
             ],
             [
              0.4444444444444444,
              "#bd3786"
             ],
             [
              0.5555555555555556,
              "#d8576b"
             ],
             [
              0.6666666666666666,
              "#ed7953"
             ],
             [
              0.7777777777777778,
              "#fb9f3a"
             ],
             [
              0.8888888888888888,
              "#fdca26"
             ],
             [
              1,
              "#f0f921"
             ]
            ],
            "type": "heatmap"
           }
          ],
          "heatmapgl": [
           {
            "colorbar": {
             "outlinewidth": 0,
             "ticks": ""
            },
            "colorscale": [
             [
              0,
              "#0d0887"
             ],
             [
              0.1111111111111111,
              "#46039f"
             ],
             [
              0.2222222222222222,
              "#7201a8"
             ],
             [
              0.3333333333333333,
              "#9c179e"
             ],
             [
              0.4444444444444444,
              "#bd3786"
             ],
             [
              0.5555555555555556,
              "#d8576b"
             ],
             [
              0.6666666666666666,
              "#ed7953"
             ],
             [
              0.7777777777777778,
              "#fb9f3a"
             ],
             [
              0.8888888888888888,
              "#fdca26"
             ],
             [
              1,
              "#f0f921"
             ]
            ],
            "type": "heatmapgl"
           }
          ],
          "histogram": [
           {
            "marker": {
             "pattern": {
              "fillmode": "overlay",
              "size": 10,
              "solidity": 0.2
             }
            },
            "type": "histogram"
           }
          ],
          "histogram2d": [
           {
            "colorbar": {
             "outlinewidth": 0,
             "ticks": ""
            },
            "colorscale": [
             [
              0,
              "#0d0887"
             ],
             [
              0.1111111111111111,
              "#46039f"
             ],
             [
              0.2222222222222222,
              "#7201a8"
             ],
             [
              0.3333333333333333,
              "#9c179e"
             ],
             [
              0.4444444444444444,
              "#bd3786"
             ],
             [
              0.5555555555555556,
              "#d8576b"
             ],
             [
              0.6666666666666666,
              "#ed7953"
             ],
             [
              0.7777777777777778,
              "#fb9f3a"
             ],
             [
              0.8888888888888888,
              "#fdca26"
             ],
             [
              1,
              "#f0f921"
             ]
            ],
            "type": "histogram2d"
           }
          ],
          "histogram2dcontour": [
           {
            "colorbar": {
             "outlinewidth": 0,
             "ticks": ""
            },
            "colorscale": [
             [
              0,
              "#0d0887"
             ],
             [
              0.1111111111111111,
              "#46039f"
             ],
             [
              0.2222222222222222,
              "#7201a8"
             ],
             [
              0.3333333333333333,
              "#9c179e"
             ],
             [
              0.4444444444444444,
              "#bd3786"
             ],
             [
              0.5555555555555556,
              "#d8576b"
             ],
             [
              0.6666666666666666,
              "#ed7953"
             ],
             [
              0.7777777777777778,
              "#fb9f3a"
             ],
             [
              0.8888888888888888,
              "#fdca26"
             ],
             [
              1,
              "#f0f921"
             ]
            ],
            "type": "histogram2dcontour"
           }
          ],
          "mesh3d": [
           {
            "colorbar": {
             "outlinewidth": 0,
             "ticks": ""
            },
            "type": "mesh3d"
           }
          ],
          "parcoords": [
           {
            "line": {
             "colorbar": {
              "outlinewidth": 0,
              "ticks": ""
             }
            },
            "type": "parcoords"
           }
          ],
          "pie": [
           {
            "automargin": true,
            "type": "pie"
           }
          ],
          "scatter": [
           {
            "fillpattern": {
             "fillmode": "overlay",
             "size": 10,
             "solidity": 0.2
            },
            "type": "scatter"
           }
          ],
          "scatter3d": [
           {
            "line": {
             "colorbar": {
              "outlinewidth": 0,
              "ticks": ""
             }
            },
            "marker": {
             "colorbar": {
              "outlinewidth": 0,
              "ticks": ""
             }
            },
            "type": "scatter3d"
           }
          ],
          "scattercarpet": [
           {
            "marker": {
             "colorbar": {
              "outlinewidth": 0,
              "ticks": ""
             }
            },
            "type": "scattercarpet"
           }
          ],
          "scattergeo": [
           {
            "marker": {
             "colorbar": {
              "outlinewidth": 0,
              "ticks": ""
             }
            },
            "type": "scattergeo"
           }
          ],
          "scattergl": [
           {
            "marker": {
             "colorbar": {
              "outlinewidth": 0,
              "ticks": ""
             }
            },
            "type": "scattergl"
           }
          ],
          "scattermapbox": [
           {
            "marker": {
             "colorbar": {
              "outlinewidth": 0,
              "ticks": ""
             }
            },
            "type": "scattermapbox"
           }
          ],
          "scatterpolar": [
           {
            "marker": {
             "colorbar": {
              "outlinewidth": 0,
              "ticks": ""
             }
            },
            "type": "scatterpolar"
           }
          ],
          "scatterpolargl": [
           {
            "marker": {
             "colorbar": {
              "outlinewidth": 0,
              "ticks": ""
             }
            },
            "type": "scatterpolargl"
           }
          ],
          "scatterternary": [
           {
            "marker": {
             "colorbar": {
              "outlinewidth": 0,
              "ticks": ""
             }
            },
            "type": "scatterternary"
           }
          ],
          "surface": [
           {
            "colorbar": {
             "outlinewidth": 0,
             "ticks": ""
            },
            "colorscale": [
             [
              0,
              "#0d0887"
             ],
             [
              0.1111111111111111,
              "#46039f"
             ],
             [
              0.2222222222222222,
              "#7201a8"
             ],
             [
              0.3333333333333333,
              "#9c179e"
             ],
             [
              0.4444444444444444,
              "#bd3786"
             ],
             [
              0.5555555555555556,
              "#d8576b"
             ],
             [
              0.6666666666666666,
              "#ed7953"
             ],
             [
              0.7777777777777778,
              "#fb9f3a"
             ],
             [
              0.8888888888888888,
              "#fdca26"
             ],
             [
              1,
              "#f0f921"
             ]
            ],
            "type": "surface"
           }
          ],
          "table": [
           {
            "cells": {
             "fill": {
              "color": "#EBF0F8"
             },
             "line": {
              "color": "white"
             }
            },
            "header": {
             "fill": {
              "color": "#C8D4E3"
             },
             "line": {
              "color": "white"
             }
            },
            "type": "table"
           }
          ]
         },
         "layout": {
          "annotationdefaults": {
           "arrowcolor": "#2a3f5f",
           "arrowhead": 0,
           "arrowwidth": 1
          },
          "autotypenumbers": "strict",
          "coloraxis": {
           "colorbar": {
            "outlinewidth": 0,
            "ticks": ""
           }
          },
          "colorscale": {
           "diverging": [
            [
             0,
             "#8e0152"
            ],
            [
             0.1,
             "#c51b7d"
            ],
            [
             0.2,
             "#de77ae"
            ],
            [
             0.3,
             "#f1b6da"
            ],
            [
             0.4,
             "#fde0ef"
            ],
            [
             0.5,
             "#f7f7f7"
            ],
            [
             0.6,
             "#e6f5d0"
            ],
            [
             0.7,
             "#b8e186"
            ],
            [
             0.8,
             "#7fbc41"
            ],
            [
             0.9,
             "#4d9221"
            ],
            [
             1,
             "#276419"
            ]
           ],
           "sequential": [
            [
             0,
             "#0d0887"
            ],
            [
             0.1111111111111111,
             "#46039f"
            ],
            [
             0.2222222222222222,
             "#7201a8"
            ],
            [
             0.3333333333333333,
             "#9c179e"
            ],
            [
             0.4444444444444444,
             "#bd3786"
            ],
            [
             0.5555555555555556,
             "#d8576b"
            ],
            [
             0.6666666666666666,
             "#ed7953"
            ],
            [
             0.7777777777777778,
             "#fb9f3a"
            ],
            [
             0.8888888888888888,
             "#fdca26"
            ],
            [
             1,
             "#f0f921"
            ]
           ],
           "sequentialminus": [
            [
             0,
             "#0d0887"
            ],
            [
             0.1111111111111111,
             "#46039f"
            ],
            [
             0.2222222222222222,
             "#7201a8"
            ],
            [
             0.3333333333333333,
             "#9c179e"
            ],
            [
             0.4444444444444444,
             "#bd3786"
            ],
            [
             0.5555555555555556,
             "#d8576b"
            ],
            [
             0.6666666666666666,
             "#ed7953"
            ],
            [
             0.7777777777777778,
             "#fb9f3a"
            ],
            [
             0.8888888888888888,
             "#fdca26"
            ],
            [
             1,
             "#f0f921"
            ]
           ]
          },
          "colorway": [
           "#636efa",
           "#EF553B",
           "#00cc96",
           "#ab63fa",
           "#FFA15A",
           "#19d3f3",
           "#FF6692",
           "#B6E880",
           "#FF97FF",
           "#FECB52"
          ],
          "font": {
           "color": "#2a3f5f"
          },
          "geo": {
           "bgcolor": "white",
           "lakecolor": "white",
           "landcolor": "#E5ECF6",
           "showlakes": true,
           "showland": true,
           "subunitcolor": "white"
          },
          "hoverlabel": {
           "align": "left"
          },
          "hovermode": "closest",
          "mapbox": {
           "style": "light"
          },
          "paper_bgcolor": "white",
          "plot_bgcolor": "#E5ECF6",
          "polar": {
           "angularaxis": {
            "gridcolor": "white",
            "linecolor": "white",
            "ticks": ""
           },
           "bgcolor": "#E5ECF6",
           "radialaxis": {
            "gridcolor": "white",
            "linecolor": "white",
            "ticks": ""
           }
          },
          "scene": {
           "xaxis": {
            "backgroundcolor": "#E5ECF6",
            "gridcolor": "white",
            "gridwidth": 2,
            "linecolor": "white",
            "showbackground": true,
            "ticks": "",
            "zerolinecolor": "white"
           },
           "yaxis": {
            "backgroundcolor": "#E5ECF6",
            "gridcolor": "white",
            "gridwidth": 2,
            "linecolor": "white",
            "showbackground": true,
            "ticks": "",
            "zerolinecolor": "white"
           },
           "zaxis": {
            "backgroundcolor": "#E5ECF6",
            "gridcolor": "white",
            "gridwidth": 2,
            "linecolor": "white",
            "showbackground": true,
            "ticks": "",
            "zerolinecolor": "white"
           }
          },
          "shapedefaults": {
           "line": {
            "color": "#2a3f5f"
           }
          },
          "ternary": {
           "aaxis": {
            "gridcolor": "white",
            "linecolor": "white",
            "ticks": ""
           },
           "baxis": {
            "gridcolor": "white",
            "linecolor": "white",
            "ticks": ""
           },
           "bgcolor": "#E5ECF6",
           "caxis": {
            "gridcolor": "white",
            "linecolor": "white",
            "ticks": ""
           }
          },
          "title": {
           "x": 0.05
          },
          "xaxis": {
           "automargin": true,
           "gridcolor": "white",
           "linecolor": "white",
           "ticks": "",
           "title": {
            "standoff": 15
           },
           "zerolinecolor": "white",
           "zerolinewidth": 2
          },
          "yaxis": {
           "automargin": true,
           "gridcolor": "white",
           "linecolor": "white",
           "ticks": "",
           "title": {
            "standoff": 15
           },
           "zerolinecolor": "white",
           "zerolinewidth": 2
          }
         }
        },
        "title": {
         "text": "Interactive K-Means Clustering (k=5)"
        },
        "width": 900,
        "xaxis": {
         "anchor": "y",
         "autorange": true,
         "domain": [
          0,
          1
         ],
         "range": [
          -27.522092114805297,
          53.28703673836786
         ],
         "title": {
          "text": "PC1"
         },
         "type": "linear"
        },
        "yaxis": {
         "anchor": "x",
         "autorange": true,
         "domain": [
          0,
          1
         ],
         "range": [
          -36.351396726654485,
          42.866213699948105
         ],
         "title": {
          "text": "PC2"
         },
         "type": "linear"
        }
       }
      },
      "image/png": "[encoded data removed]",
      "text/html": [
       "<div>                            <div id=\"4aa235da-1901-4463-933c-619afec76a4f\" class=\"plotly-graph-div\" style=\"height:600px; width:900px;\"></div>            <script type=\"text/javascript\">                require([\"plotly\"], function(Plotly) {                    window.PLOTLYENV=window.PLOTLYENV || {};                                    if (document.getElementById(\"4aa235da-1901-4463-933c-619afec76a4f\")) {                    Plotly.newPlot(                        \"4aa235da-1901-4463-933c-619afec76a4f\",                        [{\"customdata\":[[1.1799859428958779,1.1621102293904024,-0.8137621746489034,-6.041745464980361,-3.8920731472524164,1.841734596948803,15.256556176183057,49.7440220652069,14.644800467593988,-0.285709555514998,-7.824002306900198,0.0,0.0,1,\"A\",\"R\",55],[8.077914033165323,29.775099394186633,-0.3224033090324151,-5.146703001971184,4.138746795753668,0.0,0.0,42.170970756986286,17.63075625093375,6.827814263660636,-11.841353177609406,0.0,0.0,1,\"X\",\"R\",23],[-2.047821289081595,0.04467990977705093,2.461888270956334,0.0,2.0661883873957,-4.777158247298076,6.203558597534536,40.43289835848339,3.4785245242731215,0.0698363321897967,-34.895291514081975,3.943932397583908,0.0,1,\"E\",\"NR\",458],[-1.0474573553054503,-2.552024215054882,-2.039849465435155,0.0,-3.8686979103361083,1.8546765727416603,10.447735651774131,29.782408646961226,-2.6572045070442534,-3.1919505870349254,-27.518947673956966,13.94649599335186,-0.8715395414195275,1,\"F\",\"NR\",416],[-1.315389322532664,-4.819833626907976,-1.3016693290895864,0.0,-1.3260217803072616,-11.315707678498228,-0.02222656119100545,29.36013405004288,-2.2334532963587446,-4.4634365552790465,-16.642877041423578,3.1175386894496877,-0.38267982182497917,1,\"W\",\"R\",495],[-1.8175023324032278,-3.5492880754324654,-1.916326502915974,0.0,-5.911525822002044,-4.753056006952424,-2.604889474664207,35.60504893332909,-2.3262284691666064,-4.621467571769283,-16.822041537808218,5.747391118139646,-0.9003470200216596,1,\"M\",\"R\",147],[-1.285170081910814,-2.779825709216919,-2.548811803857985,-2.2055546291423704,-8.865958743238785,-2.7169368588528524,-1.8183403806547176,45.16135463078675,-1.554914052790439,-1.8526430169405161,1.6246429645680829,-0.21487150662989943,-0.6055718590460352,1,\"D\",\"NR\",22],[-1.317311990501813,-0.8877791026505845,0.0,0.0,-6.193332584541722,2.605930956148469,5.88105788878434,36.53346767597229,9.277807850146278,-0.7652645019313484,-24.030821692531738,10.977302779447829,0.0,1,\"L\",\"NR\",174],[-3.1336853351094103,-0.2392957328496163,1.3671729358233609,0.0,-1.2444152345594095,4.5035192856949475,7.867598940293305,31.91565327366058,1.3968745005997107,-1.1498504249127066,-10.209819327389013,2.0388554414209406,-0.3441236008058453,1,\"Y\",\"R\",60],[2.3623778433651723,5.632885407396276,-0.8188801199516272,0.0,7.303189123735838,-0.6046472641538323,-0.809848498067355,30.391232397025302,3.1004386992931288,-0.5276448530110893,-7.977589185048739,0.7749457906587143,-0.1005037815259217,1,\"D\",\"NR\",15]],\"hovertemplate\":\"Cluster=%{customdata[13]}\\u003cbr\\u003ePC1=%{x}\\u003cbr\\u003ePC2=%{y}\\u003cbr\\u003eB_cells=%{customdata[0]}\\u003cbr\\u003eCD4+T_cells=%{customdata[1]}\\u003cbr\\u003eCD8+T_cells=%{customdata[2]}\\u003cbr\\u003eEndothelial_cells=%{customdata[3]}\\u003cbr\\u003eFibroblasts\\u002fSMCs=%{customdata[4]}\\u003cbr\\u003eMacrophages=%{customdata[5]}\\u003cbr\\u003eMonocytes=%{customdata[6]}\\u003cbr\\u003eNeutrophils=%{customdata[7]}\\u003cbr\\u003ePlasma_cells=%{customdata[8]}\\u003cbr\\u003eTregs=%{customdata[9]}\\u003cbr\\u003eTumor_cells=%{customdata[10]}\\u003cbr\\u003eDCs=%{customdata[11]}\\u003cbr\\u003eNK_cells=%{customdata[12]}\\u003cbr\\u003ePatient ID=%{customdata[14]}\\u003cbr\\u003eResponse Status=%{customdata[15]}\\u003cbr\\u003ePMN #=%{customdata[16]}\\u003cextra\\u003e\\u003c\\u002fextra\\u003e\",\"legendgroup\":\"1\",\"marker\":{\"color\":\"#636efa\",\"symbol\":\"circle\",\"opacity\":0.8,\"size\":8},\"mode\":\"markers\",\"name\":\"1\",\"orientation\":\"v\",\"showlegend\":true,\"x\":[48.69909297285572,39.348982551816505,45.31062596253041,29.62229846327321,22.439098341772173,31.29317438737036,35.75145584330276,38.01479800054036,23.11208174968183,18.7886623309924],\"xaxis\":\"x\",\"y\":[6.384404334284077,-10.425481572419733,-20.56197782480542,-11.546652354560367,4.9418051882236895,8.523061490374987,31.43074728525231,-9.047595507499725,3.159326432705454,0.7142276217146412],\"yaxis\":\"y\",\"type\":\"scatter\"},{\"customdata\":[[-0.21219098448475193,2.709438416688507,-0.27895966619814727,-1.4094294927542896,-0.4780155742666879,2.74929487625174,4.030680753384668,8.713384929123592,3.764253779023191,-0.16012815380508807,1.0631498078390524,-0.3112053712434003,-0.11915864618843254,2,\"B\",\"R\",6],[5.8271831332895,7.510707403523523,-0.9018239541673974,-2.484115466281487,1.5965963002067358,1.3019180036656892,4.114023895213601,7.832889038396916,0.7552853235274783,4.045199174779466,-1.3115783415206719,2.342285708528069,-0.1818181818181804,2,\"X\",\"R\",12],[0.0,-0.3807766371065294,0.0,1.4364237134786977,-2.0431762834523135,-0.4328143108358041,9.07377172587733,-0.15681251204679597,3.141668892906761,-0.17586311452816347,-1.169679577925325,-0.1534322437718477,-0.16058063792223576,2,\"P\",\"NR\",5],[-0.34634648975842763,0.8249080995971987,3.0180500186194754,-3.272435870323242,-1.4238837630435086,0.6840705910086152,-0.4525642526217546,4.965631159525009,1.7619049853502184,-0.22207643579819678,-0.8176106004962496,0.2718145719273114,-0.8146458239959898,2,\"P\",\"NR\",29],[-0.22941573387056222,1.898759539902612,-0.3562906189915042,0.0,7.410786030745802,1.2926298610094373,-0.33487441105138993,-0.20236470527982706,5.02636903659776,0.0,-7.3270147314130005,-0.14285714285714193,0.0,2,\"W\",\"R\",9],[-0.4144253831451532,3.7387217428870825,-0.36529375777506234,0.0,3.4227837916797945,1.1389866403033493,5.813132882878943,-0.29062515767428293,-0.039406425501370496,-0.539968763041197,-4.807702332507926,1.270797527750181,0.0,2,\"M\",\"R\",7],[-1.430393495466513,0.4717152589682346,-0.2689164479708787,0.0,2.8373558648942376,-0.5170022764835245,1.2387269202169437,8.459944230434042,0.7461949408154488,-1.1783333224440748,-4.186694554971962,0.5029631339663517,0.0,2,\"M\",\"R\",19],[-1.099394222669483,1.10396985890864,0.49866693155428987,-0.5007717186804493,0.5564224517924777,3.214402172167685,1.7884506315909963,7.688428987674056,-0.22008249879596128,-0.017872844233689626,-6.698445800631793,3.2914872017606402,0.0,2,\"M\",\"R\",33],[-0.9113087884502359,0.9626961777837709,0.9033229172731668,1.597641023293229,-1.5080398304630833,-0.9141901689831157,0.09488929550831349,1.5729626370436278,0.3783375253933451,0.3495538365569335,-1.9948932754375905,1.5864857434487234,0.8615727464629285,2,\"Z\",\"R\",44],[-0.7763176961212059,0.5832561598909959,0.12186980859622275,-2.0524214308145847,1.6317033849991338,-4.034893627431136,1.7461353846501864,10.392718377142282,0.49432988948569817,0.7547162927628517,-4.9342173673751075,-0.5310064223760647,-1.1961769136755005,2,\"T\",\"NR\",71],[3.517835776116211,2.101125595624715,-0.585059236597084,-0.3661281309560936,0.8958893035904958,-0.6114972751469102,2.20626876193911,-0.5683126130480068,0.1199364497166913,-0.5212031370033123,-3.9349188479781145,2.2735339272098694,1.2153870224749659,2,\"U\",\"NR\",20],[2.062544732252232,-0.9323546998466389,1.6746143830041988,-0.19787416631281965,9.17122444343446,-1.2211475895131099,0.9758606955435039,6.805259568080046,3.460918806754162,-0.48964763253778926,-7.852338667816372,1.860956420579896,0.0,2,\"R\",\"NR\",12],[1.845673958592587,1.7607615889248576,1.2615240941933954,4.661252270288798,5.0026002786158195,4.302163966779609,3.1666731805584676,3.453544901360208,0.7848372963545068,0.7656043230830669,-9.326715946911355,2.2152628814469986,-0.31812167610451975,2,\"O\",\"R\",25],[4.30490198025959,6.521198221019894,3.571514592917766,0.0,3.4482534266095084,1.259850673410874,0.018012317431734502,5.786186432078413,-2.192162070555755,4.115875767252731,-8.079160542954241,1.695515071492424,-0.13916893275819697,2,\"H\",\"NR\",27],[3.1058267064885636,-0.613722732377768,0.0,0.0,3.480336595785628,1.1404398768842603,-0.42486567199044206,8.237676215147168,-0.28606255226338906,2.0853086066774487,-3.193944490363169,-0.19699021102503309,0.0,2,\"D\",\"NR\",9],[-1.1375349949571438,3.215052468821384,4.7486827434493835,0.0,1.3180829205530298,1.4012088843866988,-0.9200388064492767,5.963849527280022,1.9531997667859087,2.632447469850032,-5.105801895637602,0.9428979256612544,-0.2435611502237285,2,\"V\",\"R\",18],[-0.515687617393447,1.2211649085395404,-0.1949140806274674,0.0,-1.8005396841223569,1.118042442884454,1.719497564456237,6.585008850390019,1.6907467761062305,-0.5865896441633014,-4.474268564453868,3.457613282552155,-1.4679242219599886,2,\"V\",\"R\",80],[2.016330612184032,0.01669931392538131,1.0713940240372797,0.0,1.610337650287002,-0.37564496047505386,4.887874222442046,2.5465607555369574,-1.3192636984057822,-1.4478682555340483,-1.4319051193350671,-0.710102743566455,-0.39373132457092547,2,\"N\",\"NR\",23],[-0.3879454500839052,-0.5433215073915804,-0.21021447651902292,0.0,5.484323310455372,-0.39946777010769363,-0.8186289861807539,6.741610173145851,4.806279959505248,2.7064687256093043,-7.163237768890409,2.1677822259854285,0.0,2,\"K\",\"NR\",10],[2.2477892277643785,2.9732566875701942,6.597230965681507,0.0,3.1210737459768847,4.052257998291467,-0.006551879186767859,5.28935555015636,8.974803356931334,4.997828196826691,-10.489172718839292,-1.1190867411466086,7.159196767840412,2,\"L\",\"NR\",22],[-1.0690345950637665,-1.1167703426474254,0.4717863202670109,0.0,2.5964956478912167,1.9450068868182901,0.34875496550263485,5.192590931543516,0.13341524792160364,-0.20482668320090422,-5.976817284850625,-0.3846977924406236,-0.46064919717159836,2,\"H\",\"NR\",36]],\"hovertemplate\":\"Cluster=%{customdata[13]}\\u003cbr\\u003ePC1=%{x}\\u003cbr\\u003ePC2=%{y}\\u003cbr\\u003eB_cells=%{customdata[0]}\\u003cbr\\u003eCD4+T_cells=%{customdata[1]}\\u003cbr\\u003eCD8+T_cells=%{customdata[2]}\\u003cbr\\u003eEndothelial_cells=%{customdata[3]}\\u003cbr\\u003eFibroblasts\\u002fSMCs=%{customdata[4]}\\u003cbr\\u003eMacrophages=%{customdata[5]}\\u003cbr\\u003eMonocytes=%{customdata[6]}\\u003cbr\\u003eNeutrophils=%{customdata[7]}\\u003cbr\\u003ePlasma_cells=%{customdata[8]}\\u003cbr\\u003eTregs=%{customdata[9]}\\u003cbr\\u003eTumor_cells=%{customdata[10]}\\u003cbr\\u003eDCs=%{customdata[11]}\\u003cbr\\u003eNK_cells=%{customdata[12]}\\u003cbr\\u003ePatient ID=%{customdata[14]}\\u003cbr\\u003eResponse Status=%{customdata[15]}\\u003cbr\\u003ePMN #=%{customdata[16]}\\u003cextra\\u003e\\u003c\\u002fextra\\u003e\",\"legendgroup\":\"2\",\"marker\":{\"color\":\"#EF553B\",\"symbol\":\"circle\",\"opacity\":0.8,\"size\":8},\"mode\":\"markers\",\"name\":\"2\",\"orientation\":\"v\",\"showlegend\":true,\"x\":[-12.430391743992663,-12.7482292899198,-22.709294146717326,-17.014228040685992,-21.946246970791226,-22.434708841627224,-11.482726399033545,-11.036951654919523,-21.05418318822991,-8.320402621542486,-22.934148349293164,-12.693895791692512,-16.43708541734399,-14.017594845762881,-12.952427053343493,-14.512117323610184,-12.67600406999634,-20.50506441621217,-12.496363928257233,-13.020417869384653,-15.505515667927666],\"xaxis\":\"x\",\"y\":[7.056467698561315,2.248104132599359,3.313775772686949,6.837445117603051,-8.452770426579205,-3.191788858335476,2.725235528666685,0.053000323451466116,5.4560848166416465,3.975442598958732,0.5039070076686066,-7.230628261217561,-8.713394467577205,-4.9644960066424675,3.059362538757085,-0.6500917709417501,3.4813297562047056,4.068732014285347,-4.307340836878827,-12.300706858301774,0.0540897888374498],\"yaxis\":\"y\",\"type\":\"scatter\"},{\"customdata\":[[-0.17281816283231635,-1.0011380829235932,1.0604473105074066,-0.4838049110507428,1.7740515773323378,0.6277141568595039,1.085461697961424,19.346557757823412,0.9254158552090329,-0.8617927590841983,-4.529345599114219,2.8816877038924478,-0.3583087432179095,0,\"X\",\"R\",15],[0.8731731356434858,-2.2324305920124594,-1.8264936565534478,-0.40376421066292967,2.4716389462195556,-1.6612219836156061,2.616123037906982,13.826422479177577,1.2582973662125676,-1.9546750924338094,-6.469421591593884,3.070568319885793,0.0,0,\"R\",\"NR\",54],[0.0,-0.6816888468192535,-0.49153915231142326,0.0,2.3829117577024506,7.909039586313399,0.14576119157873957,18.80112905604895,-0.7420251267456928,0.0,-9.221878358018781,-0.4611848713996502,0.0,0,\"R\",\"NR\",43],[1.0337571803655887,1.4253501087100162,1.5678114383544515,-0.3852839362528621,-2.02772954168146,1.9724861144158565,4.956837910768005,11.6572785329168,-0.5992318548427344,-1.9569321797932564,-8.104473675546728,2.7868825579633056,0.39364123777182114,0,\"J\",\"NR\",78],[1.580505741861165,-0.4967352073869071,0.003835417223509607,-2.539833556244036,8.914413633371808,-1.162709375096751,6.325479272179079,14.691582734703859,6.92733635762334,-0.8710961389937699,-6.0440475320235185,0.2130285610310082,-0.6162710464497508,0,\"G\",\"NR\",38],[-0.40208440502745124,0.6091216364351824,-0.6264835117554065,-1.282640253229246,-0.8948117254936054,12.12144631643332,11.56274099389947,16.24859663580375,7.103878654790959,-0.37393331042148503,-10.294689468124128,8.799437280309863,-0.18790823039834662,0,\"D\",\"NR\",14],[-1.6187745605597803,3.5152048603631374,1.0515275445098875,-3.1016898492774714,9.18539098273557,0.7833272197882001,5.28361627769494,9.161330342197427,4.2553415191000585,-1.2803929953774957,-9.034566908236336,2.1015527222468156,-1.0856527691533426,0,\"Z\",\"R\",48],[-7.3167057433879314,-1.6815894480781577,2.401923318597806,0.8854357865894358,7.972132230421127,1.3807284849703663,4.148569916971965,9.443831297540614,2.443465265339308,-3.1887865026661975,-8.737825394846894,1.919968671838305,-0.25597328939195113,0,\"Y\",\"R\",77],[-0.5293632409625472,3.034572213520854,2.1459822526341807,0.0,6.594849336112437,1.0725904402172797,0.7975097372860741,24.715483480500847,0.9057377524556716,1.615779739186588,-12.079655302172652,-0.3459134197354041,0.0,0,\"S\",\"R\",21],[-2.260891454840813,-1.1068235027574125,0.4547825713731666,-1.2117402147018375,-2.91757233514452,0.8202870688039079,1.3477192228695731,9.879932945677606,4.006973859407956,-2.3910386089088638,-12.672599448121987,2.929903482878657,-0.5895459802015939,0,\"S\",\"R\",335],[-0.026845228193598643,1.4904380271906617,1.64822254418081,0.0,1.90039070873789,-0.4309838386027965,2.172662708245596,13.396600110003968,3.2712725526144353,-0.7745859156591015,-8.527668882409948,9.29196334329365,0.0,0,\"K\",\"NR\",40],[1.7119055554859863,-0.7487489373625648,-0.14645975437882894,0.0,0.5951632734669144,3.5315214474675445,-0.7064304877010401,24.679209559407383,1.1769783948629413,-0.5787274014364132,-6.370818750125504,6.826964492646124,0.0,0,\"V\",\"R\",12],[1.9368490135056304,3.344083249052074,3.5632009649199605,0.0,0.5278492361316001,3.5999931031920385,5.030953640606082,18.843648332655057,3.885566307767005,-1.1968781209496808,-11.616987978849895,0.8642549259597276,2.6244096770789618,0,\"U\",\"NR\",37],[0.46588004315502324,0.21871017002779564,-0.8040072750811234,0.0,2.886586843307557,5.409153022952614,3.2333787453986176,9.814905789233284,1.1369026662340838,-1.4430049533491354,-9.344935024684505,5.842111771384643,0.0,0,\"S\",\"R\",49],[0.12596039168424297,-0.8545536495454416,-0.6250681993376547,0.0,1.8612833857992155,2.13701344031245,5.584865683424664,9.634943481375986,-0.6514203386051307,-1.093133050251825,-9.105758710103608,2.4651958810425505,-0.957305787923233,0,\"P\",\"NR\",86],[-1.6098264543473397,0.5494363181471797,0.0,0.0,-1.0562206170462871,2.4149749275221484,-0.5550272989603933,15.299782133525113,1.2993683034230952,-0.4619482932468995,-9.251282223099539,11.730657886608993,0.0,0,\"K\",\"NR\",23],[2.6273102333932843,2.5686451962717243,-0.4967194393875515,0.0,1.755757435436103,4.885695870675405,2.395006131774978,15.627322868924075,7.40004796027574,-0.7113630847316369,-7.093228157816965,3.1255967728648333,-0.17586311452816258,0,\"D\",\"NR\",11]],\"hovertemplate\":\"Cluster=%{customdata[13]}\\u003cbr\\u003ePC1=%{x}\\u003cbr\\u003ePC2=%{y}\\u003cbr\\u003eB_cells=%{customdata[0]}\\u003cbr\\u003eCD4+T_cells=%{customdata[1]}\\u003cbr\\u003eCD8+T_cells=%{customdata[2]}\\u003cbr\\u003eEndothelial_cells=%{customdata[3]}\\u003cbr\\u003eFibroblasts\\u002fSMCs=%{customdata[4]}\\u003cbr\\u003eMacrophages=%{customdata[5]}\\u003cbr\\u003eMonocytes=%{customdata[6]}\\u003cbr\\u003eNeutrophils=%{customdata[7]}\\u003cbr\\u003ePlasma_cells=%{customdata[8]}\\u003cbr\\u003eTregs=%{customdata[9]}\\u003cbr\\u003eTumor_cells=%{customdata[10]}\\u003cbr\\u003eDCs=%{customdata[11]}\\u003cbr\\u003eNK_cells=%{customdata[12]}\\u003cbr\\u003ePatient ID=%{customdata[14]}\\u003cbr\\u003eResponse Status=%{customdata[15]}\\u003cbr\\u003ePMN #=%{customdata[16]}\\u003cextra\\u003e\\u003c\\u002fextra\\u003e\",\"legendgroup\":\"0\",\"marker\":{\"color\":\"#00cc96\",\"symbol\":\"circle\",\"opacity\":0.8,\"size\":8},\"mode\":\"markers\",\"name\":\"0\",\"orientation\":\"v\",\"showlegend\":true,\"x\":[3.2867993458899405,-2.803866503560338,3.478283685652511,-4.579826376934326,-2.0772275894401147,4.093528945112861,-8.236943363630278,-8.640369344609166,12.47339522996115,-4.37549960941367,-1.578749432567898,11.52625343955252,6.20686551882225,-6.895900771885888,-7.413048061786071,1.3954414060510056,0.46653535607904467],\"xaxis\":\"x\",\"y\":[5.812746501549322,2.6266320180499605,-0.011631757255446542,1.002159253545645,-4.913659203960213,-7.72197782365681,-9.889681500418945,-6.358082590644406,-4.673163333145264,-3.0398046253956257,-2.4708851266500105,5.599184956037624,-5.259358973658707,-4.714612986054827,-2.4009229411695894,0.5778139873678327,-2.6800771558119516],\"yaxis\":\"y\",\"type\":\"scatter\"},{\"customdata\":[[-2.0672393958277615,-3.43262968489213,-2.119145390287856,0.0,1.049758089360755,-4.1788724992162445,3.48478589700611,9.509290574848277,-2.2814547032972032,-2.8937195551470984,2.152602746124379,0.6171847550030803,-0.507441242344564,3,\"W\",\"R\",118],[0.6397331272553455,2.011885555204433,1.3437666088399502,0.0,-6.412482154131046,0.4442626842569816,-0.04797185630865985,8.92094627778131,-0.8475320396863529,-1.1510666249277788,3.6852353854372057,1.5260565725925026,-0.2932459453369572,3,\"S\",\"R\",38],[-1.1536320087680392,0.462750034721681,-0.931880975213917,0.0,-4.284735259215946,-2.8227394121481977,-0.3237454718498336,24.736018859938923,-0.9646569484203099,-1.0882143751650193,-4.568386818975392,2.487736266080698,-0.33487441105138965,3,\"S\",\"R\",37],[-1.6920155489223603,0.2080882302997338,-0.44161534383900003,-0.4703778470893519,-4.15628875610086,-0.24892966819254367,-0.09350002681905763,18.96238490994754,-2.199169545878423,-0.8009496936008597,-5.922288645070664,15.449833597110182,0.0,3,\"N\",\"NR\",42],[-1.4058839837173485,-2.4945821546699545,-1.5996662001590807,-1.8777332914941394,-16.06253189731379,1.3076900931410975,0.6933921769423084,23.940454177783167,-2.5169832360496684,-2.2293305389668587,10.972812897721308,-2.008534107244106,-0.19862103574410933,3,\"W\",\"R\",80],[0.030707100282026705,-1.2553281384906538,1.6492947086279333,0.0,-10.767158861274385,-0.9498243149598162,1.8509147406744193,16.46891455121903,2.143268506264006,-1.3649957209989607,4.097703391208537,5.07105161373428,-0.4391338175684356,3,\"R\",\"NR\",96],[-3.6640138062635894,1.294060910787695,-4.035722298849266,-3.142564804886865,-3.7015031573157904,-2.4040681043648977,-0.17147582756851212,13.927292606235802,1.8907343629436841,-1.0011903780249074,3.8710616628533896,2.5180817136153704,-1.0876867812003719,3,\"Z\",\"R\",100],[-1.5643896791130818,-4.460463452090854,-3.628509954758899,0.0,1.713899696349291,-0.034439023101241716,0.20484961728418555,13.576679057356495,1.6654208366577445,-2.88745935250503,2.0857257473851907,-1.9517500283072498,-0.35209112510450546,3,\"U\",\"NR\",69],[2.1447427423064007,-7.011723255305842,-6.450666178234852,0.0,5.740223047954142,4.912109182567803,2.6637945909787826,21.447723562180734,1.4568843744955244,-6.035806522693066,-0.709270056182574,-0.09445637587792328,2.076782420721494,3,\"S\",\"R\",86],[-1.4917533240039225,-1.263864892646877,-3.157050988568277,0.0,-3.394854149342341,-4.09612427651285,-3.8322957607204695,13.07858753570585,1.2464441697453803,-1.8295858630701454,-2.108557615638549,11.624709355241606,-0.6681672127246912,3,\"G\",\"NR\",73],[-0.14863934041488466,-0.4589246918041439,-8.500663190446177,0.0,-3.4397441397535538,-2.240571773973484,-0.1711440233914553,28.094741019026394,-4.684663861816057,-4.980524603592671,1.2684022460619413,2.8121872251624493,-0.4223549797001032,3,\"C\",\"R\",134]],\"hovertemplate\":\"Cluster=%{customdata[13]}\\u003cbr\\u003ePC1=%{x}\\u003cbr\\u003ePC2=%{y}\\u003cbr\\u003eB_cells=%{customdata[0]}\\u003cbr\\u003eCD4+T_cells=%{customdata[1]}\\u003cbr\\u003eCD8+T_cells=%{customdata[2]}\\u003cbr\\u003eEndothelial_cells=%{customdata[3]}\\u003cbr\\u003eFibroblasts\\u002fSMCs=%{customdata[4]}\\u003cbr\\u003eMacrophages=%{customdata[5]}\\u003cbr\\u003eMonocytes=%{customdata[6]}\\u003cbr\\u003eNeutrophils=%{customdata[7]}\\u003cbr\\u003ePlasma_cells=%{customdata[8]}\\u003cbr\\u003eTregs=%{customdata[9]}\\u003cbr\\u003eTumor_cells=%{customdata[10]}\\u003cbr\\u003eDCs=%{customdata[11]}\\u003cbr\\u003eNK_cells=%{customdata[12]}\\u003cbr\\u003ePatient ID=%{customdata[14]}\\u003cbr\\u003eResponse Status=%{customdata[15]}\\u003cbr\\u003ePMN #=%{customdata[16]}\\u003cextra\\u003e\\u003c\\u002fextra\\u003e\",\"legendgroup\":\"3\",\"marker\":{\"color\":\"#ab63fa\",\"symbol\":\"circle\",\"opacity\":0.8,\"size\":8},\"mode\":\"markers\",\"name\":\"3\",\"orientation\":\"v\",\"showlegend\":true,\"x\":[-12.58866961406038,-13.170573580179097,11.250532828333851,5.453239857616187,4.416942577780945,-1.8447635830492026,-5.975748648335159,-7.53650396012901,3.7046939740368057,-4.080438536973156,13.068879983748998],\"xaxis\":\"x\",\"y\":[13.818613168684937,16.82946367185586,13.6504312698423,9.00139296369586,37.96226638782509,21.55595880499562,18.147335863339748,13.541746441391673,9.69823361535935,12.479544156149107,23.648985647773895],\"yaxis\":\"y\",\"type\":\"scatter\"},{\"customdata\":[[0.027298755281913837,3.5361293127495603,4.85584730198359,0.0,2.325003811497472,4.5355998375036775,9.028188197458944,14.200507631831206,5.510447907343364,1.383284773195995,-16.64147281121722,10.672260874716189,0.26924364157487324,4,\"S\",\"R\",75],[-2.486256325606787,4.564702010887469,6.614390775560078,0.0,8.180958846779854,9.117074850865759,11.476142422242187,7.297839339009251,4.794763434796527,-0.4759095521260375,-24.80528133150859,1.5229417556841203,1.4907724834469593,4,\"K\",\"NR\",111],[0.0009392160037089435,2.5754209812642657,-0.6286622665916188,1.052199965828911,8.389909263822087,2.2629132585908067,4.340588019842663,12.19144194217301,5.439931215386755,0.25652028375982033,-13.907646092735343,2.8415679754314698,-0.44029520078016526,4,\"C\",\"R\",62],[-1.7184374917761374,1.6001144651606767,0.1386265621255781,0.0,5.133515140919226,9.442904275071886,5.523647371519237,12.074456942176228,5.913053485235223,0.11974218859231633,-18.85076678140008,7.290018478877467,-0.6772703395802941,4,\"S\",\"R\",127],[-0.5953303335385902,-0.21778720582157837,2.937934335815399,0.0,6.243546000871158,6.770291742783818,7.9198504572164925,15.85724804786374,0.855646146694976,-1.056963743180644,-20.265270592778812,7.649805442587314,-0.7505729591136259,4,\"S\",\"R\",124],[3.1696088310106396,3.521514701109325,3.052324555081074,0.0,12.37089746686815,1.0198207500128842,1.488400737455066,13.14991980300399,8.454029400320199,2.8243825051588893,-13.531526361757038,-0.5040211450590006,0.0,4,\"L\",\"NR\",18],[8.428095057690657,1.0400711674429164,-0.5585006173282736,0.0,19.942719842532455,0.8707248194148121,2.4942305828023446,16.859966547253542,21.930704090435427,0.4600286816946441,-18.92429547975068,0.26644484784527794,0.0,4,\"H\",\"NR\",36]],\"hovertemplate\":\"Cluster=%{customdata[13]}\\u003cbr\\u003ePC1=%{x}\\u003cbr\\u003ePC2=%{y}\\u003cbr\\u003eB_cells=%{customdata[0]}\\u003cbr\\u003eCD4+T_cells=%{customdata[1]}\\u003cbr\\u003eCD8+T_cells=%{customdata[2]}\\u003cbr\\u003eEndothelial_cells=%{customdata[3]}\\u003cbr\\u003eFibroblasts\\u002fSMCs=%{customdata[4]}\\u003cbr\\u003eMacrophages=%{customdata[5]}\\u003cbr\\u003eMonocytes=%{customdata[6]}\\u003cbr\\u003eNeutrophils=%{customdata[7]}\\u003cbr\\u003ePlasma_cells=%{customdata[8]}\\u003cbr\\u003eTregs=%{customdata[9]}\\u003cbr\\u003eTumor_cells=%{customdata[10]}\\u003cbr\\u003eDCs=%{customdata[11]}\\u003cbr\\u003eNK_cells=%{customdata[12]}\\u003cbr\\u003ePatient ID=%{customdata[14]}\\u003cbr\\u003eResponse Status=%{customdata[15]}\\u003cbr\\u003ePMN #=%{customdata[16]}\\u003cextra\\u003e\\u003c\\u002fextra\\u003e\",\"legendgroup\":\"4\",\"marker\":{\"color\":\"#FFA15A\",\"symbol\":\"circle\",\"opacity\":0.8,\"size\":8},\"mode\":\"markers\",\"name\":\"4\",\"orientation\":\"v\",\"showlegend\":true,\"x\":[3.537838798700682,-4.1023672718076885,-2.174025050028877,0.6221024474628697,5.573428884469253,-2.0689192062546318,6.136405251522387],\"xaxis\":\"x\",\"y\":[-16.22260774942446,-31.352286786530286,-14.062622121672472,-19.334579469186714,-18.461885759037134,-17.530844090977485,-31.447449414531466],\"yaxis\":\"y\",\"type\":\"scatter\"}],                        {\"template\":{\"data\":{\"histogram2dcontour\":[{\"type\":\"histogram2dcontour\",\"colorbar\":{\"outlinewidth\":0,\"ticks\":\"\"},\"colorscale\":[[0.0,\"#0d0887\"],[0.1111111111111111,\"#46039f\"],[0.2222222222222222,\"#7201a8\"],[0.3333333333333333,\"#9c179e\"],[0.4444444444444444,\"#bd3786\"],[0.5555555555555556,\"#d8576b\"],[0.6666666666666666,\"#ed7953\"],[0.7777777777777778,\"#fb9f3a\"],[0.8888888888888888,\"#fdca26\"],[1.0,\"#f0f921\"]]}],\"choropleth\":[{\"type\":\"choropleth\",\"colorbar\":{\"outlinewidth\":0,\"ticks\":\"\"}}],\"histogram2d\":[{\"type\":\"histogram2d\",\"colorbar\":{\"outlinewidth\":0,\"ticks\":\"\"},\"colorscale\":[[0.0,\"#0d0887\"],[0.1111111111111111,\"#46039f\"],[0.2222222222222222,\"#7201a8\"],[0.3333333333333333,\"#9c179e\"],[0.4444444444444444,\"#bd3786\"],[0.5555555555555556,\"#d8576b\"],[0.6666666666666666,\"#ed7953\"],[0.7777777777777778,\"#fb9f3a\"],[0.8888888888888888,\"#fdca26\"],[1.0,\"#f0f921\"]]}],\"heatmap\":[{\"type\":\"heatmap\",\"colorbar\":{\"outlinewidth\":0,\"ticks\":\"\"},\"colorscale\":[[0.0,\"#0d0887\"],[0.1111111111111111,\"#46039f\"],[0.2222222222222222,\"#7201a8\"],[0.3333333333333333,\"#9c179e\"],[0.4444444444444444,\"#bd3786\"],[0.5555555555555556,\"#d8576b\"],[0.6666666666666666,\"#ed7953\"],[0.7777777777777778,\"#fb9f3a\"],[0.8888888888888888,\"#fdca26\"],[1.0,\"#f0f921\"]]}],\"heatmapgl\":[{\"type\":\"heatmapgl\",\"colorbar\":{\"outlinewidth\":0,\"ticks\":\"\"},\"colorscale\":[[0.0,\"#0d0887\"],[0.1111111111111111,\"#46039f\"],[0.2222222222222222,\"#7201a8\"],[0.3333333333333333,\"#9c179e\"],[0.4444444444444444,\"#bd3786\"],[0.5555555555555556,\"#d8576b\"],[0.6666666666666666,\"#ed7953\"],[0.7777777777777778,\"#fb9f3a\"],[0.8888888888888888,\"#fdca26\"],[1.0,\"#f0f921\"]]}],\"contourcarpet\":[{\"type\":\"contourcarpet\",\"colorbar\":{\"outlinewidth\":0,\"ticks\":\"\"}}],\"contour\":[{\"type\":\"contour\",\"colorbar\":{\"outlinewidth\":0,\"ticks\":\"\"},\"colorscale\":[[0.0,\"#0d0887\"],[0.1111111111111111,\"#46039f\"],[0.2222222222222222,\"#7201a8\"],[0.3333333333333333,\"#9c179e\"],[0.4444444444444444,\"#bd3786\"],[0.5555555555555556,\"#d8576b\"],[0.6666666666666666,\"#ed7953\"],[0.7777777777777778,\"#fb9f3a\"],[0.8888888888888888,\"#fdca26\"],[1.0,\"#f0f921\"]]}],\"surface\":[{\"type\":\"surface\",\"colorbar\":{\"outlinewidth\":0,\"ticks\":\"\"},\"colorscale\":[[0.0,\"#0d0887\"],[0.1111111111111111,\"#46039f\"],[0.2222222222222222,\"#7201a8\"],[0.3333333333333333,\"#9c179e\"],[0.4444444444444444,\"#bd3786\"],[0.5555555555555556,\"#d8576b\"],[0.6666666666666666,\"#ed7953\"],[0.7777777777777778,\"#fb9f3a\"],[0.8888888888888888,\"#fdca26\"],[1.0,\"#f0f921\"]]}],\"mesh3d\":[{\"type\":\"mesh3d\",\"colorbar\":{\"outlinewidth\":0,\"ticks\":\"\"}}],\"scatter\":[{\"fillpattern\":{\"fillmode\":\"overlay\",\"size\":10,\"solidity\":0.2},\"type\":\"scatter\"}],\"parcoords\":[{\"type\":\"parcoords\",\"line\":{\"colorbar\":{\"outlinewidth\":0,\"ticks\":\"\"}}}],\"scatterpolargl\":[{\"type\":\"scatterpolargl\",\"marker\":{\"colorbar\":{\"outlinewidth\":0,\"ticks\":\"\"}}}],\"bar\":[{\"error_x\":{\"color\":\"#2a3f5f\"},\"error_y\":{\"color\":\"#2a3f5f\"},\"marker\":{\"line\":{\"color\":\"#E5ECF6\",\"width\":0.5},\"pattern\":{\"fillmode\":\"overlay\",\"size\":10,\"solidity\":0.2}},\"type\":\"bar\"}],\"scattergeo\":[{\"type\":\"scattergeo\",\"marker\":{\"colorbar\":{\"outlinewidth\":0,\"ticks\":\"\"}}}],\"scatterpolar\":[{\"type\":\"scatterpolar\",\"marker\":{\"colorbar\":{\"outlinewidth\":0,\"ticks\":\"\"}}}],\"histogram\":[{\"marker\":{\"pattern\":{\"fillmode\":\"overlay\",\"size\":10,\"solidity\":0.2}},\"type\":\"histogram\"}],\"scattergl\":[{\"type\":\"scattergl\",\"marker\":{\"colorbar\":{\"outlinewidth\":0,\"ticks\":\"\"}}}],\"scatter3d\":[{\"type\":\"scatter3d\",\"line\":{\"colorbar\":{\"outlinewidth\":0,\"ticks\":\"\"}},\"marker\":{\"colorbar\":{\"outlinewidth\":0,\"ticks\":\"\"}}}],\"scattermapbox\":[{\"type\":\"scattermapbox\",\"marker\":{\"colorbar\":{\"outlinewidth\":0,\"ticks\":\"\"}}}],\"scatterternary\":[{\"type\":\"scatterternary\",\"marker\":{\"colorbar\":{\"outlinewidth\":0,\"ticks\":\"\"}}}],\"scattercarpet\":[{\"type\":\"scattercarpet\",\"marker\":{\"colorbar\":{\"outlinewidth\":0,\"ticks\":\"\"}}}],\"carpet\":[{\"aaxis\":{\"endlinecolor\":\"#2a3f5f\",\"gridcolor\":\"white\",\"linecolor\":\"white\",\"minorgridcolor\":\"white\",\"startlinecolor\":\"#2a3f5f\"},\"baxis\":{\"endlinecolor\":\"#2a3f5f\",\"gridcolor\":\"white\",\"linecolor\":\"white\",\"minorgridcolor\":\"white\",\"startlinecolor\":\"#2a3f5f\"},\"type\":\"carpet\"}],\"table\":[{\"cells\":{\"fill\":{\"color\":\"#EBF0F8\"},\"line\":{\"color\":\"white\"}},\"header\":{\"fill\":{\"color\":\"#C8D4E3\"},\"line\":{\"color\":\"white\"}},\"type\":\"table\"}],\"barpolar\":[{\"marker\":{\"line\":{\"color\":\"#E5ECF6\",\"width\":0.5},\"pattern\":{\"fillmode\":\"overlay\",\"size\":10,\"solidity\":0.2}},\"type\":\"barpolar\"}],\"pie\":[{\"automargin\":true,\"type\":\"pie\"}]},\"layout\":{\"autotypenumbers\":\"strict\",\"colorway\":[\"#636efa\",\"#EF553B\",\"#00cc96\",\"#ab63fa\",\"#FFA15A\",\"#19d3f3\",\"#FF6692\",\"#B6E880\",\"#FF97FF\",\"#FECB52\"],\"font\":{\"color\":\"#2a3f5f\"},\"hovermode\":\"closest\",\"hoverlabel\":{\"align\":\"left\"},\"paper_bgcolor\":\"white\",\"plot_bgcolor\":\"#E5ECF6\",\"polar\":{\"bgcolor\":\"#E5ECF6\",\"angularaxis\":{\"gridcolor\":\"white\",\"linecolor\":\"white\",\"ticks\":\"\"},\"radialaxis\":{\"gridcolor\":\"white\",\"linecolor\":\"white\",\"ticks\":\"\"}},\"ternary\":{\"bgcolor\":\"#E5ECF6\",\"aaxis\":{\"gridcolor\":\"white\",\"linecolor\":\"white\",\"ticks\":\"\"},\"baxis\":{\"gridcolor\":\"white\",\"linecolor\":\"white\",\"ticks\":\"\"},\"caxis\":{\"gridcolor\":\"white\",\"linecolor\":\"white\",\"ticks\":\"\"}},\"coloraxis\":{\"colorbar\":{\"outlinewidth\":0,\"ticks\":\"\"}},\"colorscale\":{\"sequential\":[[0.0,\"#0d0887\"],[0.1111111111111111,\"#46039f\"],[0.2222222222222222,\"#7201a8\"],[0.3333333333333333,\"#9c179e\"],[0.4444444444444444,\"#bd3786\"],[0.5555555555555556,\"#d8576b\"],[0.6666666666666666,\"#ed7953\"],[0.7777777777777778,\"#fb9f3a\"],[0.8888888888888888,\"#fdca26\"],[1.0,\"#f0f921\"]],\"sequentialminus\":[[0.0,\"#0d0887\"],[0.1111111111111111,\"#46039f\"],[0.2222222222222222,\"#7201a8\"],[0.3333333333333333,\"#9c179e\"],[0.4444444444444444,\"#bd3786\"],[0.5555555555555556,\"#d8576b\"],[0.6666666666666666,\"#ed7953\"],[0.7777777777777778,\"#fb9f3a\"],[0.8888888888888888,\"#fdca26\"],[1.0,\"#f0f921\"]],\"diverging\":[[0,\"#8e0152\"],[0.1,\"#c51b7d\"],[0.2,\"#de77ae\"],[0.3,\"#f1b6da\"],[0.4,\"#fde0ef\"],[0.5,\"#f7f7f7\"],[0.6,\"#e6f5d0\"],[0.7,\"#b8e186\"],[0.8,\"#7fbc41\"],[0.9,\"#4d9221\"],[1,\"#276419\"]]},\"xaxis\":{\"gridcolor\":\"white\",\"linecolor\":\"white\",\"ticks\":\"\",\"title\":{\"standoff\":15},\"zerolinecolor\":\"white\",\"automargin\":true,\"zerolinewidth\":2},\"yaxis\":{\"gridcolor\":\"white\",\"linecolor\":\"white\",\"ticks\":\"\",\"title\":{\"standoff\":15},\"zerolinecolor\":\"white\",\"automargin\":true,\"zerolinewidth\":2},\"scene\":{\"xaxis\":{\"backgroundcolor\":\"#E5ECF6\",\"gridcolor\":\"white\",\"linecolor\":\"white\",\"showbackground\":true,\"ticks\":\"\",\"zerolinecolor\":\"white\",\"gridwidth\":2},\"yaxis\":{\"backgroundcolor\":\"#E5ECF6\",\"gridcolor\":\"white\",\"linecolor\":\"white\",\"showbackground\":true,\"ticks\":\"\",\"zerolinecolor\":\"white\",\"gridwidth\":2},\"zaxis\":{\"backgroundcolor\":\"#E5ECF6\",\"gridcolor\":\"white\",\"linecolor\":\"white\",\"showbackground\":true,\"ticks\":\"\",\"zerolinecolor\":\"white\",\"gridwidth\":2}},\"shapedefaults\":{\"line\":{\"color\":\"#2a3f5f\"}},\"annotationdefaults\":{\"arrowcolor\":\"#2a3f5f\",\"arrowhead\":0,\"arrowwidth\":1},\"geo\":{\"bgcolor\":\"white\",\"landcolor\":\"#E5ECF6\",\"subunitcolor\":\"white\",\"showland\":true,\"showlakes\":true,\"lakecolor\":\"white\"},\"title\":{\"x\":0.05},\"mapbox\":{\"style\":\"light\"}}},\"xaxis\":{\"anchor\":\"y\",\"domain\":[0.0,1.0],\"title\":{\"text\":\"PC1\"}},\"yaxis\":{\"anchor\":\"x\",\"domain\":[0.0,1.0],\"title\":{\"text\":\"PC2\"}},\"legend\":{\"title\":{\"text\":\"Cluster\"},\"tracegroupgap\":0},\"title\":{\"text\":\"Interactive K-Means Clustering (k=5)\"},\"width\":900,\"height\":600},                        {\"responsive\": true}                    ).then(function(){\n",
       "                            \n",
       "var gd = document.getElementById('4aa235da-1901-4463-933c-619afec76a4f');\n",
       "var x = new MutationObserver(function (mutations, observer) {{\n",
       "        var display = window.getComputedStyle(gd).display;\n",
       "        if (!display || display === 'none') {{\n",
       "            console.log([gd, 'removed!']);\n",
       "            Plotly.purge(gd);\n",
       "            observer.disconnect();\n",
       "        }}\n",
       "}});\n",
       "\n",
       "// Listen for the removal of the full notebook cells\n",
       "var notebookContainer = gd.closest('#notebook-container');\n",
       "if (notebookContainer) {{\n",
       "    x.observe(notebookContainer, {childList: true});\n",
       "}}\n",
       "\n",
       "// Listen for the clearing of the current output cell\n",
       "var outputEl = gd.closest('.output');\n",
       "if (outputEl) {{\n",
       "    x.observe(outputEl, {childList: true});\n",
       "}}\n",
       "\n",
       "                        })                };                });            </script>        </div>"
      ]
     },
     "metadata": {},
     "output_type": "display_data"
    }
   ],
   "source": [
    "import pandas as pd\n",
    "from sklearn.cluster import KMeans\n",
    "import matplotlib.pyplot as plt\n",
    "import seaborn as sns\n",
    "import os\n",
    "os.environ[\"OMP_NUM_THREADS\"] = \"1\"\n",
    "import warnings\n",
    "warnings.filterwarnings(\"ignore\")\n",
    "import plotly.express as px\n",
    "\n",
    "# Step 1: Choose number of clusters (e.g., 3)\n",
    "k = 5  # You can change this or use elbow method (shown below)\n",
    "\n",
    "# Step 2: Fit KMeans\n",
    "kmeans = KMeans(n_clusters=k, n_init=20, max_iter=300, random_state=42)\n",
    "pmn_df_filled['Cluster'] = kmeans.fit_predict(pmn_df_filled)\n",
    "\n",
    "# Step 3: Inspect cluster assignments\n",
    "print(pmn_df_filled['Cluster'].value_counts())\n",
    "\n",
    "# Step 4: Visualize clusters (e.g., using PCA for 2D view)\n",
    "from sklearn.decomposition import PCA\n",
    "\n",
    "pca = PCA(n_components=2)\n",
    "components = pca.fit_transform(pmn_df_filled.drop('Cluster', axis=1))\n",
    "pmn_df_filled['PC1'] = components[:, 0]\n",
    "pmn_df_filled['PC2'] = components[:, 1]\n",
    "\n",
    "# Plot clusters\n",
    "# plt.figure(figsize=(8, 6))\n",
    "# sns.scatterplot(data=pmn_df_filled, x='PC1', y='PC2', hue='Cluster', palette='Set2', s=60)\n",
    "# plt.title(f'K-Means Clustering of PMN Expression (k={k})')\n",
    "# plt.xlabel('Principal Component 1')\n",
    "# plt.ylabel('Principal Component 2')\n",
    "# plt.legend(title='Cluster')\n",
    "# plt.grid(True)\n",
    "# plt.show()\n",
    "\n",
    "pmn_df_filled2 = pd.concat([pmn_df_filled, pmn_df[['Patient ID', 'Response Status', 'PMN #']]], axis=1)\n",
    "\n",
    "# pmn_df['Patient ID', 'Response Status', 'PMN #']\n",
    "# Step 3: Interactive plot\n",
    "fig = px.scatter(\n",
    "    pmn_df_filled2,\n",
    "    x='PC1',\n",
    "    y='PC2',\n",
    "    color=pmn_df_filled2['Cluster'].astype(str),\n",
    "    title=f'Interactive K-Means Clustering (k={k})',\n",
    "    labels={'color': 'Cluster'},\n",
    "    hover_data=pmn_df_filled2.columns\n",
    ")\n",
    "\n",
    "fig.update_traces(marker=dict(size=8, opacity=0.8))\n",
    "fig.update_layout(legend_title='Cluster')\n",
    "fig.update_layout(width=900, height=600)\n",
    "fig.show()"
   ]
  },
  {
   "cell_type": "code",
   "execution_count": 22,
   "id": "abd9bbe1-a9be-498a-bfc3-a832bde7ea68",
   "metadata": {},
   "outputs": [
    {
     "data": {
      "text/html": [
       "<div>\n",
       "<style scoped>\n",
       "    .dataframe tbody tr th:only-of-type {\n",
       "        vertical-align: middle;\n",
       "    }\n",
       "\n",
       "    .dataframe tbody tr th {\n",
       "        vertical-align: top;\n",
       "    }\n",
       "\n",
       "    .dataframe thead th {\n",
       "        text-align: right;\n",
       "    }\n",
       "</style>\n",
       "<table border=\"1\" class=\"dataframe\">\n",
       "  <thead>\n",
       "    <tr style=\"text-align: right;\">\n",
       "      <th></th>\n",
       "      <th>B_cells</th>\n",
       "      <th>CD4+T_cells</th>\n",
       "      <th>CD8+T_cells</th>\n",
       "      <th>Endothelial_cells</th>\n",
       "      <th>Fibroblasts/SMCs</th>\n",
       "      <th>Macrophages</th>\n",
       "      <th>Monocytes</th>\n",
       "      <th>Neutrophils</th>\n",
       "      <th>Plasma_cells</th>\n",
       "      <th>Tregs</th>\n",
       "      <th>Tumor_cells</th>\n",
       "      <th>DCs</th>\n",
       "      <th>NK_cells</th>\n",
       "      <th>Cluster</th>\n",
       "      <th>PC1</th>\n",
       "      <th>PC2</th>\n",
       "    </tr>\n",
       "    <tr>\n",
       "      <th>Run</th>\n",
       "      <th></th>\n",
       "      <th></th>\n",
       "      <th></th>\n",
       "      <th></th>\n",
       "      <th></th>\n",
       "      <th></th>\n",
       "      <th></th>\n",
       "      <th></th>\n",
       "      <th></th>\n",
       "      <th></th>\n",
       "      <th></th>\n",
       "      <th></th>\n",
       "      <th></th>\n",
       "      <th></th>\n",
       "      <th></th>\n",
       "      <th></th>\n",
       "    </tr>\n",
       "  </thead>\n",
       "  <tbody>\n",
       "    <tr>\n",
       "      <th>TMA:1_Run1</th>\n",
       "      <td>1.179986</td>\n",
       "      <td>1.162110</td>\n",
       "      <td>-0.813762</td>\n",
       "      <td>-6.041745</td>\n",
       "      <td>-3.892073</td>\n",
       "      <td>1.841735</td>\n",
       "      <td>15.256556</td>\n",
       "      <td>49.744022</td>\n",
       "      <td>14.644800</td>\n",
       "      <td>-0.285710</td>\n",
       "      <td>-7.824002</td>\n",
       "      <td>0.000000</td>\n",
       "      <td>0.000000</td>\n",
       "      <td>0</td>\n",
       "      <td>34.435459</td>\n",
       "      <td>4.514456</td>\n",
       "    </tr>\n",
       "    <tr>\n",
       "      <th>TMA:1_Run3</th>\n",
       "      <td>-0.212191</td>\n",
       "      <td>2.709438</td>\n",
       "      <td>-0.278960</td>\n",
       "      <td>-1.409429</td>\n",
       "      <td>-0.478016</td>\n",
       "      <td>2.749295</td>\n",
       "      <td>4.030681</td>\n",
       "      <td>8.713385</td>\n",
       "      <td>3.764254</td>\n",
       "      <td>-0.160128</td>\n",
       "      <td>1.063150</td>\n",
       "      <td>-0.311205</td>\n",
       "      <td>-0.119159</td>\n",
       "      <td>4</td>\n",
       "      <td>-8.789614</td>\n",
       "      <td>4.989676</td>\n",
       "    </tr>\n",
       "    <tr>\n",
       "      <th>TMA:1_Run4</th>\n",
       "      <td>5.827183</td>\n",
       "      <td>7.510707</td>\n",
       "      <td>-0.901824</td>\n",
       "      <td>-2.484115</td>\n",
       "      <td>1.596596</td>\n",
       "      <td>1.301918</td>\n",
       "      <td>4.114024</td>\n",
       "      <td>7.832889</td>\n",
       "      <td>0.755285</td>\n",
       "      <td>4.045199</td>\n",
       "      <td>-1.311578</td>\n",
       "      <td>2.342286</td>\n",
       "      <td>-0.181818</td>\n",
       "      <td>4</td>\n",
       "      <td>-9.014359</td>\n",
       "      <td>1.589650</td>\n",
       "    </tr>\n",
       "    <tr>\n",
       "      <th>TMA:1_Run5</th>\n",
       "      <td>-0.172818</td>\n",
       "      <td>-1.001138</td>\n",
       "      <td>1.060447</td>\n",
       "      <td>-0.483805</td>\n",
       "      <td>1.774052</td>\n",
       "      <td>0.627714</td>\n",
       "      <td>1.085462</td>\n",
       "      <td>19.346558</td>\n",
       "      <td>0.925416</td>\n",
       "      <td>-0.861793</td>\n",
       "      <td>-4.529346</td>\n",
       "      <td>2.881688</td>\n",
       "      <td>-0.358309</td>\n",
       "      <td>3</td>\n",
       "      <td>2.324118</td>\n",
       "      <td>4.110232</td>\n",
       "    </tr>\n",
       "    <tr>\n",
       "      <th>TMA:1_Run6</th>\n",
       "      <td>8.077914</td>\n",
       "      <td>29.775099</td>\n",
       "      <td>-0.322403</td>\n",
       "      <td>-5.146703</td>\n",
       "      <td>4.138747</td>\n",
       "      <td>0.000000</td>\n",
       "      <td>0.000000</td>\n",
       "      <td>42.170971</td>\n",
       "      <td>17.630756</td>\n",
       "      <td>6.827814</td>\n",
       "      <td>-11.841353</td>\n",
       "      <td>0.000000</td>\n",
       "      <td>0.000000</td>\n",
       "      <td>0</td>\n",
       "      <td>27.823932</td>\n",
       "      <td>-7.371929</td>\n",
       "    </tr>\n",
       "    <tr>\n",
       "      <th>...</th>\n",
       "      <td>...</td>\n",
       "      <td>...</td>\n",
       "      <td>...</td>\n",
       "      <td>...</td>\n",
       "      <td>...</td>\n",
       "      <td>...</td>\n",
       "      <td>...</td>\n",
       "      <td>...</td>\n",
       "      <td>...</td>\n",
       "      <td>...</td>\n",
       "      <td>...</td>\n",
       "      <td>...</td>\n",
       "      <td>...</td>\n",
       "      <td>...</td>\n",
       "      <td>...</td>\n",
       "      <td>...</td>\n",
       "    </tr>\n",
       "    <tr>\n",
       "      <th>TMA:3_Run16</th>\n",
       "      <td>3.169609</td>\n",
       "      <td>3.521515</td>\n",
       "      <td>3.052325</td>\n",
       "      <td>0.000000</td>\n",
       "      <td>12.370897</td>\n",
       "      <td>1.019821</td>\n",
       "      <td>1.488401</td>\n",
       "      <td>13.149920</td>\n",
       "      <td>8.454029</td>\n",
       "      <td>2.824383</td>\n",
       "      <td>-13.531526</td>\n",
       "      <td>-0.504021</td>\n",
       "      <td>0.000000</td>\n",
       "      <td>1</td>\n",
       "      <td>-1.462947</td>\n",
       "      <td>-12.396179</td>\n",
       "    </tr>\n",
       "    <tr>\n",
       "      <th>TMA:3_Run17</th>\n",
       "      <td>2.247789</td>\n",
       "      <td>2.973257</td>\n",
       "      <td>6.597231</td>\n",
       "      <td>0.000000</td>\n",
       "      <td>3.121074</td>\n",
       "      <td>4.052258</td>\n",
       "      <td>-0.006552</td>\n",
       "      <td>5.289356</td>\n",
       "      <td>8.974803</td>\n",
       "      <td>4.997828</td>\n",
       "      <td>-10.489173</td>\n",
       "      <td>-1.119087</td>\n",
       "      <td>7.159197</td>\n",
       "      <td>4</td>\n",
       "      <td>-9.206826</td>\n",
       "      <td>-8.697913</td>\n",
       "    </tr>\n",
       "    <tr>\n",
       "      <th>TMA:3_Run18</th>\n",
       "      <td>-1.069035</td>\n",
       "      <td>-1.116770</td>\n",
       "      <td>0.471786</td>\n",
       "      <td>0.000000</td>\n",
       "      <td>2.596496</td>\n",
       "      <td>1.945007</td>\n",
       "      <td>0.348755</td>\n",
       "      <td>5.192591</td>\n",
       "      <td>0.133415</td>\n",
       "      <td>-0.204827</td>\n",
       "      <td>-5.976817</td>\n",
       "      <td>-0.384698</td>\n",
       "      <td>-0.460649</td>\n",
       "      <td>4</td>\n",
       "      <td>-10.964055</td>\n",
       "      <td>0.038247</td>\n",
       "    </tr>\n",
       "    <tr>\n",
       "      <th>TMA:3_Run19</th>\n",
       "      <td>8.428095</td>\n",
       "      <td>1.040071</td>\n",
       "      <td>-0.558501</td>\n",
       "      <td>0.000000</td>\n",
       "      <td>19.942720</td>\n",
       "      <td>0.870725</td>\n",
       "      <td>2.494231</td>\n",
       "      <td>16.859967</td>\n",
       "      <td>21.930704</td>\n",
       "      <td>0.460029</td>\n",
       "      <td>-18.924295</td>\n",
       "      <td>0.266445</td>\n",
       "      <td>0.000000</td>\n",
       "      <td>1</td>\n",
       "      <td>4.339094</td>\n",
       "      <td>-22.236705</td>\n",
       "    </tr>\n",
       "    <tr>\n",
       "      <th>TMA:3_Run20</th>\n",
       "      <td>2.627310</td>\n",
       "      <td>2.568645</td>\n",
       "      <td>-0.496719</td>\n",
       "      <td>0.000000</td>\n",
       "      <td>1.755757</td>\n",
       "      <td>4.885696</td>\n",
       "      <td>2.395006</td>\n",
       "      <td>15.627323</td>\n",
       "      <td>7.400048</td>\n",
       "      <td>-0.711363</td>\n",
       "      <td>-7.093228</td>\n",
       "      <td>3.125597</td>\n",
       "      <td>-0.175863</td>\n",
       "      <td>1</td>\n",
       "      <td>0.329890</td>\n",
       "      <td>-1.895101</td>\n",
       "    </tr>\n",
       "  </tbody>\n",
       "</table>\n",
       "<p>66 rows × 16 columns</p>\n",
       "</div>"
      ],
      "text/plain": [
       "              B_cells  CD4+T_cells  CD8+T_cells  Endothelial_cells  \\\n",
       "Run                                                                  \n",
       "TMA:1_Run1   1.179986     1.162110    -0.813762          -6.041745   \n",
       "TMA:1_Run3  -0.212191     2.709438    -0.278960          -1.409429   \n",
       "TMA:1_Run4   5.827183     7.510707    -0.901824          -2.484115   \n",
       "TMA:1_Run5  -0.172818    -1.001138     1.060447          -0.483805   \n",
       "TMA:1_Run6   8.077914    29.775099    -0.322403          -5.146703   \n",
       "...               ...          ...          ...                ...   \n",
       "TMA:3_Run16  3.169609     3.521515     3.052325           0.000000   \n",
       "TMA:3_Run17  2.247789     2.973257     6.597231           0.000000   \n",
       "TMA:3_Run18 -1.069035    -1.116770     0.471786           0.000000   \n",
       "TMA:3_Run19  8.428095     1.040071    -0.558501           0.000000   \n",
       "TMA:3_Run20  2.627310     2.568645    -0.496719           0.000000   \n",
       "\n",
       "             Fibroblasts/SMCs  Macrophages  Monocytes  Neutrophils  \\\n",
       "Run                                                                  \n",
       "TMA:1_Run1          -3.892073     1.841735  15.256556    49.744022   \n",
       "TMA:1_Run3          -0.478016     2.749295   4.030681     8.713385   \n",
       "TMA:1_Run4           1.596596     1.301918   4.114024     7.832889   \n",
       "TMA:1_Run5           1.774052     0.627714   1.085462    19.346558   \n",
       "TMA:1_Run6           4.138747     0.000000   0.000000    42.170971   \n",
       "...                       ...          ...        ...          ...   \n",
       "TMA:3_Run16         12.370897     1.019821   1.488401    13.149920   \n",
       "TMA:3_Run17          3.121074     4.052258  -0.006552     5.289356   \n",
       "TMA:3_Run18          2.596496     1.945007   0.348755     5.192591   \n",
       "TMA:3_Run19         19.942720     0.870725   2.494231    16.859967   \n",
       "TMA:3_Run20          1.755757     4.885696   2.395006    15.627323   \n",
       "\n",
       "             Plasma_cells     Tregs  Tumor_cells       DCs  NK_cells  Cluster  \\\n",
       "Run                                                                             \n",
       "TMA:1_Run1      14.644800 -0.285710    -7.824002  0.000000  0.000000        0   \n",
       "TMA:1_Run3       3.764254 -0.160128     1.063150 -0.311205 -0.119159        4   \n",
       "TMA:1_Run4       0.755285  4.045199    -1.311578  2.342286 -0.181818        4   \n",
       "TMA:1_Run5       0.925416 -0.861793    -4.529346  2.881688 -0.358309        3   \n",
       "TMA:1_Run6      17.630756  6.827814   -11.841353  0.000000  0.000000        0   \n",
       "...                   ...       ...          ...       ...       ...      ...   \n",
       "TMA:3_Run16      8.454029  2.824383   -13.531526 -0.504021  0.000000        1   \n",
       "TMA:3_Run17      8.974803  4.997828   -10.489173 -1.119087  7.159197        4   \n",
       "TMA:3_Run18      0.133415 -0.204827    -5.976817 -0.384698 -0.460649        4   \n",
       "TMA:3_Run19     21.930704  0.460029   -18.924295  0.266445  0.000000        1   \n",
       "TMA:3_Run20      7.400048 -0.711363    -7.093228  3.125597 -0.175863        1   \n",
       "\n",
       "                   PC1        PC2  \n",
       "Run                                \n",
       "TMA:1_Run1   34.435459   4.514456  \n",
       "TMA:1_Run3   -8.789614   4.989676  \n",
       "TMA:1_Run4   -9.014359   1.589650  \n",
       "TMA:1_Run5    2.324118   4.110232  \n",
       "TMA:1_Run6   27.823932  -7.371929  \n",
       "...                ...        ...  \n",
       "TMA:3_Run16  -1.462947 -12.396179  \n",
       "TMA:3_Run17  -9.206826  -8.697913  \n",
       "TMA:3_Run18 -10.964055   0.038247  \n",
       "TMA:3_Run19   4.339094 -22.236705  \n",
       "TMA:3_Run20   0.329890  -1.895101  \n",
       "\n",
       "[66 rows x 16 columns]"
      ]
     },
     "metadata": {},
     "output_type": "display_data"
    }
   ],
   "source": [
    "display(pmn_df_filled)"
   ]
  }
 ],
 "metadata": {
  "kernelspec": {
   "display_name": "Python 3 (ipykernel)",
   "language": "python",
   "name": "python3"
  },
  "language_info": {
   "codemirror_mode": {
    "name": "ipython",
    "version": 3
   },
   "file_extension": ".py",
   "mimetype": "text/x-python",
   "name": "python",
   "nbconvert_exporter": "python",
   "pygments_lexer": "ipython3",
   "version": "3.12.7"
  }
 },
 "nbformat": 4,
 "nbformat_minor": 5
}
