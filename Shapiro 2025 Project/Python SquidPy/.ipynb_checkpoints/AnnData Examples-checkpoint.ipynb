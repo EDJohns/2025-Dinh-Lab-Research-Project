{
 "cells": [
  {
   "cell_type": "markdown",
   "id": "b68f538a-d0a1-46ad-93e1-8aad95c91e52",
   "metadata": {},
   "source": [
    "## Basic AnnData Example\n",
    "\n",
    "Data type used in many python 2d/3d models. Example below only includes obs (1 D observations of lengths) and var (1d annoations in the other direction. \n",
    "\n",
    "Obs - Basically column definitions\n",
    "Var - Basically column definitions\n",
    "Obsm - Additional Information for each row (cell). This can include things like X,Y coordinates, "
   ]
  },
  {
   "cell_type": "code",
   "execution_count": null,
   "id": "37ff3e8f-33e6-49ce-929d-1bb00bff95c6",
   "metadata": {
    "tags": []
   },
   "outputs": [],
   "source": [
    "#Installing relavant packages\n",
    "\n",
    "!pip install anndata"
   ]
  },
  {
   "cell_type": "code",
   "execution_count": 1,
   "id": "eec533fc-f7a9-4b27-b19a-52c8d944dc2b",
   "metadata": {
    "tags": []
   },
   "outputs": [
    {
     "data": {
      "text/plain": [
       "array([[0.814152  , 0.13073993, 0.62327364, ..., 0.31354472, 0.42861015,\n",
       "        0.44274802],\n",
       "       [0.51151146, 0.71047631, 0.05220254, ..., 0.49600639, 0.58231072,\n",
       "        0.0494798 ],\n",
       "       [0.44545793, 0.51896234, 0.5390741 , ..., 0.71647921, 0.01737806,\n",
       "        0.55332769],\n",
       "       ...,\n",
       "       [0.28325339, 0.84085159, 0.41597597, ..., 0.76626043, 0.23803107,\n",
       "        0.4005197 ],\n",
       "       [0.94067522, 0.53111129, 0.93137652, ..., 0.19124767, 0.32699959,\n",
       "        0.36073778],\n",
       "       [0.5007546 , 0.35511252, 0.9281228 , ..., 0.46266274, 0.73614429,\n",
       "        0.4274717 ]])"
      ]
     },
     "execution_count": 1,
     "metadata": {},
     "output_type": "execute_result"
    }
   ],
   "source": [
    "import numpy as np\n",
    "import pandas as pd\n",
    "import anndata as ad\n",
    "\n",
    "# Data matrix\n",
    "X = np.random.rand(100, 50)  # 100 cells × 50 genes\n",
    "\n",
    "\n",
    "# Cell annotations\n",
    "obs = pd.DataFrame(index=[f\"cell_{i}\" for i in range(100)],\n",
    "                   data={\"condition\": [\"A\"]*50 + [\"B\"]*50})\n",
    "\n",
    "# Gene annotations\n",
    "var = pd.DataFrame(index=[f\"gene_{j}\" for j in range(50)],\n",
    "                   data={\"gene_name\": [f\"G{j}\" for j in range(50)]})\n",
    "\n",
    "# Create AnnData\n",
    "adata = ad.AnnData(X=X, obs=obs, var=var)\n",
    "\n",
    "adata.X"
   ]
  },
  {
   "cell_type": "code",
   "execution_count": 2,
   "id": "9593d3c9-7e73-4adb-860e-30678cfbdaaf",
   "metadata": {},
   "outputs": [
    {
     "data": {
      "text/html": [
       "<div>\n",
       "<style scoped>\n",
       "    .dataframe tbody tr th:only-of-type {\n",
       "        vertical-align: middle;\n",
       "    }\n",
       "\n",
       "    .dataframe tbody tr th {\n",
       "        vertical-align: top;\n",
       "    }\n",
       "\n",
       "    .dataframe thead th {\n",
       "        text-align: right;\n",
       "    }\n",
       "</style>\n",
       "<table border=\"1\" class=\"dataframe\">\n",
       "  <thead>\n",
       "    <tr style=\"text-align: right;\">\n",
       "      <th></th>\n",
       "      <th>gene_0</th>\n",
       "      <th>gene_1</th>\n",
       "      <th>gene_2</th>\n",
       "      <th>gene_3</th>\n",
       "      <th>gene_4</th>\n",
       "    </tr>\n",
       "  </thead>\n",
       "  <tbody>\n",
       "    <tr>\n",
       "      <th>cell_0</th>\n",
       "      <td>0.814152</td>\n",
       "      <td>0.130740</td>\n",
       "      <td>0.623274</td>\n",
       "      <td>0.157702</td>\n",
       "      <td>0.878279</td>\n",
       "    </tr>\n",
       "    <tr>\n",
       "      <th>cell_1</th>\n",
       "      <td>0.511511</td>\n",
       "      <td>0.710476</td>\n",
       "      <td>0.052203</td>\n",
       "      <td>0.692671</td>\n",
       "      <td>0.121722</td>\n",
       "    </tr>\n",
       "    <tr>\n",
       "      <th>cell_2</th>\n",
       "      <td>0.445458</td>\n",
       "      <td>0.518962</td>\n",
       "      <td>0.539074</td>\n",
       "      <td>0.550763</td>\n",
       "      <td>0.559557</td>\n",
       "    </tr>\n",
       "    <tr>\n",
       "      <th>cell_3</th>\n",
       "      <td>0.792317</td>\n",
       "      <td>0.886002</td>\n",
       "      <td>0.643723</td>\n",
       "      <td>0.670165</td>\n",
       "      <td>0.928160</td>\n",
       "    </tr>\n",
       "    <tr>\n",
       "      <th>cell_4</th>\n",
       "      <td>0.294823</td>\n",
       "      <td>0.706492</td>\n",
       "      <td>0.091397</td>\n",
       "      <td>0.415617</td>\n",
       "      <td>0.999213</td>\n",
       "    </tr>\n",
       "  </tbody>\n",
       "</table>\n",
       "</div>"
      ],
      "text/plain": [
       "          gene_0    gene_1    gene_2    gene_3    gene_4\n",
       "cell_0  0.814152  0.130740  0.623274  0.157702  0.878279\n",
       "cell_1  0.511511  0.710476  0.052203  0.692671  0.121722\n",
       "cell_2  0.445458  0.518962  0.539074  0.550763  0.559557\n",
       "cell_3  0.792317  0.886002  0.643723  0.670165  0.928160\n",
       "cell_4  0.294823  0.706492  0.091397  0.415617  0.999213"
      ]
     },
     "execution_count": 2,
     "metadata": {},
     "output_type": "execute_result"
    }
   ],
   "source": [
    "import pandas as pd\n",
    "\n",
    "pd.DataFrame(\n",
    "    adata.X[:5, :5].toarray() if hasattr(adata.X, \"toarray\") else adata.X[:5, :5],\n",
    "    index=adata.obs_names[:5],\n",
    "    columns=adata.var_names[:5]\n",
    ")"
   ]
  },
  {
   "cell_type": "code",
   "execution_count": 3,
   "id": "1c3c8997-92bc-4470-9971-44e026210100",
   "metadata": {},
   "outputs": [
    {
     "name": "stdout",
     "output_type": "stream",
     "text": [
      "Expression value: 0.5507626273536971\n",
      "\n",
      "Cell metadata:\n",
      " condition    A\n",
      "Name: cell_2, dtype: object\n",
      "\n",
      "Gene metadata:\n",
      " gene_name    G3\n",
      "Name: gene_3, dtype: object\n"
     ]
    }
   ],
   "source": [
    "def get_anndata_value_info(adata, cell_name, gene_name):\n",
    "    \"\"\"\n",
    "    Retrieve the expression value, cell metadata, and gene metadata from an AnnData object.\n",
    "\n",
    "    Parameters:\n",
    "    - adata: AnnData object\n",
    "    - cell_name: str, name of the cell (must be in adata.obs_names)\n",
    "    - gene_name: str, name of the gene (must be in adata.var_names)\n",
    "\n",
    "    Returns:\n",
    "    - dict with expression value, cell metadata (pandas Series), and gene metadata (pandas Series)\n",
    "    \"\"\"\n",
    "    if cell_name not in adata.obs_names:\n",
    "        raise ValueError(f\"Cell '{cell_name}' not found in adata.obs_names\")\n",
    "    if gene_name not in adata.var_names:\n",
    "        raise ValueError(f\"Gene '{gene_name}' not found in adata.var_names\")\n",
    "\n",
    "    # Get expression value\n",
    "    val = adata[cell_name, gene_name].X\n",
    "    if hasattr(val, \"toarray\"):\n",
    "        val = val.toarray()[0, 0]\n",
    "    else:\n",
    "        val = val[0, 0]\n",
    "\n",
    "    # Get metadata\n",
    "    cell_meta = adata.obs.loc[cell_name]\n",
    "    gene_meta = adata.var.loc[gene_name]\n",
    "\n",
    "    return {\n",
    "        \"expression_value\": val,\n",
    "        \"cell_metadata\": cell_meta,\n",
    "        \"gene_metadata\": gene_meta\n",
    "    }\n",
    "\n",
    "\n",
    "result = get_anndata_value_info(adata, \"cell_2\", \"gene_3\")\n",
    "\n",
    "print(\"Expression value:\", result[\"expression_value\"])\n",
    "print(\"\\nCell metadata:\\n\", result[\"cell_metadata\"])\n",
    "print(\"\\nGene metadata:\\n\", result[\"gene_metadata\"])"
   ]
  },
  {
   "cell_type": "code",
   "execution_count": null,
   "id": "a6ff6f29-8e42-45e9-a5b4-6b7335c799ce",
   "metadata": {},
   "outputs": [],
   "source": []
  }
 ],
 "metadata": {
  "kernelspec": {
   "display_name": "Python 3 (ipykernel)",
   "language": "python",
   "name": "python3"
  },
  "language_info": {
   "codemirror_mode": {
    "name": "ipython",
    "version": 3
   },
   "file_extension": ".py",
   "mimetype": "text/x-python",
   "name": "python",
   "nbconvert_exporter": "python",
   "pygments_lexer": "ipython3",
   "version": "3.11.5"
  }
 },
 "nbformat": 4,
 "nbformat_minor": 5
}
