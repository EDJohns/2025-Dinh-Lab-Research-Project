{
 "cells": [
  {
   "cell_type": "markdown",
   "id": "b68f538a-d0a1-46ad-93e1-8aad95c91e52",
   "metadata": {},
   "source": [
    "## Basic AnnData Example\n",
    "\n",
    "Data type used in many python 2d/3d models. Example below only includes obs (1 D observations of lengths) and var (1d annoations in the other direction. \n",
    "\n",
    "Obs - Basically column definitions\n",
    "Var - Basically column definitions\n",
    "Obsm - Additional Information for each row (cell). This can include things like X,Y coordinates, "
   ]
  },
  {
   "cell_type": "code",
   "execution_count": 2,
   "id": "eec533fc-f7a9-4b27-b19a-52c8d944dc2b",
   "metadata": {},
   "outputs": [
    {
     "data": {
      "text/plain": [
       "array([[0.79758122, 0.70619442, 0.6375287 , ..., 0.1440976 , 0.52598012,\n",
       "        0.50376361],\n",
       "       [0.43667452, 0.14716607, 0.74505165, ..., 0.43436988, 0.08346683,\n",
       "        0.29891384],\n",
       "       [0.70147508, 0.92743888, 0.22626717, ..., 0.43927781, 0.00454171,\n",
       "        0.04108985],\n",
       "       ...,\n",
       "       [0.36800356, 0.63629681, 0.46135893, ..., 0.76207203, 0.04029391,\n",
       "        0.04890658],\n",
       "       [0.47199643, 0.55541174, 0.2902444 , ..., 0.27549604, 0.77746505,\n",
       "        0.70033943],\n",
       "       [0.05297986, 0.14349014, 0.71411267, ..., 0.55921052, 0.07561953,\n",
       "        0.79170145]])"
      ]
     },
     "execution_count": 2,
     "metadata": {},
     "output_type": "execute_result"
    }
   ],
   "source": [
    "import numpy as np\n",
    "import pandas as pd\n",
    "import anndata as ad\n",
    "\n",
    "# Data matrix\n",
    "X = np.random.rand(100, 50)  # 100 cells × 50 genes\n",
    "\n",
    "\n",
    "# Cell annotations\n",
    "obs = pd.DataFrame(index=[f\"cell_{i}\" for i in range(100)],\n",
    "                   data={\"condition\": [\"A\"]*50 + [\"B\"]*50})\n",
    "\n",
    "# Gene annotations\n",
    "var = pd.DataFrame(index=[f\"gene_{j}\" for j in range(50)],\n",
    "                   data={\"gene_name\": [f\"G{j}\" for j in range(50)]})\n",
    "\n",
    "# Create AnnData\n",
    "adata = ad.AnnData(X=X, obs=obs, var=var)\n",
    "\n",
    "adata.X"
   ]
  },
  {
   "cell_type": "code",
   "execution_count": null,
   "id": "9593d3c9-7e73-4adb-860e-30678cfbdaaf",
   "metadata": {},
   "outputs": [],
   "source": [
    "import pandas as pd\n",
    "\n",
    "pd.DataFrame(\n",
    "    adata.X[:5, :5].toarray() if hasattr(adata.X, \"toarray\") else adata.X[:5, :5],\n",
    "    index=adata.obs_names[:5],\n",
    "    columns=adata.var_names[:5]\n",
    ")"
   ]
  },
  {
   "cell_type": "code",
   "execution_count": 3,
   "id": "1c3c8997-92bc-4470-9971-44e026210100",
   "metadata": {},
   "outputs": [
    {
     "name": "stdout",
     "output_type": "stream",
     "text": [
      "Expression value: 0.49687221616408794\n",
      "\n",
      "Cell metadata:\n",
      " condition    A\n",
      "Name: cell_2, dtype: object\n",
      "\n",
      "Gene metadata:\n",
      " gene_name    G3\n",
      "Name: gene_3, dtype: object\n"
     ]
    }
   ],
   "source": [
    "def get_anndata_value_info(adata, cell_name, gene_name):\n",
    "    \"\"\"\n",
    "    Retrieve the expression value, cell metadata, and gene metadata from an AnnData object.\n",
    "\n",
    "    Parameters:\n",
    "    - adata: AnnData object\n",
    "    - cell_name: str, name of the cell (must be in adata.obs_names)\n",
    "    - gene_name: str, name of the gene (must be in adata.var_names)\n",
    "\n",
    "    Returns:\n",
    "    - dict with expression value, cell metadata (pandas Series), and gene metadata (pandas Series)\n",
    "    \"\"\"\n",
    "    if cell_name not in adata.obs_names:\n",
    "        raise ValueError(f\"Cell '{cell_name}' not found in adata.obs_names\")\n",
    "    if gene_name not in adata.var_names:\n",
    "        raise ValueError(f\"Gene '{gene_name}' not found in adata.var_names\")\n",
    "\n",
    "    # Get expression value\n",
    "    val = adata[cell_name, gene_name].X\n",
    "    if hasattr(val, \"toarray\"):\n",
    "        val = val.toarray()[0, 0]\n",
    "    else:\n",
    "        val = val[0, 0]\n",
    "\n",
    "    # Get metadata\n",
    "    cell_meta = adata.obs.loc[cell_name]\n",
    "    gene_meta = adata.var.loc[gene_name]\n",
    "\n",
    "    return {\n",
    "        \"expression_value\": val,\n",
    "        \"cell_metadata\": cell_meta,\n",
    "        \"gene_metadata\": gene_meta\n",
    "    }\n",
    "\n",
    "\n",
    "result = get_anndata_value_info(adata, \"cell_2\", \"gene_3\")\n",
    "\n",
    "print(\"Expression value:\", result[\"expression_value\"])\n",
    "print(\"\\nCell metadata:\\n\", result[\"cell_metadata\"])\n",
    "print(\"\\nGene metadata:\\n\", result[\"gene_metadata\"])"
   ]
  },
  {
   "cell_type": "code",
   "execution_count": null,
   "id": "a6ff6f29-8e42-45e9-a5b4-6b7335c799ce",
   "metadata": {},
   "outputs": [],
   "source": []
  }
 ],
 "metadata": {
  "kernelspec": {
   "display_name": "Python [conda env:base] *",
   "language": "python",
   "name": "conda-base-py"
  },
  "language_info": {
   "codemirror_mode": {
    "name": "ipython",
    "version": 3
   },
   "file_extension": ".py",
   "mimetype": "text/x-python",
   "name": "python",
   "nbconvert_exporter": "python",
   "pygments_lexer": "ipython3",
   "version": "3.12.7"
  }
 },
 "nbformat": 4,
 "nbformat_minor": 5
}
