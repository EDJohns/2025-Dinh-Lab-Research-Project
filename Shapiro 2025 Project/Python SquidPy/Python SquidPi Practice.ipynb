{
 "cells": [
  {
   "cell_type": "markdown",
   "id": "f2012d4d-38b6-4531-82dd-0528375247dd",
   "metadata": {},
   "source": [
    "## SQUIDPI Practice\n",
    "\n",
    "This is tutorial show the main functions of SQUIDPI for future reference. "
   ]
  },
  {
   "cell_type": "code",
   "execution_count": 9,
   "id": "5ce711b5-7554-421f-a02a-dc52f3025864",
   "metadata": {},
   "outputs": [
    {
     "name": "stdout",
     "output_type": "stream",
     "text": [
      "Requirement already satisfied: squidpy in c:\\users\\evanj\\anaconda3\\lib\\site-packages (1.6.5)\n",
      "Requirement already satisfied: aiohttp>=3.8.1 in c:\\users\\evanj\\anaconda3\\lib\\site-packages (from squidpy) (3.10.5)\n",
      "Requirement already satisfied: anndata>=0.9 in c:\\users\\evanj\\anaconda3\\lib\\site-packages (from squidpy) (0.11.4)\n",
      "Requirement already satisfied: cycler>=0.11.0 in c:\\users\\evanj\\anaconda3\\lib\\site-packages (from squidpy) (0.11.0)\n",
      "Requirement already satisfied: dask-image>=0.5.0 in c:\\users\\evanj\\anaconda3\\lib\\site-packages (from squidpy) (2024.5.3)\n",
      "Requirement already satisfied: dask<=2024.11.2,>=2021.02.0 in c:\\users\\evanj\\anaconda3\\lib\\site-packages (from dask[array]<=2024.11.2,>=2021.02.0->squidpy) (2024.8.2)\n",
      "Requirement already satisfied: docrep>=0.3.1 in c:\\users\\evanj\\anaconda3\\lib\\site-packages (from squidpy) (0.3.2)\n",
      "Requirement already satisfied: fsspec>=2021.11.0 in c:\\users\\evanj\\anaconda3\\lib\\site-packages (from squidpy) (2024.6.1)\n",
      "Requirement already satisfied: matplotlib-scalebar>=0.8.0 in c:\\users\\evanj\\anaconda3\\lib\\site-packages (from squidpy) (0.9.0)\n",
      "Requirement already satisfied: matplotlib>=3.3 in c:\\users\\evanj\\anaconda3\\lib\\site-packages (from squidpy) (3.9.2)\n",
      "Requirement already satisfied: networkx>=2.6.0 in c:\\users\\evanj\\anaconda3\\lib\\site-packages (from squidpy) (3.3)\n",
      "Requirement already satisfied: numba>=0.56.4 in c:\\users\\evanj\\anaconda3\\lib\\site-packages (from squidpy) (0.60.0)\n",
      "Requirement already satisfied: numpy>=1.23.0 in c:\\users\\evanj\\anaconda3\\lib\\site-packages (from squidpy) (1.26.4)\n",
      "Requirement already satisfied: omnipath>=1.0.7 in c:\\users\\evanj\\anaconda3\\lib\\site-packages (from squidpy) (1.0.10)\n",
      "Requirement already satisfied: pandas>=2.1.0 in c:\\users\\evanj\\anaconda3\\lib\\site-packages (from squidpy) (2.2.2)\n",
      "Requirement already satisfied: pillow>=8.0.0 in c:\\users\\evanj\\anaconda3\\lib\\site-packages (from squidpy) (10.4.0)\n",
      "Requirement already satisfied: scanpy>=1.9.3 in c:\\users\\evanj\\anaconda3\\lib\\site-packages (from squidpy) (1.11.1)\n",
      "Requirement already satisfied: scikit-image>=0.20 in c:\\users\\evanj\\anaconda3\\lib\\site-packages (from squidpy) (0.24.0)\n",
      "Requirement already satisfied: scikit-learn>=0.24.0 in c:\\users\\evanj\\anaconda3\\lib\\site-packages (from squidpy) (1.5.1)\n",
      "Requirement already satisfied: spatialdata>=0.2.5 in c:\\users\\evanj\\anaconda3\\lib\\site-packages (from squidpy) (0.4.0)\n",
      "Requirement already satisfied: statsmodels>=0.12.0 in c:\\users\\evanj\\anaconda3\\lib\\site-packages (from squidpy) (0.14.2)\n",
      "Requirement already satisfied: tifffile!=2022.4.22 in c:\\users\\evanj\\anaconda3\\lib\\site-packages (from squidpy) (2023.4.12)\n",
      "Requirement already satisfied: tqdm>=4.50.2 in c:\\users\\evanj\\anaconda3\\lib\\site-packages (from squidpy) (4.66.5)\n",
      "Requirement already satisfied: validators>=0.18.2 in c:\\users\\evanj\\anaconda3\\lib\\site-packages (from squidpy) (0.35.0)\n",
      "Requirement already satisfied: xarray>=2024.10.0 in c:\\users\\evanj\\anaconda3\\lib\\site-packages (from squidpy) (2024.11.0)\n",
      "Requirement already satisfied: zarr<3.0.0,>=2.6.1 in c:\\users\\evanj\\anaconda3\\lib\\site-packages (from squidpy) (2.18.7)\n",
      "Requirement already satisfied: aiohappyeyeballs>=2.3.0 in c:\\users\\evanj\\anaconda3\\lib\\site-packages (from aiohttp>=3.8.1->squidpy) (2.4.0)\n",
      "Requirement already satisfied: aiosignal>=1.1.2 in c:\\users\\evanj\\anaconda3\\lib\\site-packages (from aiohttp>=3.8.1->squidpy) (1.2.0)\n",
      "Requirement already satisfied: attrs>=17.3.0 in c:\\users\\evanj\\anaconda3\\lib\\site-packages (from aiohttp>=3.8.1->squidpy) (23.1.0)\n",
      "Requirement already satisfied: frozenlist>=1.1.1 in c:\\users\\evanj\\anaconda3\\lib\\site-packages (from aiohttp>=3.8.1->squidpy) (1.4.0)\n",
      "Requirement already satisfied: multidict<7.0,>=4.5 in c:\\users\\evanj\\anaconda3\\lib\\site-packages (from aiohttp>=3.8.1->squidpy) (6.0.4)\n",
      "Requirement already satisfied: yarl<2.0,>=1.0 in c:\\users\\evanj\\anaconda3\\lib\\site-packages (from aiohttp>=3.8.1->squidpy) (1.11.0)\n",
      "Requirement already satisfied: array-api-compat!=1.5,>1.4 in c:\\users\\evanj\\anaconda3\\lib\\site-packages (from anndata>=0.9->squidpy) (1.12.0)\n",
      "Requirement already satisfied: h5py>=3.7 in c:\\users\\evanj\\anaconda3\\lib\\site-packages (from anndata>=0.9->squidpy) (3.11.0)\n",
      "Requirement already satisfied: natsort in c:\\users\\evanj\\anaconda3\\lib\\site-packages (from anndata>=0.9->squidpy) (8.4.0)\n",
      "Requirement already satisfied: packaging>=24.2 in c:\\users\\evanj\\anaconda3\\lib\\site-packages (from anndata>=0.9->squidpy) (25.0)\n",
      "Requirement already satisfied: scipy>1.8 in c:\\users\\evanj\\anaconda3\\lib\\site-packages (from anndata>=0.9->squidpy) (1.13.1)\n",
      "Requirement already satisfied: click>=8.1 in c:\\users\\evanj\\anaconda3\\lib\\site-packages (from dask<=2024.11.2,>=2021.02.0->dask[array]<=2024.11.2,>=2021.02.0->squidpy) (8.1.7)\n",
      "Requirement already satisfied: cloudpickle>=3.0.0 in c:\\users\\evanj\\anaconda3\\lib\\site-packages (from dask<=2024.11.2,>=2021.02.0->dask[array]<=2024.11.2,>=2021.02.0->squidpy) (3.0.0)\n",
      "Requirement already satisfied: partd>=1.4.0 in c:\\users\\evanj\\anaconda3\\lib\\site-packages (from dask<=2024.11.2,>=2021.02.0->dask[array]<=2024.11.2,>=2021.02.0->squidpy) (1.4.1)\n",
      "Requirement already satisfied: pyyaml>=5.3.1 in c:\\users\\evanj\\anaconda3\\lib\\site-packages (from dask<=2024.11.2,>=2021.02.0->dask[array]<=2024.11.2,>=2021.02.0->squidpy) (6.0.1)\n",
      "Requirement already satisfied: toolz>=0.10.0 in c:\\users\\evanj\\anaconda3\\lib\\site-packages (from dask<=2024.11.2,>=2021.02.0->dask[array]<=2024.11.2,>=2021.02.0->squidpy) (0.12.0)\n",
      "Requirement already satisfied: pims>=0.4.1 in c:\\users\\evanj\\anaconda3\\lib\\site-packages (from dask-image>=0.5.0->squidpy) (0.7)\n",
      "Requirement already satisfied: six in c:\\users\\evanj\\anaconda3\\lib\\site-packages (from docrep>=0.3.1->squidpy) (1.16.0)\n",
      "Requirement already satisfied: contourpy>=1.0.1 in c:\\users\\evanj\\anaconda3\\lib\\site-packages (from matplotlib>=3.3->squidpy) (1.2.0)\n",
      "Requirement already satisfied: fonttools>=4.22.0 in c:\\users\\evanj\\anaconda3\\lib\\site-packages (from matplotlib>=3.3->squidpy) (4.51.0)\n",
      "Requirement already satisfied: kiwisolver>=1.3.1 in c:\\users\\evanj\\anaconda3\\lib\\site-packages (from matplotlib>=3.3->squidpy) (1.4.4)\n",
      "Requirement already satisfied: pyparsing>=2.3.1 in c:\\users\\evanj\\anaconda3\\lib\\site-packages (from matplotlib>=3.3->squidpy) (3.1.2)\n",
      "Requirement already satisfied: python-dateutil>=2.7 in c:\\users\\evanj\\anaconda3\\lib\\site-packages (from matplotlib>=3.3->squidpy) (2.9.0.post0)\n",
      "Requirement already satisfied: llvmlite<0.44,>=0.43.0dev0 in c:\\users\\evanj\\anaconda3\\lib\\site-packages (from numba>=0.56.4->squidpy) (0.43.0)\n",
      "Requirement already satisfied: inflect>=4.1.0 in c:\\users\\evanj\\anaconda3\\lib\\site-packages (from omnipath>=1.0.7->squidpy) (7.5.0)\n",
      "Requirement already satisfied: requests>=2.24.0 in c:\\users\\evanj\\anaconda3\\lib\\site-packages (from omnipath>=1.0.7->squidpy) (2.32.3)\n",
      "Requirement already satisfied: typing-extensions>=3.7.4.3 in c:\\users\\evanj\\anaconda3\\lib\\site-packages (from omnipath>=1.0.7->squidpy) (4.11.0)\n",
      "Requirement already satisfied: urllib3>=1.26.0 in c:\\users\\evanj\\anaconda3\\lib\\site-packages (from omnipath>=1.0.7->squidpy) (2.2.3)\n",
      "Requirement already satisfied: wrapt>=1.12.0 in c:\\users\\evanj\\anaconda3\\lib\\site-packages (from omnipath>=1.0.7->squidpy) (1.14.1)\n",
      "Requirement already satisfied: pytz>=2020.1 in c:\\users\\evanj\\anaconda3\\lib\\site-packages (from pandas>=2.1.0->squidpy) (2024.1)\n",
      "Requirement already satisfied: tzdata>=2022.7 in c:\\users\\evanj\\anaconda3\\lib\\site-packages (from pandas>=2.1.0->squidpy) (2023.3)\n",
      "Requirement already satisfied: joblib in c:\\users\\evanj\\anaconda3\\lib\\site-packages (from scanpy>=1.9.3->squidpy) (1.4.2)\n",
      "Requirement already satisfied: legacy-api-wrap>=1.4 in c:\\users\\evanj\\anaconda3\\lib\\site-packages (from scanpy>=1.9.3->squidpy) (1.4.1)\n",
      "Requirement already satisfied: patsy!=1.0.0 in c:\\users\\evanj\\anaconda3\\lib\\site-packages (from scanpy>=1.9.3->squidpy) (0.5.6)\n",
      "Requirement already satisfied: pynndescent>=0.5 in c:\\users\\evanj\\anaconda3\\lib\\site-packages (from scanpy>=1.9.3->squidpy) (0.5.13)\n",
      "Requirement already satisfied: seaborn>=0.13 in c:\\users\\evanj\\anaconda3\\lib\\site-packages (from scanpy>=1.9.3->squidpy) (0.13.2)\n",
      "Requirement already satisfied: session-info2 in c:\\users\\evanj\\anaconda3\\lib\\site-packages (from scanpy>=1.9.3->squidpy) (0.1.2)\n",
      "Requirement already satisfied: umap-learn!=0.5.0,>=0.5 in c:\\users\\evanj\\anaconda3\\lib\\site-packages (from scanpy>=1.9.3->squidpy) (0.5.7)\n",
      "Requirement already satisfied: imageio>=2.33 in c:\\users\\evanj\\anaconda3\\lib\\site-packages (from scikit-image>=0.20->squidpy) (2.33.1)\n",
      "Requirement already satisfied: lazy-loader>=0.4 in c:\\users\\evanj\\anaconda3\\lib\\site-packages (from scikit-image>=0.20->squidpy) (0.4)\n",
      "Requirement already satisfied: threadpoolctl>=3.1.0 in c:\\users\\evanj\\anaconda3\\lib\\site-packages (from scikit-learn>=0.24.0->squidpy) (3.5.0)\n",
      "Requirement already satisfied: geopandas>=0.14 in c:\\users\\evanj\\anaconda3\\lib\\site-packages (from spatialdata>=0.2.5->squidpy) (1.0.1)\n",
      "Requirement already satisfied: multiscale-spatial-image>=2.0.2 in c:\\users\\evanj\\anaconda3\\lib\\site-packages (from spatialdata>=0.2.5->squidpy) (2.0.2)\n",
      "Requirement already satisfied: ome-zarr>=0.8.4 in c:\\users\\evanj\\anaconda3\\lib\\site-packages (from spatialdata>=0.2.5->squidpy) (0.11.1)\n",
      "Requirement already satisfied: pooch in c:\\users\\evanj\\anaconda3\\lib\\site-packages (from spatialdata>=0.2.5->squidpy) (1.8.2)\n",
      "Requirement already satisfied: pyarrow in c:\\users\\evanj\\anaconda3\\lib\\site-packages (from spatialdata>=0.2.5->squidpy) (16.1.0)\n",
      "Requirement already satisfied: rich in c:\\users\\evanj\\anaconda3\\lib\\site-packages (from spatialdata>=0.2.5->squidpy) (13.7.1)\n",
      "Requirement already satisfied: setuptools in c:\\users\\evanj\\anaconda3\\lib\\site-packages (from spatialdata>=0.2.5->squidpy) (75.1.0)\n",
      "Requirement already satisfied: shapely>=2.0.1 in c:\\users\\evanj\\anaconda3\\lib\\site-packages (from spatialdata>=0.2.5->squidpy) (2.1.1)\n",
      "Requirement already satisfied: spatial-image>=1.1.0 in c:\\users\\evanj\\anaconda3\\lib\\site-packages (from spatialdata>=0.2.5->squidpy) (1.2.1)\n",
      "Requirement already satisfied: xarray-dataclasses>=1.8.0 in c:\\users\\evanj\\anaconda3\\lib\\site-packages (from spatialdata>=0.2.5->squidpy) (1.9.1)\n",
      "Requirement already satisfied: xarray-schema in c:\\users\\evanj\\anaconda3\\lib\\site-packages (from spatialdata>=0.2.5->squidpy) (0.0.3)\n",
      "Requirement already satisfied: xarray-spatial>=0.3.5 in c:\\users\\evanj\\anaconda3\\lib\\site-packages (from spatialdata>=0.2.5->squidpy) (0.4.0)\n",
      "Requirement already satisfied: colorama in c:\\users\\evanj\\anaconda3\\lib\\site-packages (from tqdm>=4.50.2->squidpy) (0.4.6)\n",
      "Requirement already satisfied: asciitree in c:\\users\\evanj\\anaconda3\\lib\\site-packages (from zarr<3.0.0,>=2.6.1->squidpy) (0.3.3)\n",
      "Requirement already satisfied: fasteners in c:\\users\\evanj\\anaconda3\\lib\\site-packages (from zarr<3.0.0,>=2.6.1->squidpy) (0.19)\n",
      "Requirement already satisfied: numcodecs!=0.14.0,!=0.14.1,<0.16,>=0.10.0 in c:\\users\\evanj\\anaconda3\\lib\\site-packages (from zarr<3.0.0,>=2.6.1->squidpy) (0.15.1)\n",
      "Requirement already satisfied: dask-expr<1.2,>=1.1 in c:\\users\\evanj\\anaconda3\\lib\\site-packages (from dask[array,dataframe]>=2024.4.1->dask-image>=0.5.0->squidpy) (1.1.13)\n",
      "Requirement already satisfied: pyogrio>=0.7.2 in c:\\users\\evanj\\anaconda3\\lib\\site-packages (from geopandas>=0.14->spatialdata>=0.2.5->squidpy) (0.11.0)\n",
      "Requirement already satisfied: pyproj>=3.3.0 in c:\\users\\evanj\\anaconda3\\lib\\site-packages (from geopandas>=0.14->spatialdata>=0.2.5->squidpy) (3.7.1)\n",
      "Requirement already satisfied: more_itertools>=8.5.0 in c:\\users\\evanj\\anaconda3\\lib\\site-packages (from inflect>=4.1.0->omnipath>=1.0.7->squidpy) (10.3.0)\n",
      "Requirement already satisfied: typeguard>=4.0.1 in c:\\users\\evanj\\anaconda3\\lib\\site-packages (from inflect>=4.1.0->omnipath>=1.0.7->squidpy) (4.4.2)\n",
      "Requirement already satisfied: deprecated in c:\\users\\evanj\\anaconda3\\lib\\site-packages (from numcodecs!=0.14.0,!=0.14.1,<0.16,>=0.10.0->zarr<3.0.0,>=2.6.1->squidpy) (1.2.18)\n",
      "Requirement already satisfied: locket in c:\\users\\evanj\\anaconda3\\lib\\site-packages (from partd>=1.4.0->dask<=2024.11.2,>=2021.02.0->dask[array]<=2024.11.2,>=2021.02.0->squidpy) (1.0.0)\n",
      "Requirement already satisfied: slicerator>=0.9.8 in c:\\users\\evanj\\anaconda3\\lib\\site-packages (from pims>=0.4.1->dask-image>=0.5.0->squidpy) (1.1.0)\n",
      "Requirement already satisfied: charset-normalizer<4,>=2 in c:\\users\\evanj\\anaconda3\\lib\\site-packages (from requests>=2.24.0->omnipath>=1.0.7->squidpy) (3.3.2)\n",
      "Requirement already satisfied: idna<4,>=2.5 in c:\\users\\evanj\\anaconda3\\lib\\site-packages (from requests>=2.24.0->omnipath>=1.0.7->squidpy) (3.7)\n",
      "Requirement already satisfied: certifi>=2017.4.17 in c:\\users\\evanj\\anaconda3\\lib\\site-packages (from requests>=2.24.0->omnipath>=1.0.7->squidpy) (2025.4.26)\n",
      "Requirement already satisfied: datashader>=0.15.0 in c:\\users\\evanj\\anaconda3\\lib\\site-packages (from xarray-spatial>=0.3.5->spatialdata>=0.2.5->squidpy) (0.16.3)\n",
      "Requirement already satisfied: platformdirs>=2.5.0 in c:\\users\\evanj\\anaconda3\\lib\\site-packages (from pooch->spatialdata>=0.2.5->squidpy) (3.10.0)\n",
      "Requirement already satisfied: markdown-it-py>=2.2.0 in c:\\users\\evanj\\anaconda3\\lib\\site-packages (from rich->spatialdata>=0.2.5->squidpy) (2.2.0)\n",
      "Requirement already satisfied: pygments<3.0.0,>=2.13.0 in c:\\users\\evanj\\anaconda3\\lib\\site-packages (from rich->spatialdata>=0.2.5->squidpy) (2.15.1)\n",
      "Requirement already satisfied: colorcet in c:\\users\\evanj\\anaconda3\\lib\\site-packages (from datashader>=0.15.0->xarray-spatial>=0.3.5->spatialdata>=0.2.5->squidpy) (3.1.0)\n",
      "Requirement already satisfied: multipledispatch in c:\\users\\evanj\\anaconda3\\lib\\site-packages (from datashader>=0.15.0->xarray-spatial>=0.3.5->spatialdata>=0.2.5->squidpy) (0.6.0)\n",
      "Requirement already satisfied: param in c:\\users\\evanj\\anaconda3\\lib\\site-packages (from datashader>=0.15.0->xarray-spatial>=0.3.5->spatialdata>=0.2.5->squidpy) (2.1.1)\n",
      "Requirement already satisfied: pyct in c:\\users\\evanj\\anaconda3\\lib\\site-packages (from datashader>=0.15.0->xarray-spatial>=0.3.5->spatialdata>=0.2.5->squidpy) (0.5.0)\n",
      "Requirement already satisfied: s3fs in c:\\users\\evanj\\anaconda3\\lib\\site-packages (from fsspec[s3]!=2021.07.0,!=2023.9.0,>=0.8->ome-zarr>=0.8.4->spatialdata>=0.2.5->squidpy) (2024.6.1)\n",
      "Requirement already satisfied: mdurl~=0.1 in c:\\users\\evanj\\anaconda3\\lib\\site-packages (from markdown-it-py>=2.2.0->rich->spatialdata>=0.2.5->squidpy) (0.1.0)\n",
      "Requirement already satisfied: aiobotocore<3.0.0,>=2.5.4 in c:\\users\\evanj\\anaconda3\\lib\\site-packages (from s3fs->fsspec[s3]!=2021.07.0,!=2023.9.0,>=0.8->ome-zarr>=0.8.4->spatialdata>=0.2.5->squidpy) (2.12.3)\n",
      "Requirement already satisfied: botocore<1.34.70,>=1.34.41 in c:\\users\\evanj\\anaconda3\\lib\\site-packages (from aiobotocore<3.0.0,>=2.5.4->s3fs->fsspec[s3]!=2021.07.0,!=2023.9.0,>=0.8->ome-zarr>=0.8.4->spatialdata>=0.2.5->squidpy) (1.34.69)\n",
      "Requirement already satisfied: aioitertools<1.0.0,>=0.5.1 in c:\\users\\evanj\\anaconda3\\lib\\site-packages (from aiobotocore<3.0.0,>=2.5.4->s3fs->fsspec[s3]!=2021.07.0,!=2023.9.0,>=0.8->ome-zarr>=0.8.4->spatialdata>=0.2.5->squidpy) (0.7.1)\n",
      "Requirement already satisfied: jmespath<2.0.0,>=0.7.1 in c:\\users\\evanj\\anaconda3\\lib\\site-packages (from botocore<1.34.70,>=1.34.41->aiobotocore<3.0.0,>=2.5.4->s3fs->fsspec[s3]!=2021.07.0,!=2023.9.0,>=0.8->ome-zarr>=0.8.4->spatialdata>=0.2.5->squidpy) (1.0.1)\n",
      "successful output\n"
     ]
    }
   ],
   "source": [
    "# Installing Squidpy\n",
    "!pip install squidpy\n",
    "print ('successful output')\n"
   ]
  },
  {
   "cell_type": "code",
   "execution_count": 10,
   "id": "2ce90446-f2df-4aad-9319-3fd8d32dd13c",
   "metadata": {},
   "outputs": [
    {
     "ename": "SyntaxError",
     "evalue": "invalid syntax (2569434137.py, line 1)",
     "output_type": "error",
     "traceback": [
      "\u001b[1;36m  Cell \u001b[1;32mIn[10], line 1\u001b[1;36m\u001b[0m\n\u001b[1;33m    environment.yml <https://github.com/scverse/squidpy_notebooks/blob/main/environment.yml>\u001b[0m\n\u001b[1;37m                          ^\u001b[0m\n\u001b[1;31mSyntaxError\u001b[0m\u001b[1;31m:\u001b[0m invalid syntax\n"
     ]
    }
   ],
   "source": [
    "environment.yml <https://github.com/scverse/squidpy_notebooks/blob/main/environment.yml>"
   ]
  },
  {
   "cell_type": "code",
   "execution_count": null,
   "id": "c70296ef-ce9f-4bcb-b3aa-ca75c962ca8e",
   "metadata": {},
   "outputs": [],
   "source": []
  }
 ],
 "metadata": {
  "kernelspec": {
   "display_name": "Python [conda env:base] *",
   "language": "python",
   "name": "conda-base-py"
  },
  "language_info": {
   "codemirror_mode": {
    "name": "ipython",
    "version": 3
   },
   "file_extension": ".py",
   "mimetype": "text/x-python",
   "name": "python",
   "nbconvert_exporter": "python",
   "pygments_lexer": "ipython3",
   "version": "3.12.7"
  }
 },
 "nbformat": 4,
 "nbformat_minor": 5
}
