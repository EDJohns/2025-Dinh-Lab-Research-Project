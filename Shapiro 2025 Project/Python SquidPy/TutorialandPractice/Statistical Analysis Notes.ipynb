{
 "cells": [
  {
   "cell_type": "markdown",
   "id": "474f941d-ce10-4dfe-bd20-2700a4e72845",
   "metadata": {},
   "source": [
    "### Notes on various statisical analysis methods used in cellular data\n",
    "\n",
    "* K-Nearest Neighboor (KNN) Algorithm: Machine learning program which can be used to classify cellular groupings.\n",
    "  \n"
   ]
  }
 ],
 "metadata": {
  "kernelspec": {
   "display_name": "Python [conda env:base] *",
   "language": "python",
   "name": "conda-base-py"
  },
  "language_info": {
   "codemirror_mode": {
    "name": "ipython",
    "version": 3
   },
   "file_extension": ".py",
   "mimetype": "text/x-python",
   "name": "python",
   "nbconvert_exporter": "python",
   "pygments_lexer": "ipython3",
   "version": "3.12.7"
  }
 },
 "nbformat": 4,
 "nbformat_minor": 5
}
