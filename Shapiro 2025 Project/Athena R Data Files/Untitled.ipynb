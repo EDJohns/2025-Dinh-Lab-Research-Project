{
 "cells": [
  {
   "cell_type": "markdown",
   "id": "2ab8aecd-2056-4ab8-a895-7cb27eb62069",
   "metadata": {},
   "source": [
    "### CosMX Protein Annot Cluster Data Analysis\n",
    "\n",
    "This is an exploration of the CosMX protein data\n",
    "\n",
    "Goals\n",
    "* Load the data into the Anndata format. Currently R Data file. Likely need to convert to H5 then to Andata. "
   ]
  },
  {
   "cell_type": "code",
   "execution_count": null,
   "id": "6ae31e4c-de22-4511-bd9f-6843f2a90bf2",
   "metadata": {},
   "outputs": [],
   "source": []
  }
 ],
 "metadata": {
  "kernelspec": {
   "display_name": "Python [conda env:base] *",
   "language": "python",
   "name": "conda-base-py"
  },
  "language_info": {
   "codemirror_mode": {
    "name": "ipython",
    "version": 3
   },
   "file_extension": ".py",
   "mimetype": "text/x-python",
   "name": "python",
   "nbconvert_exporter": "python",
   "pygments_lexer": "ipython3",
   "version": "3.12.7"
  }
 },
 "nbformat": 4,
 "nbformat_minor": 5
}
